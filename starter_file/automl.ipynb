{
  "cells": [
    {
      "cell_type": "markdown",
      "source": [
        "# Automated ML\n",
        "\n",
        "TODO: Import Dependencies. In the cell below, import all the dependencies that you will need to complete the project."
      ],
      "metadata": {}
    },
    {
      "cell_type": "code",
      "source": [
        "from azureml.core import Workspace, Experiment, Dataset\n",
        "from azureml.core.compute import ComputeTarget, AmlCompute\n",
        "from azureml.core.compute_target import ComputeTargetException\n",
        "from azureml.data.dataset_factory import TabularDatasetFactory\n",
        "from azureml.train.automl import AutoMLConfig\n",
        "#from azureml.pipeline.core import PipelineData, TrainingOutput\n",
        "#from azureml.pipeline.core import Pipeline\n",
        "from azureml.widgets import RunDetails\n",
        "\n",
        "\n",
        "import pandas as pd\n",
        "import requests\n",
        "import logging\n",
        "import os\n",
        "import csv"
      ],
      "outputs": [],
      "execution_count": 1,
      "metadata": {
        "gather": {
          "logged": 1637479742228
        },
        "jupyter": {
          "outputs_hidden": false,
          "source_hidden": false
        },
        "nteract": {
          "transient": {
            "deleting": false
          }
        }
      }
    },
    {
      "cell_type": "markdown",
      "source": [
        "## ML setup + Dataset\n",
        "\n",
        "### Overview"
      ],
      "metadata": {}
    },
    {
      "cell_type": "markdown",
      "source": [
        "Retrieve dataset from kaggle (https://www.kaggle.com/ruthgn/wine-quality-data-set-red-white-wine?select=wine-quality-white-and-red.csv). \n",
        "\n",
        "Task: classification of wine quality"
      ],
      "metadata": {}
    },
    {
      "cell_type": "code",
      "source": [
        "url_wine_data=\"https://docs.google.com/spreadsheets/d/e/2PACX-1vQ0_ymTF3299kfZvr0KJq5JMLX7ZK4yRg9RXYTqEsMqm2eeUrABv_4MVQMzrqfw1CsbmcrnTqIluMA0/pub?output=csv\"\n",
        "wine_data = pd.read_csv(url_wine_data)\n",
        "description_data = \"This data set contains records related to red and white variants of the Portuguese Vinho Verde wine.\"\n",
        "print(wine_data.head())\n",
        "print(\"\")\n",
        "print(\"INFO\")\n",
        "print(wine_data.info())\n",
        "print(\"\")\n",
        "print(\"DESCRIPTION\")\n",
        "print(wine_data.describe())"
      ],
      "outputs": [
        {
          "output_type": "stream",
          "name": "stdout",
          "text": "    type  fixed acidity  volatile acidity  citric acid  residual sugar  \\\n0  white            7.0              0.27         0.36            20.7   \n1  white            6.3              0.30         0.34             1.6   \n2  white            8.1              0.28         0.40             6.9   \n3  white            7.2              0.23         0.32             8.5   \n4  white            7.2              0.23         0.32             8.5   \n\n   chlorides  free sulfur dioxide  total sulfur dioxide  density    pH  \\\n0      0.045                 45.0                 170.0   1.0010  3.00   \n1      0.049                 14.0                 132.0   0.9940  3.30   \n2      0.050                 30.0                  97.0   0.9951  3.26   \n3      0.058                 47.0                 186.0   0.9956  3.19   \n4      0.058                 47.0                 186.0   0.9956  3.19   \n\n   sulphates  alcohol  quality  \n0       0.45      8.8        6  \n1       0.49      9.5        6  \n2       0.44     10.1        6  \n3       0.40      9.9        6  \n4       0.40      9.9        6  \n\nINFO\n<class 'pandas.core.frame.DataFrame'>\nRangeIndex: 6497 entries, 0 to 6496\nData columns (total 13 columns):\ntype                    6497 non-null object\nfixed acidity           6497 non-null float64\nvolatile acidity        6497 non-null float64\ncitric acid             6497 non-null float64\nresidual sugar          6497 non-null float64\nchlorides               6497 non-null float64\nfree sulfur dioxide     6497 non-null float64\ntotal sulfur dioxide    6497 non-null float64\ndensity                 6497 non-null float64\npH                      6497 non-null float64\nsulphates               6497 non-null float64\nalcohol                 6497 non-null float64\nquality                 6497 non-null int64\ndtypes: float64(11), int64(1), object(1)\nmemory usage: 660.0+ KB\nNone\n\nDESCRIPTION\n       fixed acidity  volatile acidity  citric acid  residual sugar  \\\ncount    6497.000000       6497.000000  6497.000000     6497.000000   \nmean        7.215307          0.339666     0.318633        5.443235   \nstd         1.296434          0.164636     0.145318        4.757804   \nmin         3.800000          0.080000     0.000000        0.600000   \n25%         6.400000          0.230000     0.250000        1.800000   \n50%         7.000000          0.290000     0.310000        3.000000   \n75%         7.700000          0.400000     0.390000        8.100000   \nmax        15.900000          1.580000     1.660000       65.800000   \n\n         chlorides  free sulfur dioxide  total sulfur dioxide      density  \\\ncount  6497.000000          6497.000000           6497.000000  6497.000000   \nmean      0.056034            30.525319            115.744574     0.994697   \nstd       0.035034            17.749400             56.521855     0.002999   \nmin       0.009000             1.000000              6.000000     0.987110   \n25%       0.038000            17.000000             77.000000     0.992340   \n50%       0.047000            29.000000            118.000000     0.994890   \n75%       0.065000            41.000000            156.000000     0.996990   \nmax       0.611000           289.000000            440.000000     1.038980   \n\n                pH    sulphates      alcohol      quality  \ncount  6497.000000  6497.000000  6497.000000  6497.000000  \nmean      3.218501     0.531268    10.491801     5.818378  \nstd       0.160787     0.148806     1.192712     0.873255  \nmin       2.720000     0.220000     8.000000     3.000000  \n25%       3.110000     0.430000     9.500000     5.000000  \n50%       3.210000     0.510000    10.300000     6.000000  \n75%       3.320000     0.600000    11.300000     6.000000  \nmax       4.010000     2.000000    14.900000     9.000000  \n"
        }
      ],
      "execution_count": 2,
      "metadata": {
        "gather": {
          "logged": 1637479748632
        }
      }
    },
    {
      "cell_type": "markdown",
      "source": [
        "### Workspace and Experiment"
      ],
      "metadata": {}
    },
    {
      "cell_type": "code",
      "source": [
        "ws = Workspace.from_config()\n",
        "\n",
        "# choose a name for experiment\n",
        "experiment_name = 'Capstone_project'\n",
        "\n",
        "experiment=Experiment(ws, experiment_name)\n",
        "\n",
        "\n",
        "print('Workspace name: ' + ws.name, \n",
        "      'Azure region: ' + ws.location, \n",
        "      'Subscription id: ' + ws.subscription_id, \n",
        "      'Resource group: ' + ws.resource_group, sep = '\\n')"
      ],
      "outputs": [
        {
          "output_type": "stream",
          "name": "stdout",
          "text": "Performing interactive authentication. Please follow the instructions on the terminal.\nTo sign in, use a web browser to open the page https://microsoft.com/devicelogin and enter the code E9VVAHDM7 to authenticate.\nYou have logged in. Now let us find all the subscriptions to which you have access...\nInteractive authentication successfully completed.\nWorkspace name: quick-starts-ws-164108\nAzure region: southcentralus\nSubscription id: f9d5a085-54dc-4215-9ba6-dad5d86e60a0\nResource group: aml-quickstarts-164108\n"
        }
      ],
      "execution_count": 3,
      "metadata": {
        "gather": {
          "logged": 1637479770998
        },
        "jupyter": {
          "outputs_hidden": false,
          "source_hidden": false
        },
        "nteract": {
          "transient": {
            "deleting": false
          }
        }
      }
    },
    {
      "cell_type": "markdown",
      "source": [
        "### Compute Cluster"
      ],
      "metadata": {}
    },
    {
      "cell_type": "code",
      "source": [
        "# Create compute cluster\n",
        "# Use vm_size = \"STANDARD_DS2_V2\" \n",
        "\n",
        "cpu_cluster_name = 'auto-ml'\n",
        "try:\n",
        "    compute_target = ComputeTarget(workspace=ws,name=cpu_cluster_name)\n",
        "    print('existing cluster found and will be used')\n",
        "except ComputeTargetException:\n",
        "    compute_config = AmlCompute.provisioning_configuration(vm_size='Standard_DS12_v2', max_nodes=4)\n",
        "    compute_target = ComputeTarget.create(ws,cpu_cluster_name,compute_config)\n",
        "    compute_target.wait_for_completion(show_output=True)"
      ],
      "outputs": [
        {
          "output_type": "stream",
          "name": "stdout",
          "text": "InProgress....\nSucceededProvisioning operation finished, operation \"Succeeded\"\nSucceeded\nAmlCompute wait for completion finished\n\nMinimum number of nodes requested have been provisioned\n"
        }
      ],
      "execution_count": 4,
      "metadata": {
        "gather": {
          "logged": 1637479804647
        }
      }
    },
    {
      "cell_type": "markdown",
      "source": [
        "### Dataset"
      ],
      "metadata": {}
    },
    {
      "cell_type": "code",
      "source": [
        "#Getting default ds\n",
        "data_store = ws.get_default_datastore()\n",
        "print('get default datastore')\n",
        "\n",
        "#Registering dataframe as dataset in AzureML\n",
        "ds = Dataset.Tabular.register_pandas_dataframe(wine_data,data_store,'Wine_Data_Project3',description=description_data)\n",
        "ds = ds.register(workspace=ws, name='Wine_Data_Project3', description=description_data)\n",
        "\n",
        "print(\"dataset registered.\")"
      ],
      "outputs": [
        {
          "output_type": "stream",
          "name": "stderr",
          "text": "Method register_pandas_dataframe: This is an experimental method, and may change at any time. Please see https://aka.ms/azuremlexperimental for more information.\n"
        },
        {
          "output_type": "stream",
          "name": "stdout",
          "text": "get default datastore\nValidating arguments.\nArguments validated.\nSuccessfully obtained datastore reference and path.\nUploading file to managed-dataset/a3a6b08c-7aa2-4f74-aa73-c68d0c5ac307/\nSuccessfully uploaded file to datastore.\nCreating and registering a new dataset.\nSuccessfully created and registered a new dataset.\ndataset registered.\n"
        }
      ],
      "execution_count": 5,
      "metadata": {
        "gather": {
          "logged": 1637479816185
        }
      }
    },
    {
      "cell_type": "code",
      "source": [
        "ds.take(5).to_pandas_dataframe()"
      ],
      "outputs": [
        {
          "output_type": "execute_result",
          "execution_count": 6,
          "data": {
            "text/plain": "    type  fixed acidity  volatile acidity  citric acid  residual sugar  \\\n0  white            7.0              0.27         0.36            20.7   \n1  white            6.3              0.30         0.34             1.6   \n2  white            8.1              0.28         0.40             6.9   \n3  white            7.2              0.23         0.32             8.5   \n4  white            7.2              0.23         0.32             8.5   \n\n   chlorides  free sulfur dioxide  total sulfur dioxide  density    pH  \\\n0      0.045                 45.0                 170.0   1.0010  3.00   \n1      0.049                 14.0                 132.0   0.9940  3.30   \n2      0.050                 30.0                  97.0   0.9951  3.26   \n3      0.058                 47.0                 186.0   0.9956  3.19   \n4      0.058                 47.0                 186.0   0.9956  3.19   \n\n   sulphates  alcohol  quality  \n0       0.45      8.8        6  \n1       0.49      9.5        6  \n2       0.44     10.1        6  \n3       0.40      9.9        6  \n4       0.40      9.9        6  ",
            "text/html": "<div>\n<style scoped>\n    .dataframe tbody tr th:only-of-type {\n        vertical-align: middle;\n    }\n\n    .dataframe tbody tr th {\n        vertical-align: top;\n    }\n\n    .dataframe thead th {\n        text-align: right;\n    }\n</style>\n<table border=\"1\" class=\"dataframe\">\n  <thead>\n    <tr style=\"text-align: right;\">\n      <th></th>\n      <th>type</th>\n      <th>fixed acidity</th>\n      <th>volatile acidity</th>\n      <th>citric acid</th>\n      <th>residual sugar</th>\n      <th>chlorides</th>\n      <th>free sulfur dioxide</th>\n      <th>total sulfur dioxide</th>\n      <th>density</th>\n      <th>pH</th>\n      <th>sulphates</th>\n      <th>alcohol</th>\n      <th>quality</th>\n    </tr>\n  </thead>\n  <tbody>\n    <tr>\n      <th>0</th>\n      <td>white</td>\n      <td>7.0</td>\n      <td>0.27</td>\n      <td>0.36</td>\n      <td>20.7</td>\n      <td>0.045</td>\n      <td>45.0</td>\n      <td>170.0</td>\n      <td>1.0010</td>\n      <td>3.00</td>\n      <td>0.45</td>\n      <td>8.8</td>\n      <td>6</td>\n    </tr>\n    <tr>\n      <th>1</th>\n      <td>white</td>\n      <td>6.3</td>\n      <td>0.30</td>\n      <td>0.34</td>\n      <td>1.6</td>\n      <td>0.049</td>\n      <td>14.0</td>\n      <td>132.0</td>\n      <td>0.9940</td>\n      <td>3.30</td>\n      <td>0.49</td>\n      <td>9.5</td>\n      <td>6</td>\n    </tr>\n    <tr>\n      <th>2</th>\n      <td>white</td>\n      <td>8.1</td>\n      <td>0.28</td>\n      <td>0.40</td>\n      <td>6.9</td>\n      <td>0.050</td>\n      <td>30.0</td>\n      <td>97.0</td>\n      <td>0.9951</td>\n      <td>3.26</td>\n      <td>0.44</td>\n      <td>10.1</td>\n      <td>6</td>\n    </tr>\n    <tr>\n      <th>3</th>\n      <td>white</td>\n      <td>7.2</td>\n      <td>0.23</td>\n      <td>0.32</td>\n      <td>8.5</td>\n      <td>0.058</td>\n      <td>47.0</td>\n      <td>186.0</td>\n      <td>0.9956</td>\n      <td>3.19</td>\n      <td>0.40</td>\n      <td>9.9</td>\n      <td>6</td>\n    </tr>\n    <tr>\n      <th>4</th>\n      <td>white</td>\n      <td>7.2</td>\n      <td>0.23</td>\n      <td>0.32</td>\n      <td>8.5</td>\n      <td>0.058</td>\n      <td>47.0</td>\n      <td>186.0</td>\n      <td>0.9956</td>\n      <td>3.19</td>\n      <td>0.40</td>\n      <td>9.9</td>\n      <td>6</td>\n    </tr>\n  </tbody>\n</table>\n</div>"
          },
          "metadata": {}
        }
      ],
      "execution_count": 6,
      "metadata": {
        "gather": {
          "logged": 1637479820002
        }
      }
    },
    {
      "cell_type": "markdown",
      "source": [
        "## AutoML Configuration\n",
        "\n",
        "TODO: Explain why you chose the automl settings and cofiguration you used below."
      ],
      "metadata": {}
    },
    {
      "cell_type": "code",
      "source": [
        "# TODO: Put your automl settings here\n",
        "automl_settings = {\n",
        "       \"n_cross_validations\": 5,\n",
        "       \"primary_metric\": 'AUC_weighted',\n",
        "       \"enable_early_stopping\": True,\n",
        "       \"experiment_timeout_hours\": 1.0,\n",
        "       \"max_concurrent_iterations\": 4,\n",
        "       \"verbosity\": logging.INFO,\n",
        "   }\n",
        "\n",
        "# TODO: Put your automl config here\n",
        "automl_config = AutoMLConfig(\n",
        "    compute_target = compute_target,\n",
        "    task='classification',\n",
        "    training_data=ds,\n",
        "    label_column_name='quality',\n",
        "    **automl_settings)"
      ],
      "outputs": [],
      "execution_count": 7,
      "metadata": {
        "gather": {
          "logged": 1637479825889
        },
        "jupyter": {
          "outputs_hidden": false,
          "source_hidden": false
        },
        "nteract": {
          "transient": {
            "deleting": false
          }
        }
      }
    },
    {
      "cell_type": "code",
      "source": [
        "# TODO: Submit your experiment\n",
        "remote_run = experiment.submit(automl_config, show_output=True)"
      ],
      "outputs": [
        {
          "output_type": "stream",
          "name": "stdout",
          "text": "Submitting remote run.\nNo run_configuration provided, running on auto-ml with default configuration\nRunning on remote compute: auto-ml\n"
        },
        {
          "output_type": "display_data",
          "data": {
            "text/plain": "<IPython.core.display.HTML object>",
            "text/html": "<table style=\"width:100%\"><tr><th>Experiment</th><th>Id</th><th>Type</th><th>Status</th><th>Details Page</th><th>Docs Page</th></tr><tr><td>Capstone_project</td><td>AutoML_f205d8b0-a033-4b0a-810b-d5b1b2d129f9</td><td>automl</td><td>NotStarted</td><td><a href=\"https://ml.azure.com/runs/AutoML_f205d8b0-a033-4b0a-810b-d5b1b2d129f9?wsid=/subscriptions/f9d5a085-54dc-4215-9ba6-dad5d86e60a0/resourcegroups/aml-quickstarts-164108/workspaces/quick-starts-ws-164108&amp;tid=660b3398-b80e-49d2-bc5b-ac1dc93b5254\" target=\"_blank\" rel=\"noopener\">Link to Azure Machine Learning studio</a></td><td><a href=\"https://docs.microsoft.com/en-us/python/api/overview/azure/ml/intro?view=azure-ml-py\" target=\"_blank\" rel=\"noopener\">Link to Documentation</a></td></tr></table>"
          },
          "metadata": {}
        },
        {
          "output_type": "stream",
          "name": "stdout",
          "text": "\nCurrent status: FeaturesGeneration. Generating features for the dataset.\nCurrent status: DatasetCrossValidationSplit. Generating individually featurized CV splits.\nCurrent status: ModelSelection. Beginning model selection.\n\n****************************************************************************************************\nDATA GUARDRAILS: \n\nTYPE:         Class balancing detection\nSTATUS:       ALERTED\nDESCRIPTION:  To decrease model bias, please cancel the current run and fix balancing problem.\n              Learn more about imbalanced data: https://aka.ms/AutomatedMLImbalancedData\nDETAILS:      Imbalanced data can lead to a falsely perceived positive effect of a model's accuracy because the input data has bias towards one class.\n+---------------------------------+---------------------------------+--------------------------------------+\n|Size of the smallest class       |Name/Label of the smallest class |Number of samples in the training data|\n+=================================+=================================+======================================+\n|5                                |9                                |6497                                  |\n+---------------------------------+---------------------------------+--------------------------------------+\n\n****************************************************************************************************\n\nTYPE:         Missing feature values imputation\nSTATUS:       PASSED\nDESCRIPTION:  No feature missing values were detected in the training data.\n              Learn more about missing value imputation: https://aka.ms/AutomatedMLFeaturization\n\n****************************************************************************************************\n\nTYPE:         High cardinality feature detection\nSTATUS:       PASSED\nDESCRIPTION:  Your inputs were analyzed, and no high cardinality features were detected.\n              Learn more about high cardinality feature handling: https://aka.ms/AutomatedMLFeaturization\n\n****************************************************************************************************\n\n****************************************************************************************************\nITERATION: The iteration being evaluated.\nPIPELINE: A summary description of the pipeline being evaluated.\nDURATION: Time taken for the current iteration.\nMETRIC: The result of computing score on the fitted pipeline.\nBEST: The best observed score thus far.\n****************************************************************************************************\n\n ITERATION   PIPELINE                                       DURATION      METRIC      BEST\n         2   MaxAbsScaler ExtremeRandomTrees                0:00:25       0.7088    0.7088\n         0   MaxAbsScaler LightGBM                          0:01:01       0.8172    0.8172\n         1   MaxAbsScaler XGBoostClassifier                 0:01:34       0.7662    0.8172\n         4   StandardScalerWrapper LightGBM                 0:02:05       0.7382    0.8172\n         3   MaxAbsScaler RandomForest                      0:02:47       0.7420    0.8172\n         6   SparseNormalizer RandomForest                  0:01:30       0.6885    0.8172\n         5   SparseNormalizer XGBoostClassifier             0:02:20       0.7505    0.8172\n         7   MinMaxScaler RandomForest                      0:01:24       0.7161    0.8172\n        10   RobustScaler ExtremeRandomTrees                0:01:05       0.6709    0.8172\n         8   StandardScalerWrapper LogisticRegression       0:01:43       0.7239    0.8172\n         9   StandardScalerWrapper XGBoostClassifier        0:01:24       0.8069    0.8172\n        11   SparseNormalizer XGBoostClassifier             0:01:51       0.7795    0.8172\n        12   MinMaxScaler ExtremeRandomTrees                0:01:55       0.7249    0.8172\n        13   MinMaxScaler ExtremeRandomTrees                0:01:51       0.7160    0.8172\n        14   SparseNormalizer LightGBM                      0:01:49       0.7074    0.8172\n        15   MaxAbsScaler ExtremeRandomTrees                0:01:59       0.6971    0.8172\n        16   StandardScalerWrapper XGBoostClassifier        0:02:04       0.7845    0.8172\n        17   StandardScalerWrapper RandomForest             0:02:02       0.8644    0.8644\n        18   MaxAbsScaler LightGBM                          0:02:02       0.8121    0.8644\n        19   MaxAbsScaler LogisticRegression                0:01:57       0.6855    0.8644\n        20   StandardScalerWrapper ExtremeRandomTrees       0:01:58       0.7061    0.8644\n        21   StandardScalerWrapper XGBoostClassifier        0:01:55       0.7753    0.8644\n        22   MaxAbsScaler LogisticRegression                0:01:53       0.7202    0.8644\n        23   StandardScalerWrapper XGBoostClassifier        0:01:55       0.7820    0.8644\n        25   PCA RandomForest                               0:01:58       0.5475    0.8644\n        24   StandardScalerWrapper XGBoostClassifier        0:02:17       0.7983    0.8644\n        26   MaxAbsScaler LightGBM                          0:02:05       0.7760    0.8644\n        27   MinMaxScaler LightGBM                          0:02:07       0.7785    0.8644\n        28   MinMaxScaler LogisticRegression                0:01:55       0.7200    0.8644\n        29   MaxAbsScaler LogisticRegression                0:01:52       0.7195    0.8644\n        30   StandardScalerWrapper RandomForest             0:01:43       0.6549    0.8644\n        31   MinMaxScaler LogisticRegression                0:01:51       0.7221    0.8644\n        32   RobustScaler LightGBM                          0:02:04       0.7895    0.8644\n        33   StandardScalerWrapper LightGBM                 0:02:00       0.7886    0.8644\n        34   MaxAbsScaler LightGBM                          0:01:59       0.7656    0.8644\n        35                                                  0:00:45          nan    0.8644\n        36    VotingEnsemble                                0:00:56       0.8652    0.8652\n        37    StackEnsemble                                 0:01:47       0.8683    0.8683\n"
        }
      ],
      "execution_count": 8,
      "metadata": {
        "gather": {
          "logged": 1637481260059
        },
        "jupyter": {
          "outputs_hidden": false,
          "source_hidden": false
        },
        "nteract": {
          "transient": {
            "deleting": false
          }
        }
      }
    },
    {
      "cell_type": "markdown",
      "source": [
        "## Run Details\n",
        "\n",
        "OPTIONAL: Write about the different models trained and their performance. Why do you think some models did better than others?\n",
        "\n",
        "TODO: In the cell below, use the `RunDetails` widget to show the different experiments."
      ],
      "metadata": {}
    },
    {
      "cell_type": "code",
      "source": [
        "RunDetails(remote_run).show()\n",
        "remote_run.wait_for_completion()"
      ],
      "outputs": [
        {
          "output_type": "display_data",
          "data": {
            "text/plain": "_AutoMLWidget(widget_settings={'childWidgetDisplay': 'popup', 'send_telemetry': False, 'log_level': 'INFO', 's…",
            "application/vnd.jupyter.widget-view+json": {
              "version_major": 2,
              "version_minor": 0,
              "model_id": "74fa07453fc5469ebc6ea9b8ace64de9"
            }
          },
          "metadata": {}
        },
        {
          "output_type": "display_data",
          "data": {
            "application/aml.mini.widget.v1": "{\"status\": \"Completed\", \"workbench_run_details_uri\": \"https://ml.azure.com/runs/AutoML_f205d8b0-a033-4b0a-810b-d5b1b2d129f9?wsid=/subscriptions/f9d5a085-54dc-4215-9ba6-dad5d86e60a0/resourcegroups/aml-quickstarts-164108/workspaces/quick-starts-ws-164108&tid=660b3398-b80e-49d2-bc5b-ac1dc93b5254\", \"run_id\": \"AutoML_f205d8b0-a033-4b0a-810b-d5b1b2d129f9\", \"run_properties\": {\"run_id\": \"AutoML_f205d8b0-a033-4b0a-810b-d5b1b2d129f9\", \"created_utc\": \"2021-11-21T07:30:35.891299Z\", \"properties\": {\"num_iterations\": \"1000\", \"training_type\": \"TrainFull\", \"acquisition_function\": \"EI\", \"primary_metric\": \"AUC_weighted\", \"train_split\": \"0\", \"acquisition_parameter\": \"0\", \"num_cross_validation\": \"5\", \"target\": \"auto-ml\", \"AMLSettingsJsonString\": \"{\\\"path\\\":null,\\\"name\\\":\\\"Capstone_project\\\",\\\"subscription_id\\\":\\\"f9d5a085-54dc-4215-9ba6-dad5d86e60a0\\\",\\\"resource_group\\\":\\\"aml-quickstarts-164108\\\",\\\"workspace_name\\\":\\\"quick-starts-ws-164108\\\",\\\"region\\\":\\\"southcentralus\\\",\\\"compute_target\\\":\\\"auto-ml\\\",\\\"spark_service\\\":null,\\\"azure_service\\\":\\\"remote\\\",\\\"many_models\\\":false,\\\"pipeline_fetch_max_batch_size\\\":1,\\\"enable_batch_run\\\":false,\\\"enable_run_restructure\\\":false,\\\"start_auxiliary_runs_before_parent_complete\\\":false,\\\"enable_code_generation\\\":false,\\\"iterations\\\":1000,\\\"primary_metric\\\":\\\"AUC_weighted\\\",\\\"task_type\\\":\\\"classification\\\",\\\"data_script\\\":null,\\\"test_size\\\":0.0,\\\"test_include_predictions_only\\\":false,\\\"validation_size\\\":0.0,\\\"n_cross_validations\\\":5,\\\"y_min\\\":null,\\\"y_max\\\":null,\\\"num_classes\\\":null,\\\"featurization\\\":\\\"auto\\\",\\\"_ignore_package_version_incompatibilities\\\":false,\\\"is_timeseries\\\":false,\\\"max_cores_per_iteration\\\":1,\\\"max_concurrent_iterations\\\":4,\\\"iteration_timeout_minutes\\\":null,\\\"mem_in_mb\\\":null,\\\"enforce_time_on_windows\\\":false,\\\"experiment_timeout_minutes\\\":60,\\\"experiment_exit_score\\\":null,\\\"whitelist_models\\\":null,\\\"blacklist_algos\\\":[\\\"TensorFlowLinearClassifier\\\",\\\"TensorFlowDNN\\\"],\\\"supported_models\\\":[\\\"ExtremeRandomTrees\\\",\\\"RandomForest\\\",\\\"TensorFlowDNN\\\",\\\"AveragedPerceptronClassifier\\\",\\\"SVM\\\",\\\"XGBoostClassifier\\\",\\\"TensorFlowLinearClassifier\\\",\\\"BernoulliNaiveBayes\\\",\\\"SGD\\\",\\\"LogisticRegression\\\",\\\"DecisionTree\\\",\\\"MultinomialNaiveBayes\\\",\\\"LightGBM\\\",\\\"KNN\\\",\\\"GradientBoosting\\\",\\\"LinearSVM\\\"],\\\"private_models\\\":[],\\\"auto_blacklist\\\":true,\\\"blacklist_samples_reached\\\":false,\\\"exclude_nan_labels\\\":true,\\\"verbosity\\\":20,\\\"_debug_log\\\":\\\"azureml_automl.log\\\",\\\"show_warnings\\\":false,\\\"model_explainability\\\":true,\\\"service_url\\\":null,\\\"sdk_url\\\":null,\\\"sdk_packages\\\":null,\\\"enable_onnx_compatible_models\\\":false,\\\"enable_split_onnx_featurizer_estimator_models\\\":false,\\\"vm_type\\\":\\\"STANDARD_DS12_V2\\\",\\\"telemetry_verbosity\\\":20,\\\"send_telemetry\\\":true,\\\"enable_dnn\\\":false,\\\"scenario\\\":\\\"SDK-1.13.0\\\",\\\"environment_label\\\":null,\\\"save_mlflow\\\":false,\\\"force_text_dnn\\\":false,\\\"enable_feature_sweeping\\\":true,\\\"enable_early_stopping\\\":true,\\\"early_stopping_n_iters\\\":10,\\\"metrics\\\":null,\\\"enable_metric_confidence\\\":false,\\\"enable_ensembling\\\":true,\\\"enable_stack_ensembling\\\":true,\\\"ensemble_iterations\\\":15,\\\"enable_tf\\\":false,\\\"enable_subsampling\\\":null,\\\"subsample_seed\\\":null,\\\"enable_nimbusml\\\":false,\\\"enable_streaming\\\":false,\\\"force_streaming\\\":false,\\\"track_child_runs\\\":true,\\\"allowed_private_models\\\":[],\\\"label_column_name\\\":\\\"quality\\\",\\\"weight_column_name\\\":null,\\\"cv_split_column_names\\\":null,\\\"positive_label\\\":null,\\\"enable_local_managed\\\":false,\\\"_local_managed_run_id\\\":null,\\\"cost_mode\\\":1,\\\"lag_length\\\":0,\\\"metric_operation\\\":\\\"maximize\\\",\\\"preprocess\\\":true}\", \"DataPrepJsonString\": \"{\\\\\\\"training_data\\\\\\\": {\\\\\\\"datasetId\\\\\\\": \\\\\\\"e1100ed1-1647-49a5-9663-6d4c7d0585a0\\\\\\\"}, \\\\\\\"datasets\\\\\\\": 0}\", \"EnableSubsampling\": null, \"runTemplate\": \"AutoML\", \"azureml.runsource\": \"automl\", \"display_task_type\": \"classification\", \"dependencies_versions\": \"{\\\"azureml-widgets\\\": \\\"1.34.0\\\", \\\"azureml-train\\\": \\\"1.34.0\\\", \\\"azureml-train-restclients-hyperdrive\\\": \\\"1.34.0\\\", \\\"azureml-train-core\\\": \\\"1.34.0\\\", \\\"azureml-train-automl\\\": \\\"1.34.0\\\", \\\"azureml-train-automl-runtime\\\": \\\"1.34.0\\\", \\\"azureml-train-automl-client\\\": \\\"1.34.0\\\", \\\"azureml-tensorboard\\\": \\\"1.34.0\\\", \\\"azureml-telemetry\\\": \\\"1.34.0\\\", \\\"azureml-sdk\\\": \\\"1.34.0\\\", \\\"azureml-samples\\\": \\\"0+unknown\\\", \\\"azureml-responsibleai\\\": \\\"1.34.0\\\", \\\"azureml-pipeline\\\": \\\"1.34.0\\\", \\\"azureml-pipeline-steps\\\": \\\"1.34.0\\\", \\\"azureml-pipeline-core\\\": \\\"1.34.0\\\", \\\"azureml-opendatasets\\\": \\\"1.34.0\\\", \\\"azureml-mlflow\\\": \\\"1.34.0\\\", \\\"azureml-interpret\\\": \\\"1.34.0\\\", \\\"azureml-inference-server-http\\\": \\\"0.3.1\\\", \\\"azureml-explain-model\\\": \\\"1.34.0\\\", \\\"azureml-defaults\\\": \\\"1.34.0\\\", \\\"azureml-dataset-runtime\\\": \\\"1.34.0\\\", \\\"azureml-dataprep\\\": \\\"2.22.2\\\", \\\"azureml-dataprep-rslex\\\": \\\"1.20.1\\\", \\\"azureml-dataprep-native\\\": \\\"38.0.0\\\", \\\"azureml-datadrift\\\": \\\"1.34.0\\\", \\\"azureml-core\\\": \\\"1.34.0\\\", \\\"azureml-contrib-services\\\": \\\"1.34.0\\\", \\\"azureml-contrib-server\\\": \\\"1.34.0\\\", \\\"azureml-contrib-reinforcementlearning\\\": \\\"1.34.0\\\", \\\"azureml-contrib-pipeline-steps\\\": \\\"1.34.0\\\", \\\"azureml-contrib-notebook\\\": \\\"1.34.0\\\", \\\"azureml-contrib-fairness\\\": \\\"1.34.0\\\", \\\"azureml-contrib-dataset\\\": \\\"1.34.0\\\", \\\"azureml-contrib-automl-pipeline-steps\\\": \\\"1.34.0\\\", \\\"azureml-cli-common\\\": \\\"1.34.0\\\", \\\"azureml-automl-runtime\\\": \\\"1.34.0\\\", \\\"azureml-automl-dnn-nlp\\\": \\\"1.34.0\\\", \\\"azureml-automl-core\\\": \\\"1.34.0\\\", \\\"azureml-accel-models\\\": \\\"1.34.0\\\"}\", \"_aml_system_scenario_identification\": \"Remote.Parent\", \"ClientType\": \"SDK\", \"environment_cpu_name\": \"AzureML-AutoML\", \"environment_cpu_label\": \"prod\", \"environment_gpu_name\": \"AzureML-AutoML-GPU\", \"environment_gpu_label\": \"prod\", \"root_attribution\": \"automl\", \"attribution\": \"AutoML\", \"Orchestrator\": \"AutoML\", \"CancelUri\": \"https://southcentralus.api.azureml.ms/jasmine/v1.0/subscriptions/f9d5a085-54dc-4215-9ba6-dad5d86e60a0/resourceGroups/aml-quickstarts-164108/providers/Microsoft.MachineLearningServices/workspaces/quick-starts-ws-164108/experimentids/5b96f2c0-5273-44f2-a34b-347fef00d3b0/cancel/AutoML_f205d8b0-a033-4b0a-810b-d5b1b2d129f9\", \"ClientSdkVersion\": \"1.35.1\", \"snapshotId\": \"00000000-0000-0000-0000-000000000000\", \"SetupRunId\": \"AutoML_f205d8b0-a033-4b0a-810b-d5b1b2d129f9_setup\", \"SetupRunContainerId\": \"dcid.AutoML_f205d8b0-a033-4b0a-810b-d5b1b2d129f9_setup\", \"FeaturizationRunJsonPath\": \"featurizer_container.json\", \"FeaturizationRunId\": \"AutoML_f205d8b0-a033-4b0a-810b-d5b1b2d129f9_featurize\", \"ProblemInfoJsonString\": \"{\\\"dataset_num_categorical\\\": 0, \\\"is_sparse\\\": false, \\\"subsampling\\\": false, \\\"has_extra_col\\\": true, \\\"dataset_classes\\\": 7, \\\"dataset_features\\\": 12, \\\"dataset_samples\\\": 6497, \\\"single_frequency_class_detected\\\": false}\", \"ModelExplainRunId\": \"AutoML_f205d8b0-a033-4b0a-810b-d5b1b2d129f9_ModelExplain\"}, \"tags\": {\"model_explain_run\": \"best_run\", \"_aml_system_azureml.automlComponent\": \"AutoML\", \"pipeline_id\": \"\", \"score\": \"\", \"predicted_cost\": \"\", \"fit_time\": \"\", \"training_percent\": \"\", \"iteration\": \"\", \"run_preprocessor\": \"\", \"run_algorithm\": \"\", \"dynamic_whitelisting_iterations\": \"<25>;<30>;<35>;\", \"_aml_system_azureml.automl_early_exit_message\": \"No scores improved over last 20 iterations, so experiment stopped early. This early stopping behavior can be disabled by setting enable_early_stopping = False in AutoMLConfig for notebook/python SDK runs.\", \"automl_best_child_run_id\": \"AutoML_f205d8b0-a033-4b0a-810b-d5b1b2d129f9_37\", \"model_explain_best_run_child_id\": \"AutoML_f205d8b0-a033-4b0a-810b-d5b1b2d129f9_37\"}, \"end_time_utc\": \"2021-11-21T07:54:02.592211Z\", \"status\": \"Completed\", \"log_files\": {}, \"log_groups\": [], \"run_duration\": \"0:23:26\", \"run_number\": \"1\", \"run_queued_details\": {\"status\": \"Completed\", \"details\": null}}, \"child_runs\": [{\"run_id\": \"AutoML_f205d8b0-a033-4b0a-810b-d5b1b2d129f9_setup\", \"run_number\": 2, \"metric\": null, \"status\": \"Completed\", \"run_type\": \"azureml.scriptrun\", \"training_percent\": null, \"start_time\": \"2021-11-21T07:30:49.283107Z\", \"end_time\": \"2021-11-21T07:34:46.748947Z\", \"created_time\": \"2021-11-21T07:30:49.283107Z\", \"created_time_dt\": \"2021-11-21T07:30:49.283107Z\", \"duration\": \"0:03:57\", \"iteration\": null, \"goal\": null, \"run_name\": \"Completed\", \"run_properties\": null}, {\"run_id\": \"AutoML_f205d8b0-a033-4b0a-810b-d5b1b2d129f9_featurize\", \"run_number\": 3, \"metric\": null, \"status\": \"Completed\", \"run_type\": \"automl.featurization\", \"training_percent\": null, \"start_time\": \"2021-11-21T07:34:47.534035Z\", \"end_time\": \"2021-11-21T07:35:28.333183Z\", \"created_time\": \"2021-11-21T07:34:47.140663Z\", \"created_time_dt\": \"2021-11-21T07:34:47.140663Z\", \"duration\": \"0:00:41\", \"iteration\": null, \"goal\": null, \"run_name\": \"Completed\", \"run_properties\": null}, {\"run_id\": \"AutoML_f205d8b0-a033-4b0a-810b-d5b1b2d129f9_0\", \"run_number\": 5, \"metric\": null, \"status\": \"Completed\", \"run_type\": \"azureml.scriptrun\", \"training_percent\": \"100\", \"start_time\": \"2021-11-21T07:35:29.324589Z\", \"end_time\": \"2021-11-21T07:36:29.958483Z\", \"created_time\": \"2021-11-21T07:35:29.324589Z\", \"created_time_dt\": \"2021-11-21T07:35:29.324589Z\", \"duration\": \"0:01:00\", \"iteration\": \"0\", \"goal\": \"AUC_weighted_max\", \"run_name\": \"MaxAbsScaler, LightGBM\", \"run_properties\": \"copy=True\", \"primary_metric\": 0.81721816, \"best_metric\": 0.81721816}, {\"run_id\": \"AutoML_f205d8b0-a033-4b0a-810b-d5b1b2d129f9_2\", \"run_number\": 6, \"metric\": null, \"status\": \"Completed\", \"run_type\": \"azureml.scriptrun\", \"training_percent\": \"100\", \"start_time\": \"2021-11-21T07:35:29.365909Z\", \"end_time\": \"2021-11-21T07:35:54.779163Z\", \"created_time\": \"2021-11-21T07:35:29.365909Z\", \"created_time_dt\": \"2021-11-21T07:35:29.365909Z\", \"duration\": \"0:00:25\", \"iteration\": \"2\", \"goal\": \"AUC_weighted_max\", \"run_name\": \"MaxAbsScaler, ExtremeRandomTrees\", \"run_properties\": \"copy=True\", \"primary_metric\": 0.70882465, \"best_metric\": 0.81721816}, {\"run_id\": \"AutoML_f205d8b0-a033-4b0a-810b-d5b1b2d129f9_3\", \"run_number\": 7, \"metric\": null, \"status\": \"Completed\", \"run_type\": \"azureml.scriptrun\", \"training_percent\": \"100\", \"start_time\": \"2021-11-21T07:35:29.374202Z\", \"end_time\": \"2021-11-21T07:38:16.84395Z\", \"created_time\": \"2021-11-21T07:35:29.374202Z\", \"created_time_dt\": \"2021-11-21T07:35:29.374202Z\", \"duration\": \"0:02:47\", \"iteration\": \"3\", \"goal\": \"AUC_weighted_max\", \"run_name\": \"MaxAbsScaler, RandomForest\", \"run_properties\": \"copy=True\", \"primary_metric\": 0.74200052, \"best_metric\": 0.81721816}, {\"run_id\": \"AutoML_f205d8b0-a033-4b0a-810b-d5b1b2d129f9_1\", \"run_number\": 8, \"metric\": null, \"status\": \"Completed\", \"run_type\": \"azureml.scriptrun\", \"training_percent\": \"100\", \"start_time\": \"2021-11-21T07:35:29.368872Z\", \"end_time\": \"2021-11-21T07:37:03.375249Z\", \"created_time\": \"2021-11-21T07:35:29.368872Z\", \"created_time_dt\": \"2021-11-21T07:35:29.368872Z\", \"duration\": \"0:01:34\", \"iteration\": \"1\", \"goal\": \"AUC_weighted_max\", \"run_name\": \"MaxAbsScaler, XGBoostClassifier\", \"run_properties\": \"copy=True\", \"primary_metric\": 0.76620007, \"best_metric\": 0.81721816}, {\"run_id\": \"AutoML_f205d8b0-a033-4b0a-810b-d5b1b2d129f9_4\", \"run_number\": 9, \"metric\": null, \"status\": \"Completed\", \"run_type\": \"azureml.scriptrun\", \"training_percent\": \"100\", \"start_time\": \"2021-11-21T07:35:57.523135Z\", \"end_time\": \"2021-11-21T07:38:02.596017Z\", \"created_time\": \"2021-11-21T07:35:57.523135Z\", \"created_time_dt\": \"2021-11-21T07:35:57.523135Z\", \"duration\": \"0:02:05\", \"iteration\": \"4\", \"goal\": \"AUC_weighted_max\", \"run_name\": \"StandardScalerWrapper, LightGBM\", \"run_properties\": \"\\n    copy=True,\\n    with_mean=False,\\n    with_std=True\\n\", \"primary_metric\": 0.73823479, \"best_metric\": 0.81721816}, {\"run_id\": \"AutoML_f205d8b0-a033-4b0a-810b-d5b1b2d129f9_5\", \"run_number\": 10, \"metric\": null, \"status\": \"Completed\", \"run_type\": \"azureml.scriptrun\", \"training_percent\": \"100\", \"start_time\": \"2021-11-21T07:36:32.828449Z\", \"end_time\": \"2021-11-21T07:38:52.879285Z\", \"created_time\": \"2021-11-21T07:36:32.828449Z\", \"created_time_dt\": \"2021-11-21T07:36:32.828449Z\", \"duration\": \"0:02:20\", \"iteration\": \"5\", \"goal\": \"AUC_weighted_max\", \"run_name\": \"SparseNormalizer, XGBoostClassifier\", \"run_properties\": \"copy=True, norm='max'\", \"primary_metric\": 0.75054993, \"best_metric\": 0.81721816}, {\"run_id\": \"AutoML_f205d8b0-a033-4b0a-810b-d5b1b2d129f9_6\", \"run_number\": 11, \"metric\": null, \"status\": \"Completed\", \"run_type\": \"azureml.scriptrun\", \"training_percent\": \"100\", \"start_time\": \"2021-11-21T07:37:06.084985Z\", \"end_time\": \"2021-11-21T07:38:35.985094Z\", \"created_time\": \"2021-11-21T07:37:06.084985Z\", \"created_time_dt\": \"2021-11-21T07:37:06.084985Z\", \"duration\": \"0:01:29\", \"iteration\": \"6\", \"goal\": \"AUC_weighted_max\", \"run_name\": \"SparseNormalizer, RandomForest\", \"run_properties\": \"copy=True, norm='l2'\", \"primary_metric\": 0.68848796, \"best_metric\": 0.81721816}, {\"run_id\": \"AutoML_f205d8b0-a033-4b0a-810b-d5b1b2d129f9_7\", \"run_number\": 12, \"metric\": null, \"status\": \"Completed\", \"run_type\": \"azureml.scriptrun\", \"training_percent\": \"100\", \"start_time\": \"2021-11-21T07:38:05.27046Z\", \"end_time\": \"2021-11-21T07:39:28.784981Z\", \"created_time\": \"2021-11-21T07:38:05.27046Z\", \"created_time_dt\": \"2021-11-21T07:38:05.27046Z\", \"duration\": \"0:01:23\", \"iteration\": \"7\", \"goal\": \"AUC_weighted_max\", \"run_name\": \"MinMaxScaler, RandomForest\", \"run_properties\": \"copy=True, feature_range=(0, 1\", \"primary_metric\": 0.71607965, \"best_metric\": 0.81721816}, {\"run_id\": \"AutoML_f205d8b0-a033-4b0a-810b-d5b1b2d129f9_8\", \"run_number\": 13, \"metric\": null, \"status\": \"Completed\", \"run_type\": \"azureml.scriptrun\", \"training_percent\": \"100\", \"start_time\": \"2021-11-21T07:38:19.423393Z\", \"end_time\": \"2021-11-21T07:40:02.493461Z\", \"created_time\": \"2021-11-21T07:38:19.423393Z\", \"created_time_dt\": \"2021-11-21T07:38:19.423393Z\", \"duration\": \"0:01:43\", \"iteration\": \"8\", \"goal\": \"AUC_weighted_max\", \"run_name\": \"StandardScalerWrapper, LogisticRegression\", \"run_properties\": \"\\n    copy=True,\\n    with_mean=True,\\n    with_std=True\\n\", \"primary_metric\": 0.72394406, \"best_metric\": 0.81721816}, {\"run_id\": \"AutoML_f205d8b0-a033-4b0a-810b-d5b1b2d129f9_9\", \"run_number\": 14, \"metric\": null, \"status\": \"Completed\", \"run_type\": \"azureml.scriptrun\", \"training_percent\": \"100\", \"start_time\": \"2021-11-21T07:38:38.520929Z\", \"end_time\": \"2021-11-21T07:40:02.491707Z\", \"created_time\": \"2021-11-21T07:38:38.520929Z\", \"created_time_dt\": \"2021-11-21T07:38:38.520929Z\", \"duration\": \"0:01:23\", \"iteration\": \"9\", \"goal\": \"AUC_weighted_max\", \"run_name\": \"StandardScalerWrapper, XGBoostClassifier\", \"run_properties\": \"\\n    copy=True,\\n    with_mean=False,\\n    with_std=False\\n\", \"primary_metric\": 0.80689126, \"best_metric\": 0.81721816}, {\"run_id\": \"AutoML_f205d8b0-a033-4b0a-810b-d5b1b2d129f9_10\", \"run_number\": 15, \"metric\": null, \"status\": \"Completed\", \"run_type\": \"azureml.scriptrun\", \"training_percent\": \"100\", \"start_time\": \"2021-11-21T07:38:56.010125Z\", \"end_time\": \"2021-11-21T07:40:01.220995Z\", \"created_time\": \"2021-11-21T07:38:56.010125Z\", \"created_time_dt\": \"2021-11-21T07:38:56.010125Z\", \"duration\": \"0:01:05\", \"iteration\": \"10\", \"goal\": \"AUC_weighted_max\", \"run_name\": \"RobustScaler, ExtremeRandomTrees\", \"run_properties\": \"copy=True, quantile_range=[10, 90], with_centering=True,\\n             with_scaling=False\", \"primary_metric\": 0.67094758, \"best_metric\": 0.81721816}, {\"run_id\": \"AutoML_f205d8b0-a033-4b0a-810b-d5b1b2d129f9_11\", \"run_number\": 16, \"metric\": null, \"status\": \"Completed\", \"run_type\": \"azureml.scriptrun\", \"training_percent\": \"100\", \"start_time\": \"2021-11-21T07:39:31.400823Z\", \"end_time\": \"2021-11-21T07:41:22.229124Z\", \"created_time\": \"2021-11-21T07:39:31.400823Z\", \"created_time_dt\": \"2021-11-21T07:39:31.400823Z\", \"duration\": \"0:01:50\", \"iteration\": \"11\", \"goal\": \"AUC_weighted_max\", \"run_name\": \"SparseNormalizer, XGBoostClassifier\", \"run_properties\": \"copy=True, norm='max'\", \"primary_metric\": 0.77948061, \"best_metric\": 0.81721816}, {\"run_id\": \"AutoML_f205d8b0-a033-4b0a-810b-d5b1b2d129f9_12\", \"run_number\": 17, \"metric\": null, \"status\": \"Completed\", \"run_type\": \"azureml.scriptrun\", \"training_percent\": \"100\", \"start_time\": \"2021-11-21T07:40:04.500181Z\", \"end_time\": \"2021-11-21T07:41:59.391846Z\", \"created_time\": \"2021-11-21T07:40:04.500181Z\", \"created_time_dt\": \"2021-11-21T07:40:04.500181Z\", \"duration\": \"0:01:54\", \"iteration\": \"12\", \"goal\": \"AUC_weighted_max\", \"run_name\": \"MinMaxScaler, ExtremeRandomTrees\", \"run_properties\": \"copy=True, feature_range=(0, 1\", \"primary_metric\": 0.7249427, \"best_metric\": 0.81721816}, {\"run_id\": \"AutoML_f205d8b0-a033-4b0a-810b-d5b1b2d129f9_13\", \"run_number\": 18, \"metric\": null, \"status\": \"Completed\", \"run_type\": \"azureml.scriptrun\", \"training_percent\": \"100\", \"start_time\": \"2021-11-21T07:40:09.372037Z\", \"end_time\": \"2021-11-21T07:42:00.670845Z\", \"created_time\": \"2021-11-21T07:40:09.372037Z\", \"created_time_dt\": \"2021-11-21T07:40:09.372037Z\", \"duration\": \"0:01:51\", \"iteration\": \"13\", \"goal\": \"AUC_weighted_max\", \"run_name\": \"MinMaxScaler, ExtremeRandomTrees\", \"run_properties\": \"copy=True, feature_range=(0, 1\", \"primary_metric\": 0.71601485, \"best_metric\": 0.81721816}, {\"run_id\": \"AutoML_f205d8b0-a033-4b0a-810b-d5b1b2d129f9_14\", \"run_number\": 19, \"metric\": null, \"status\": \"Completed\", \"run_type\": \"azureml.scriptrun\", \"training_percent\": \"100\", \"start_time\": \"2021-11-21T07:40:09.412394Z\", \"end_time\": \"2021-11-21T07:41:57.980968Z\", \"created_time\": \"2021-11-21T07:40:09.412394Z\", \"created_time_dt\": \"2021-11-21T07:40:09.412394Z\", \"duration\": \"0:01:48\", \"iteration\": \"14\", \"goal\": \"AUC_weighted_max\", \"run_name\": \"SparseNormalizer, LightGBM\", \"run_properties\": \"copy=True, norm='l1'\", \"primary_metric\": 0.70738858, \"best_metric\": 0.81721816}, {\"run_id\": \"AutoML_f205d8b0-a033-4b0a-810b-d5b1b2d129f9_15\", \"run_number\": 20, \"metric\": null, \"status\": \"Completed\", \"run_type\": \"azureml.scriptrun\", \"training_percent\": \"100\", \"start_time\": \"2021-11-21T07:41:25.219528Z\", \"end_time\": \"2021-11-21T07:43:24.183743Z\", \"created_time\": \"2021-11-21T07:41:25.219528Z\", \"created_time_dt\": \"2021-11-21T07:41:25.219528Z\", \"duration\": \"0:01:58\", \"iteration\": \"15\", \"goal\": \"AUC_weighted_max\", \"run_name\": \"MaxAbsScaler, ExtremeRandomTrees\", \"run_properties\": \"copy=True\", \"primary_metric\": 0.69707613, \"best_metric\": 0.81721816}, {\"run_id\": \"AutoML_f205d8b0-a033-4b0a-810b-d5b1b2d129f9_16\", \"run_number\": 21, \"metric\": null, \"status\": \"Completed\", \"run_type\": \"azureml.scriptrun\", \"training_percent\": \"100\", \"start_time\": \"2021-11-21T07:42:00.967414Z\", \"end_time\": \"2021-11-21T07:44:04.764475Z\", \"created_time\": \"2021-11-21T07:42:00.967414Z\", \"created_time_dt\": \"2021-11-21T07:42:00.967414Z\", \"duration\": \"0:02:03\", \"iteration\": \"16\", \"goal\": \"AUC_weighted_max\", \"run_name\": \"StandardScalerWrapper, XGBoostClassifier\", \"run_properties\": \"\\n    copy=True,\\n    with_mean=False,\\n    with_std=False\\n\", \"primary_metric\": 0.78452429, \"best_metric\": 0.81721816}, {\"run_id\": \"AutoML_f205d8b0-a033-4b0a-810b-d5b1b2d129f9_17\", \"run_number\": 22, \"metric\": null, \"status\": \"Completed\", \"run_type\": \"azureml.scriptrun\", \"training_percent\": \"100\", \"start_time\": \"2021-11-21T07:42:04.622068Z\", \"end_time\": \"2021-11-21T07:44:06.738822Z\", \"created_time\": \"2021-11-21T07:42:04.622068Z\", \"created_time_dt\": \"2021-11-21T07:42:04.622068Z\", \"duration\": \"0:02:02\", \"iteration\": \"17\", \"goal\": \"AUC_weighted_max\", \"run_name\": \"StandardScalerWrapper, RandomForest\", \"run_properties\": \"\\n    copy=True,\\n    with_mean=False,\\n    with_std=False\\n\", \"primary_metric\": 0.86438895, \"best_metric\": 0.86438895}, {\"run_id\": \"AutoML_f205d8b0-a033-4b0a-810b-d5b1b2d129f9_18\", \"run_number\": 23, \"metric\": null, \"status\": \"Completed\", \"run_type\": \"azureml.scriptrun\", \"training_percent\": \"100\", \"start_time\": \"2021-11-21T07:42:04.646604Z\", \"end_time\": \"2021-11-21T07:44:06.160433Z\", \"created_time\": \"2021-11-21T07:42:04.646604Z\", \"created_time_dt\": \"2021-11-21T07:42:04.646604Z\", \"duration\": \"0:02:01\", \"iteration\": \"18\", \"goal\": \"AUC_weighted_max\", \"run_name\": \"MaxAbsScaler, LightGBM\", \"run_properties\": \"copy=True\", \"primary_metric\": 0.81207908, \"best_metric\": 0.86438895}, {\"run_id\": \"AutoML_f205d8b0-a033-4b0a-810b-d5b1b2d129f9_19\", \"run_number\": 24, \"metric\": null, \"status\": \"Completed\", \"run_type\": \"azureml.scriptrun\", \"training_percent\": \"100\", \"start_time\": \"2021-11-21T07:43:26.971347Z\", \"end_time\": \"2021-11-21T07:45:23.976666Z\", \"created_time\": \"2021-11-21T07:43:26.971347Z\", \"created_time_dt\": \"2021-11-21T07:43:26.971347Z\", \"duration\": \"0:01:57\", \"iteration\": \"19\", \"goal\": \"AUC_weighted_max\", \"run_name\": \"MaxAbsScaler, LogisticRegression\", \"run_properties\": \"copy=True\", \"primary_metric\": 0.68545095, \"best_metric\": 0.86438895}, {\"run_id\": \"AutoML_f205d8b0-a033-4b0a-810b-d5b1b2d129f9_20\", \"run_number\": 25, \"metric\": null, \"status\": \"Completed\", \"run_type\": \"azureml.scriptrun\", \"training_percent\": \"100\", \"start_time\": \"2021-11-21T07:44:07.399476Z\", \"end_time\": \"2021-11-21T07:46:05.742581Z\", \"created_time\": \"2021-11-21T07:44:07.399476Z\", \"created_time_dt\": \"2021-11-21T07:44:07.399476Z\", \"duration\": \"0:01:58\", \"iteration\": \"20\", \"goal\": \"AUC_weighted_max\", \"run_name\": \"StandardScalerWrapper, ExtremeRandomTrees\", \"run_properties\": \"\\n    copy=True,\\n    with_mean=False,\\n    with_std=True\\n\", \"primary_metric\": 0.70611402, \"best_metric\": 0.86438895}, {\"run_id\": \"AutoML_f205d8b0-a033-4b0a-810b-d5b1b2d129f9_21\", \"run_number\": 26, \"metric\": null, \"status\": \"Completed\", \"run_type\": \"azureml.scriptrun\", \"training_percent\": \"100\", \"start_time\": \"2021-11-21T07:44:11.028365Z\", \"end_time\": \"2021-11-21T07:46:06.278624Z\", \"created_time\": \"2021-11-21T07:44:11.028365Z\", \"created_time_dt\": \"2021-11-21T07:44:11.028365Z\", \"duration\": \"0:01:55\", \"iteration\": \"21\", \"goal\": \"AUC_weighted_max\", \"run_name\": \"StandardScalerWrapper, XGBoostClassifier\", \"run_properties\": \"\\n    copy=True,\\n    with_mean=False,\\n    with_std=False\\n\", \"primary_metric\": 0.77534179, \"best_metric\": 0.86438895}, {\"run_id\": \"AutoML_f205d8b0-a033-4b0a-810b-d5b1b2d129f9_22\", \"run_number\": 27, \"metric\": null, \"status\": \"Completed\", \"run_type\": \"azureml.scriptrun\", \"training_percent\": \"100\", \"start_time\": \"2021-11-21T07:44:11.06577Z\", \"end_time\": \"2021-11-21T07:46:03.875219Z\", \"created_time\": \"2021-11-21T07:44:11.06577Z\", \"created_time_dt\": \"2021-11-21T07:44:11.06577Z\", \"duration\": \"0:01:52\", \"iteration\": \"22\", \"goal\": \"AUC_weighted_max\", \"run_name\": \"MaxAbsScaler, LogisticRegression\", \"run_properties\": \"copy=True\", \"primary_metric\": 0.72016192, \"best_metric\": 0.86438895}, {\"run_id\": \"AutoML_f205d8b0-a033-4b0a-810b-d5b1b2d129f9_23\", \"run_number\": 28, \"metric\": null, \"status\": \"Completed\", \"run_type\": \"azureml.scriptrun\", \"training_percent\": \"100\", \"start_time\": \"2021-11-21T07:45:27.028275Z\", \"end_time\": \"2021-11-21T07:47:22.240014Z\", \"created_time\": \"2021-11-21T07:45:27.028275Z\", \"created_time_dt\": \"2021-11-21T07:45:27.028275Z\", \"duration\": \"0:01:55\", \"iteration\": \"23\", \"goal\": \"AUC_weighted_max\", \"run_name\": \"StandardScalerWrapper, XGBoostClassifier\", \"run_properties\": \"\\n    copy=True,\\n    with_mean=False,\\n    with_std=False\\n\", \"primary_metric\": 0.78204072, \"best_metric\": 0.86438895}, {\"run_id\": \"AutoML_f205d8b0-a033-4b0a-810b-d5b1b2d129f9_24\", \"run_number\": 29, \"metric\": null, \"status\": \"Completed\", \"run_type\": \"azureml.scriptrun\", \"training_percent\": \"100\", \"start_time\": \"2021-11-21T07:46:06.35957Z\", \"end_time\": \"2021-11-21T07:48:22.958552Z\", \"created_time\": \"2021-11-21T07:46:06.35957Z\", \"created_time_dt\": \"2021-11-21T07:46:06.35957Z\", \"duration\": \"0:02:16\", \"iteration\": \"24\", \"goal\": \"AUC_weighted_max\", \"run_name\": \"StandardScalerWrapper, XGBoostClassifier\", \"run_properties\": \"\\n    copy=True,\\n    with_mean=False,\\n    with_std=False\\n\", \"primary_metric\": 0.79830793, \"best_metric\": 0.86438895}, {\"run_id\": \"AutoML_f205d8b0-a033-4b0a-810b-d5b1b2d129f9_25\", \"run_number\": 30, \"metric\": null, \"status\": \"Completed\", \"run_type\": \"azureml.scriptrun\", \"training_percent\": \"100\", \"start_time\": \"2021-11-21T07:46:10.685171Z\", \"end_time\": \"2021-11-21T07:48:09.058847Z\", \"created_time\": \"2021-11-21T07:46:10.685171Z\", \"created_time_dt\": \"2021-11-21T07:46:10.685171Z\", \"duration\": \"0:01:58\", \"iteration\": \"25\", \"goal\": \"AUC_weighted_max\", \"run_name\": \"PCA, RandomForest\", \"run_properties\": \"copy=True, iterated_power='auto', n_components=0.10894736842105263,\\n    random_state=None, svd_solver='auto', tol=0.0, whiten=False\", \"primary_metric\": 0.54745848, \"best_metric\": 0.86438895}, {\"run_id\": \"AutoML_f205d8b0-a033-4b0a-810b-d5b1b2d129f9_26\", \"run_number\": 31, \"metric\": null, \"status\": \"Completed\", \"run_type\": \"azureml.scriptrun\", \"training_percent\": \"100\", \"start_time\": \"2021-11-21T07:46:10.710301Z\", \"end_time\": \"2021-11-21T07:48:15.713562Z\", \"created_time\": \"2021-11-21T07:46:10.710301Z\", \"created_time_dt\": \"2021-11-21T07:46:10.710301Z\", \"duration\": \"0:02:05\", \"iteration\": \"26\", \"goal\": \"AUC_weighted_max\", \"run_name\": \"MaxAbsScaler, LightGBM\", \"run_properties\": \"copy=True\", \"primary_metric\": 0.77604417, \"best_metric\": 0.86438895}, {\"run_id\": \"AutoML_f205d8b0-a033-4b0a-810b-d5b1b2d129f9_27\", \"run_number\": 32, \"metric\": null, \"status\": \"Completed\", \"run_type\": \"azureml.scriptrun\", \"training_percent\": \"100\", \"start_time\": \"2021-11-21T07:47:24.109311Z\", \"end_time\": \"2021-11-21T07:49:30.726612Z\", \"created_time\": \"2021-11-21T07:47:24.109311Z\", \"created_time_dt\": \"2021-11-21T07:47:24.109311Z\", \"duration\": \"0:02:06\", \"iteration\": \"27\", \"goal\": \"AUC_weighted_max\", \"run_name\": \"MinMaxScaler, LightGBM\", \"run_properties\": \"copy=True, feature_range=(0, 1\", \"primary_metric\": 0.7785201, \"best_metric\": 0.86438895}, {\"run_id\": \"AutoML_f205d8b0-a033-4b0a-810b-d5b1b2d129f9_28\", \"run_number\": 33, \"metric\": null, \"status\": \"Completed\", \"run_type\": \"azureml.scriptrun\", \"training_percent\": \"100\", \"start_time\": \"2021-11-21T07:48:11.099321Z\", \"end_time\": \"2021-11-21T07:50:06.551091Z\", \"created_time\": \"2021-11-21T07:48:11.099321Z\", \"created_time_dt\": \"2021-11-21T07:48:11.099321Z\", \"duration\": \"0:01:55\", \"iteration\": \"28\", \"goal\": \"AUC_weighted_max\", \"run_name\": \"MinMaxScaler, LogisticRegression\", \"run_properties\": \"copy=True, feature_range=(0, 1\", \"primary_metric\": 0.72000133, \"best_metric\": 0.86438895}, {\"run_id\": \"AutoML_f205d8b0-a033-4b0a-810b-d5b1b2d129f9_29\", \"run_number\": 34, \"metric\": null, \"status\": \"Completed\", \"run_type\": \"azureml.scriptrun\", \"training_percent\": \"100\", \"start_time\": \"2021-11-21T07:48:17.642738Z\", \"end_time\": \"2021-11-21T07:50:09.206227Z\", \"created_time\": \"2021-11-21T07:48:17.642738Z\", \"created_time_dt\": \"2021-11-21T07:48:17.642738Z\", \"duration\": \"0:01:51\", \"iteration\": \"29\", \"goal\": \"AUC_weighted_max\", \"run_name\": \"MaxAbsScaler, LogisticRegression\", \"run_properties\": \"copy=True\", \"primary_metric\": 0.7194558, \"best_metric\": 0.86438895}, {\"run_id\": \"AutoML_f205d8b0-a033-4b0a-810b-d5b1b2d129f9_30\", \"run_number\": 35, \"metric\": null, \"status\": \"Completed\", \"run_type\": \"azureml.scriptrun\", \"training_percent\": \"100\", \"start_time\": \"2021-11-21T07:48:25.971561Z\", \"end_time\": \"2021-11-21T07:50:08.546796Z\", \"created_time\": \"2021-11-21T07:48:25.971561Z\", \"created_time_dt\": \"2021-11-21T07:48:25.971561Z\", \"duration\": \"0:01:42\", \"iteration\": \"30\", \"goal\": \"AUC_weighted_max\", \"run_name\": \"StandardScalerWrapper, RandomForest\", \"run_properties\": \"\\n    copy=True,\\n    with_mean=False,\\n    with_std=False\\n\", \"primary_metric\": 0.65485805, \"best_metric\": 0.86438895}, {\"run_id\": \"AutoML_f205d8b0-a033-4b0a-810b-d5b1b2d129f9_31\", \"run_number\": 36, \"metric\": null, \"status\": \"Completed\", \"run_type\": \"azureml.scriptrun\", \"training_percent\": \"100\", \"start_time\": \"2021-11-21T07:49:32.845867Z\", \"end_time\": \"2021-11-21T07:51:23.890289Z\", \"created_time\": \"2021-11-21T07:49:32.845867Z\", \"created_time_dt\": \"2021-11-21T07:49:32.845867Z\", \"duration\": \"0:01:51\", \"iteration\": \"31\", \"goal\": \"AUC_weighted_max\", \"run_name\": \"MinMaxScaler, LogisticRegression\", \"run_properties\": \"copy=True, feature_range=(0, 1\", \"primary_metric\": 0.72207081, \"best_metric\": 0.86438895}, {\"run_id\": \"AutoML_f205d8b0-a033-4b0a-810b-d5b1b2d129f9_32\", \"run_number\": 37, \"metric\": null, \"status\": \"Canceled\", \"run_type\": \"azureml.scriptrun\", \"training_percent\": \"100\", \"start_time\": \"2021-11-21T07:50:08.477254Z\", \"end_time\": \"2021-11-21T07:52:12.158858Z\", \"created_time\": \"2021-11-21T07:50:08.477254Z\", \"created_time_dt\": \"2021-11-21T07:50:08.477254Z\", \"duration\": \"0:02:03\", \"iteration\": \"32\", \"goal\": \"AUC_weighted_max\", \"run_name\": \"RobustScaler, LightGBM\", \"run_properties\": \"copy=True, quantile_range=[25, 75], with_centering=True,\\n             with_scaling=True\", \"primary_metric\": 0.78950032, \"best_metric\": 0.86438895}, {\"run_id\": \"AutoML_f205d8b0-a033-4b0a-810b-d5b1b2d129f9_34\", \"run_number\": 38, \"metric\": null, \"status\": \"Completed\", \"run_type\": \"azureml.scriptrun\", \"training_percent\": \"100\", \"start_time\": \"2021-11-21T07:50:11.468543Z\", \"end_time\": \"2021-11-21T07:52:10.914915Z\", \"created_time\": \"2021-11-21T07:50:11.468543Z\", \"created_time_dt\": \"2021-11-21T07:50:11.468543Z\", \"duration\": \"0:01:59\", \"iteration\": \"34\", \"goal\": \"AUC_weighted_max\", \"run_name\": \"MaxAbsScaler, LightGBM\", \"run_properties\": \"copy=True\", \"primary_metric\": 0.76558293, \"best_metric\": 0.86438895}, {\"run_id\": \"AutoML_f205d8b0-a033-4b0a-810b-d5b1b2d129f9_33\", \"run_number\": 39, \"metric\": null, \"status\": \"Canceled\", \"run_type\": \"azureml.scriptrun\", \"training_percent\": \"100\", \"start_time\": \"2021-11-21T07:50:12.349233Z\", \"end_time\": \"2021-11-21T07:52:12.164286Z\", \"created_time\": \"2021-11-21T07:50:12.349233Z\", \"created_time_dt\": \"2021-11-21T07:50:12.349233Z\", \"duration\": \"0:01:59\", \"iteration\": \"33\", \"goal\": \"AUC_weighted_max\", \"run_name\": \"StandardScalerWrapper, LightGBM\", \"run_properties\": \"\\n    copy=True,\\n    with_mean=False,\\n    with_std=True\\n\", \"primary_metric\": 0.78864018, \"best_metric\": 0.86438895}, {\"run_id\": \"AutoML_f205d8b0-a033-4b0a-810b-d5b1b2d129f9_35\", \"run_number\": 40, \"metric\": null, \"status\": \"Canceled\", \"run_type\": \"azureml.scriptrun\", \"training_percent\": \"100\", \"start_time\": \"2021-11-21T07:51:27.050195Z\", \"end_time\": \"2021-11-21T07:52:12.203552Z\", \"created_time\": \"2021-11-21T07:51:27.050195Z\", \"created_time_dt\": \"2021-11-21T07:51:27.050195Z\", \"duration\": \"0:00:45\", \"iteration\": \"35\", \"goal\": null, \"run_name\": \"Canceled\", \"run_properties\": null}, {\"run_id\": \"AutoML_f205d8b0-a033-4b0a-810b-d5b1b2d129f9_36\", \"run_number\": 41, \"metric\": null, \"status\": \"Completed\", \"run_type\": \"azureml.scriptrun\", \"training_percent\": \"100\", \"start_time\": \"2021-11-21T07:52:13.390656Z\", \"end_time\": \"2021-11-21T07:53:08.891709Z\", \"created_time\": \"2021-11-21T07:52:13.390656Z\", \"created_time_dt\": \"2021-11-21T07:52:13.390656Z\", \"duration\": \"0:00:55\", \"iteration\": \"36\", \"goal\": \"AUC_weighted_max\", \"run_name\": \"VotingEnsemble\", \"run_properties\": \"\\n    estimators=[('17', Pipeline(\\n        memory=None,\\n        steps=[('standardscalerwrapper', StandardScalerWrapper(\\n            copy=True,\\n            with_mean=False,\\n            with_std=False\\n        \", \"primary_metric\": 0.8652306, \"best_metric\": 0.8652306}, {\"run_id\": \"AutoML_f205d8b0-a033-4b0a-810b-d5b1b2d129f9_37\", \"run_number\": 42, \"metric\": null, \"status\": \"Completed\", \"run_type\": \"azureml.scriptrun\", \"training_percent\": \"100\", \"start_time\": \"2021-11-21T07:52:13.401353Z\", \"end_time\": \"2021-11-21T07:54:00.894984Z\", \"created_time\": \"2021-11-21T07:52:13.401353Z\", \"created_time_dt\": \"2021-11-21T07:52:13.401353Z\", \"duration\": \"0:01:47\", \"iteration\": \"37\", \"goal\": \"AUC_weighted_max\", \"run_name\": \"StackEnsemble\", \"run_properties\": \"\\n    base_learners=[('17', Pipeline(\\n        memory=None,\\n        steps=[('standardscalerwrapper', StandardScalerWrapper(\\n            copy=True,\\n            with_mean=False,\\n            with_std=False\\n        \", \"primary_metric\": 0.86826761, \"best_metric\": 0.86826761}], \"children_metrics\": {\"categories\": [0], \"series\": {\"matthews_correlation\": [{\"categories\": [\"0\", \"1\", \"2\", \"3\", \"4\", \"5\", \"6\", \"7\", \"8\", \"9\", \"10\", \"11\", \"12\", \"13\", \"14\", \"15\", \"16\", \"17\", \"18\", \"19\", \"20\", \"21\", \"22\", \"23\", \"24\", \"25\", \"26\", \"27\", \"28\", \"29\", \"30\", \"31\", \"32\", \"33\", \"34\", \"36\", \"37\"], \"mode\": \"markers\", \"name\": \"matthews_correlation\", \"stepped\": false, \"type\": \"scatter\", \"data\": [0.4553735235900521, 0.3365243927068688, 0.23294189681539548, 0.28922180306129414, 0.27435285213264693, 0.3268714446207107, 0.22934095530670523, 0.254549881786255, 0.2748978149154608, 0.4381484963253248, 0.1427826966883771, 0.3815344737532965, 0.26347267604574015, 0.22341570141525904, 0.2240046412039834, 0.1893609401777711, 0.37424309869257505, 0.5165563301818304, 0.3912737866215241, 0.16033442966540443, 0.2057644495225571, 0.3651097045266466, 0.26089566801789493, 0.36889746920137956, 0.3988094140654642, 0.0027025446657163816, 0.36422862343660445, 0.36689416717360573, 0.2626261510275089, 0.2586757586076021, 0.18792658953327054, 0.2701590904952861, 0.38496660141250266, 0.3768215420830937, 0.3404591262126441, 0.5221815009131353, 0.5211393922465293]}, {\"categories\": [\"0\", \"1\", \"2\", \"3\", \"4\", \"5\", \"6\", \"7\", \"8\", \"9\", \"10\", \"11\", \"12\", \"13\", \"14\", \"15\", \"16\", \"17\", \"18\", \"19\", \"20\", \"21\", \"22\", \"23\", \"24\", \"25\", \"26\", \"27\", \"28\", \"29\", \"30\", \"31\", \"32\", \"33\", \"34\", \"36\", \"37\"], \"mode\": \"lines\", \"name\": \"matthews_correlation_max\", \"stepped\": true, \"type\": \"scatter\", \"data\": [0.4553735235900521, 0.4553735235900521, 0.4553735235900521, 0.4553735235900521, 0.4553735235900521, 0.4553735235900521, 0.4553735235900521, 0.4553735235900521, 0.4553735235900521, 0.4553735235900521, 0.4553735235900521, 0.4553735235900521, 0.4553735235900521, 0.4553735235900521, 0.4553735235900521, 0.4553735235900521, 0.4553735235900521, 0.5165563301818304, 0.5165563301818304, 0.5165563301818304, 0.5165563301818304, 0.5165563301818304, 0.5165563301818304, 0.5165563301818304, 0.5165563301818304, 0.5165563301818304, 0.5165563301818304, 0.5165563301818304, 0.5165563301818304, 0.5165563301818304, 0.5165563301818304, 0.5165563301818304, 0.5165563301818304, 0.5165563301818304, 0.5165563301818304, 0.5221815009131353, 0.5221815009131353]}], \"f1_score_weighted\": [{\"categories\": [\"0\", \"1\", \"2\", \"3\", \"4\", \"5\", \"6\", \"7\", \"8\", \"9\", \"10\", \"11\", \"12\", \"13\", \"14\", \"15\", \"16\", \"17\", \"18\", \"19\", \"20\", \"21\", \"22\", \"23\", \"24\", \"25\", \"26\", \"27\", \"28\", \"29\", \"30\", \"31\", \"32\", \"33\", \"34\", \"36\", \"37\"], \"mode\": \"markers\", \"name\": \"f1_score_weighted\", \"stepped\": false, \"type\": \"scatter\", \"data\": [0.6361858255832634, 0.5528579948507766, 0.4623137358746067, 0.5182852233648466, 0.49519882806583315, 0.5435916013446389, 0.39606366661942943, 0.48682476014095394, 0.5138692941649621, 0.6199520375153365, 0.323361711586692, 0.5812155162390571, 0.4920831462877925, 0.3977926646230666, 0.45474111507644677, 0.3460998427982499, 0.5776180131807782, 0.6745518000914054, 0.5778370899839518, 0.3553481794723399, 0.3798886863117176, 0.5723909036748326, 0.49115594487003345, 0.5747032843004948, 0.5959169778757843, 0.27896305617915484, 0.5727507244736908, 0.5755306954154986, 0.49276840043369197, 0.489797796352679, 0.42968229837146155, 0.5081374217521311, 0.586373952879172, 0.5797737736741497, 0.557434564234458, 0.6779117633892717, 0.6784915587888734]}, {\"categories\": [\"0\", \"1\", \"2\", \"3\", \"4\", \"5\", \"6\", \"7\", \"8\", \"9\", \"10\", \"11\", \"12\", \"13\", \"14\", \"15\", \"16\", \"17\", \"18\", \"19\", \"20\", \"21\", \"22\", \"23\", \"24\", \"25\", \"26\", \"27\", \"28\", \"29\", \"30\", \"31\", \"32\", \"33\", \"34\", \"36\", \"37\"], \"mode\": \"lines\", \"name\": \"f1_score_weighted_max\", \"stepped\": true, \"type\": \"scatter\", \"data\": [0.6361858255832634, 0.6361858255832634, 0.6361858255832634, 0.6361858255832634, 0.6361858255832634, 0.6361858255832634, 0.6361858255832634, 0.6361858255832634, 0.6361858255832634, 0.6361858255832634, 0.6361858255832634, 0.6361858255832634, 0.6361858255832634, 0.6361858255832634, 0.6361858255832634, 0.6361858255832634, 0.6361858255832634, 0.6745518000914054, 0.6745518000914054, 0.6745518000914054, 0.6745518000914054, 0.6745518000914054, 0.6745518000914054, 0.6745518000914054, 0.6745518000914054, 0.6745518000914054, 0.6745518000914054, 0.6745518000914054, 0.6745518000914054, 0.6745518000914054, 0.6745518000914054, 0.6745518000914054, 0.6745518000914054, 0.6745518000914054, 0.6745518000914054, 0.6779117633892717, 0.6784915587888734]}], \"precision_score_micro\": [{\"categories\": [\"0\", \"1\", \"2\", \"3\", \"4\", \"5\", \"6\", \"7\", \"8\", \"9\", \"10\", \"11\", \"12\", \"13\", \"14\", \"15\", \"16\", \"17\", \"18\", \"19\", \"20\", \"21\", \"22\", \"23\", \"24\", \"25\", \"26\", \"27\", \"28\", \"29\", \"30\", \"31\", \"32\", \"33\", \"34\", \"36\", \"37\"], \"mode\": \"markers\", \"name\": \"precision_score_micro\", \"stepped\": false, \"type\": \"scatter\", \"data\": [0.6478377450109553, 0.58011535500681, 0.5259380588618464, 0.5550261147628354, 0.548871202700302, 0.5758061230532363, 0.38202108130514595, 0.537634274886007, 0.543943151536685, 0.6406018831053474, 0.30198578788417124, 0.6073602179191094, 0.5427122638716172, 0.37678474566234377, 0.5219327293184106, 0.33799798661692426, 0.6025876709895185, 0.687393853259904, 0.6142853082252622, 0.31290815420145673, 0.35816142594895484, 0.5962759519156748, 0.5407119085687215, 0.598583999526263, 0.6152067270681589, 0.43066228459761946, 0.5951960679812874, 0.5964293243323266, 0.5417889500799431, 0.5394803102978623, 0.49592254396873336, 0.5424049268668206, 0.6068965476401966, 0.6032023449991117, 0.5818070705276248, 0.6910875821637946, 0.6890868715580032]}, {\"categories\": [\"0\", \"1\", \"2\", \"3\", \"4\", \"5\", \"6\", \"7\", \"8\", \"9\", \"10\", \"11\", \"12\", \"13\", \"14\", \"15\", \"16\", \"17\", \"18\", \"19\", \"20\", \"21\", \"22\", \"23\", \"24\", \"25\", \"26\", \"27\", \"28\", \"29\", \"30\", \"31\", \"32\", \"33\", \"34\", \"36\", \"37\"], \"mode\": \"lines\", \"name\": \"precision_score_micro_max\", \"stepped\": true, \"type\": \"scatter\", \"data\": [0.6478377450109553, 0.6478377450109553, 0.6478377450109553, 0.6478377450109553, 0.6478377450109553, 0.6478377450109553, 0.6478377450109553, 0.6478377450109553, 0.6478377450109553, 0.6478377450109553, 0.6478377450109553, 0.6478377450109553, 0.6478377450109553, 0.6478377450109553, 0.6478377450109553, 0.6478377450109553, 0.6478377450109553, 0.687393853259904, 0.687393853259904, 0.687393853259904, 0.687393853259904, 0.687393853259904, 0.687393853259904, 0.687393853259904, 0.687393853259904, 0.687393853259904, 0.687393853259904, 0.687393853259904, 0.687393853259904, 0.687393853259904, 0.687393853259904, 0.687393853259904, 0.687393853259904, 0.687393853259904, 0.687393853259904, 0.6910875821637946, 0.6910875821637946]}], \"AUC_macro\": [{\"categories\": [\"0\", \"1\", \"2\", \"3\", \"4\", \"5\", \"6\", \"7\", \"8\", \"9\", \"10\", \"11\", \"12\", \"13\", \"14\", \"15\", \"16\", \"17\", \"18\", \"19\", \"20\", \"21\", \"22\", \"23\", \"24\", \"25\", \"26\", \"27\", \"28\", \"29\", \"30\", \"31\", \"32\", \"33\", \"34\", \"36\", \"37\"], \"mode\": \"markers\", \"name\": \"AUC_macro\", \"stepped\": false, \"type\": \"scatter\", \"data\": [0.8423153945007626, 0.8012338668748498, 0.755288834523447, 0.7724433418349116, 0.7868957122974177, 0.7181527128676729, 0.7415602060428605, 0.7299388239944757, 0.7782627357348862, 0.7697246564163146, 0.733211649659046, 0.7372889638730274, 0.7539944064584466, 0.772622080608987, 0.7291100155924779, 0.766177475675897, 0.7764745818992116, 0.834879541135099, 0.8225708341218464, 0.73961435662872, 0.7707632198165083, 0.7328512227549806, 0.7752188619763171, 0.7877752046565141, 0.8262502410035024, 0.6101992834534399, 0.767057398027992, 0.7550030173031492, 0.7649812609944966, 0.7549124804278387, 0.6669664563943556, 0.7663021588681972, 0.7482152556990656, 0.7414510537462831, 0.7461449235474257, 0.8594079832378215, 0.8890134726904204]}, {\"categories\": [\"0\", \"1\", \"2\", \"3\", \"4\", \"5\", \"6\", \"7\", \"8\", \"9\", \"10\", \"11\", \"12\", \"13\", \"14\", \"15\", \"16\", \"17\", \"18\", \"19\", \"20\", \"21\", \"22\", \"23\", \"24\", \"25\", \"26\", \"27\", \"28\", \"29\", \"30\", \"31\", \"32\", \"33\", \"34\", \"36\", \"37\"], \"mode\": \"lines\", \"name\": \"AUC_macro_max\", \"stepped\": true, \"type\": \"scatter\", \"data\": [0.8423153945007626, 0.8423153945007626, 0.8423153945007626, 0.8423153945007626, 0.8423153945007626, 0.8423153945007626, 0.8423153945007626, 0.8423153945007626, 0.8423153945007626, 0.8423153945007626, 0.8423153945007626, 0.8423153945007626, 0.8423153945007626, 0.8423153945007626, 0.8423153945007626, 0.8423153945007626, 0.8423153945007626, 0.8423153945007626, 0.8423153945007626, 0.8423153945007626, 0.8423153945007626, 0.8423153945007626, 0.8423153945007626, 0.8423153945007626, 0.8423153945007626, 0.8423153945007626, 0.8423153945007626, 0.8423153945007626, 0.8423153945007626, 0.8423153945007626, 0.8423153945007626, 0.8423153945007626, 0.8423153945007626, 0.8423153945007626, 0.8423153945007626, 0.8594079832378215, 0.8890134726904204]}], \"precision_score_macro\": [{\"categories\": [\"0\", \"1\", \"2\", \"3\", \"4\", \"5\", \"6\", \"7\", \"8\", \"9\", \"10\", \"11\", \"12\", \"13\", \"14\", \"15\", \"16\", \"17\", \"18\", \"19\", \"20\", \"21\", \"22\", \"23\", \"24\", \"25\", \"26\", \"27\", \"28\", \"29\", \"30\", \"31\", \"32\", \"33\", \"34\", \"36\", \"37\"], \"mode\": \"markers\", \"name\": \"precision_score_macro\", \"stepped\": false, \"type\": \"scatter\", \"data\": [0.4660734917511669, 0.4268676766152225, 0.18650896734526037, 0.25016058802780244, 0.24913270295927306, 0.46934199258147735, 0.2619487127401844, 0.24566717910804298, 0.38983533566760864, 0.5322884546289418, 0.22359270303395581, 0.44470550806489645, 0.2455145684718064, 0.25537299375621486, 0.2374299956380818, 0.2461525328802463, 0.4653291740140689, 0.5641031771515423, 0.44980778988579295, 0.2333623839005255, 0.2494135909255845, 0.4567299565305226, 0.33247420058480476, 0.4127465588152033, 0.4749504288063141, 0.07476121423537657, 0.45297131448071604, 0.4463541424665324, 0.306726548786886, 0.3301718092313165, 0.14709237016588814, 0.3075536795706904, 0.4445973565194536, 0.4379858363874364, 0.4475823586271822, 0.5723220067566357, 0.5270015496385412]}, {\"categories\": [\"0\", \"1\", \"2\", \"3\", \"4\", \"5\", \"6\", \"7\", \"8\", \"9\", \"10\", \"11\", \"12\", \"13\", \"14\", \"15\", \"16\", \"17\", \"18\", \"19\", \"20\", \"21\", \"22\", \"23\", \"24\", \"25\", \"26\", \"27\", \"28\", \"29\", \"30\", \"31\", \"32\", \"33\", \"34\", \"36\", \"37\"], \"mode\": \"lines\", \"name\": \"precision_score_macro_max\", \"stepped\": true, \"type\": \"scatter\", \"data\": [0.4660734917511669, 0.4660734917511669, 0.4660734917511669, 0.4660734917511669, 0.4660734917511669, 0.46934199258147735, 0.46934199258147735, 0.46934199258147735, 0.46934199258147735, 0.5322884546289418, 0.5322884546289418, 0.5322884546289418, 0.5322884546289418, 0.5322884546289418, 0.5322884546289418, 0.5322884546289418, 0.5322884546289418, 0.5641031771515423, 0.5641031771515423, 0.5641031771515423, 0.5641031771515423, 0.5641031771515423, 0.5641031771515423, 0.5641031771515423, 0.5641031771515423, 0.5641031771515423, 0.5641031771515423, 0.5641031771515423, 0.5641031771515423, 0.5641031771515423, 0.5641031771515423, 0.5641031771515423, 0.5641031771515423, 0.5641031771515423, 0.5641031771515423, 0.5723220067566357, 0.5723220067566357]}], \"recall_score_micro\": [{\"categories\": [\"0\", \"1\", \"2\", \"3\", \"4\", \"5\", \"6\", \"7\", \"8\", \"9\", \"10\", \"11\", \"12\", \"13\", \"14\", \"15\", \"16\", \"17\", \"18\", \"19\", \"20\", \"21\", \"22\", \"23\", \"24\", \"25\", \"26\", \"27\", \"28\", \"29\", \"30\", \"31\", \"32\", \"33\", \"34\", \"36\", \"37\"], \"mode\": \"markers\", \"name\": \"recall_score_micro\", \"stepped\": false, \"type\": \"scatter\", \"data\": [0.6478377450109553, 0.58011535500681, 0.5259380588618464, 0.5550261147628354, 0.548871202700302, 0.5758061230532363, 0.38202108130514595, 0.537634274886007, 0.543943151536685, 0.6406018831053474, 0.30198578788417124, 0.6073602179191094, 0.5427122638716172, 0.37678474566234377, 0.5219327293184106, 0.33799798661692426, 0.6025876709895185, 0.687393853259904, 0.6142853082252622, 0.31290815420145673, 0.35816142594895484, 0.5962759519156748, 0.5407119085687215, 0.598583999526263, 0.6152067270681589, 0.43066228459761946, 0.5951960679812874, 0.5964293243323266, 0.5417889500799431, 0.5394803102978623, 0.49592254396873336, 0.5424049268668206, 0.6068965476401966, 0.6032023449991117, 0.5818070705276248, 0.6910875821637946, 0.6890868715580032]}, {\"categories\": [\"0\", \"1\", \"2\", \"3\", \"4\", \"5\", \"6\", \"7\", \"8\", \"9\", \"10\", \"11\", \"12\", \"13\", \"14\", \"15\", \"16\", \"17\", \"18\", \"19\", \"20\", \"21\", \"22\", \"23\", \"24\", \"25\", \"26\", \"27\", \"28\", \"29\", \"30\", \"31\", \"32\", \"33\", \"34\", \"36\", \"37\"], \"mode\": \"lines\", \"name\": \"recall_score_micro_max\", \"stepped\": true, \"type\": \"scatter\", \"data\": [0.6478377450109553, 0.6478377450109553, 0.6478377450109553, 0.6478377450109553, 0.6478377450109553, 0.6478377450109553, 0.6478377450109553, 0.6478377450109553, 0.6478377450109553, 0.6478377450109553, 0.6478377450109553, 0.6478377450109553, 0.6478377450109553, 0.6478377450109553, 0.6478377450109553, 0.6478377450109553, 0.6478377450109553, 0.687393853259904, 0.687393853259904, 0.687393853259904, 0.687393853259904, 0.687393853259904, 0.687393853259904, 0.687393853259904, 0.687393853259904, 0.687393853259904, 0.687393853259904, 0.687393853259904, 0.687393853259904, 0.687393853259904, 0.687393853259904, 0.687393853259904, 0.687393853259904, 0.687393853259904, 0.687393853259904, 0.6910875821637946, 0.6910875821637946]}], \"average_precision_score_micro\": [{\"categories\": [\"0\", \"1\", \"2\", \"3\", \"4\", \"5\", \"6\", \"7\", \"8\", \"9\", \"10\", \"11\", \"12\", \"13\", \"14\", \"15\", \"16\", \"17\", \"18\", \"19\", \"20\", \"21\", \"22\", \"23\", \"24\", \"25\", \"26\", \"27\", \"28\", \"29\", \"30\", \"31\", \"32\", \"33\", \"34\", \"36\", \"37\"], \"mode\": \"markers\", \"name\": \"average_precision_score_micro\", \"stepped\": false, \"type\": \"scatter\", \"data\": [0.6797662079052917, 0.5994413191132338, 0.5280184613541175, 0.5717075335227995, 0.5612511060419004, 0.5928802487677591, 0.3753752651330401, 0.5447098587380357, 0.545563586648634, 0.6788526253777798, 0.2485286301660689, 0.6395405818901786, 0.5526649437958928, 0.37875742142432134, 0.5257754066916596, 0.32231151584810885, 0.6275364684105059, 0.7767754451601785, 0.6537252792437428, 0.2901710927973472, 0.352340857294344, 0.6171873468400595, 0.5433248174392935, 0.6253556145188137, 0.6484321533184427, 0.39696750734696096, 0.6164429964692438, 0.6148590772093472, 0.5433456186091503, 0.5423631536500384, 0.4728061121400932, 0.5436888536408716, 0.635113496465106, 0.6349823801167357, 0.5966868564315713, 0.7784129664704842, 0.7829092519165048]}, {\"categories\": [\"0\", \"1\", \"2\", \"3\", \"4\", \"5\", \"6\", \"7\", \"8\", \"9\", \"10\", \"11\", \"12\", \"13\", \"14\", \"15\", \"16\", \"17\", \"18\", \"19\", \"20\", \"21\", \"22\", \"23\", \"24\", \"25\", \"26\", \"27\", \"28\", \"29\", \"30\", \"31\", \"32\", \"33\", \"34\", \"36\", \"37\"], \"mode\": \"lines\", \"name\": \"average_precision_score_micro_max\", \"stepped\": true, \"type\": \"scatter\", \"data\": [0.6797662079052917, 0.6797662079052917, 0.6797662079052917, 0.6797662079052917, 0.6797662079052917, 0.6797662079052917, 0.6797662079052917, 0.6797662079052917, 0.6797662079052917, 0.6797662079052917, 0.6797662079052917, 0.6797662079052917, 0.6797662079052917, 0.6797662079052917, 0.6797662079052917, 0.6797662079052917, 0.6797662079052917, 0.7767754451601785, 0.7767754451601785, 0.7767754451601785, 0.7767754451601785, 0.7767754451601785, 0.7767754451601785, 0.7767754451601785, 0.7767754451601785, 0.7767754451601785, 0.7767754451601785, 0.7767754451601785, 0.7767754451601785, 0.7767754451601785, 0.7767754451601785, 0.7767754451601785, 0.7767754451601785, 0.7767754451601785, 0.7767754451601785, 0.7784129664704842, 0.7829092519165048]}], \"recall_score_macro\": [{\"categories\": [\"0\", \"1\", \"2\", \"3\", \"4\", \"5\", \"6\", \"7\", \"8\", \"9\", \"10\", \"11\", \"12\", \"13\", \"14\", \"15\", \"16\", \"17\", \"18\", \"19\", \"20\", \"21\", \"22\", \"23\", \"24\", \"25\", \"26\", \"27\", \"28\", \"29\", \"30\", \"31\", \"32\", \"33\", \"34\", \"36\", \"37\"], \"mode\": \"markers\", \"name\": \"recall_score_macro\", \"stepped\": false, \"type\": \"scatter\", \"data\": [0.3444079057380166, 0.2540046623048674, 0.2021441412265211, 0.2283234882594986, 0.2147742238603616, 0.256749595366702, 0.3648748673938683, 0.21207522849230936, 0.2503295395186153, 0.3099024130730608, 0.31883779349047675, 0.27406182794175715, 0.2140819775905558, 0.3464588620610211, 0.1970890164492649, 0.3963840681910391, 0.2797957265290959, 0.3740837131867136, 0.26006430137975445, 0.3378290006161473, 0.38605289506261425, 0.2728989524523673, 0.21917839893327057, 0.27535132795700934, 0.29476035290244884, 0.14850376037441596, 0.274806573518824, 0.28013868638620265, 0.21656332390787866, 0.21849362075666887, 0.1933307604229798, 0.22976971417030834, 0.2856354395198, 0.275649120127099, 0.26409837921637985, 0.37512644176329435, 0.38608847051288375]}, {\"categories\": [\"0\", \"1\", \"2\", \"3\", \"4\", \"5\", \"6\", \"7\", \"8\", \"9\", \"10\", \"11\", \"12\", \"13\", \"14\", \"15\", \"16\", \"17\", \"18\", \"19\", \"20\", \"21\", \"22\", \"23\", \"24\", \"25\", \"26\", \"27\", \"28\", \"29\", \"30\", \"31\", \"32\", \"33\", \"34\", \"36\", \"37\"], \"mode\": \"lines\", \"name\": \"recall_score_macro_max\", \"stepped\": true, \"type\": \"scatter\", \"data\": [0.3444079057380166, 0.3444079057380166, 0.3444079057380166, 0.3444079057380166, 0.3444079057380166, 0.3444079057380166, 0.3648748673938683, 0.3648748673938683, 0.3648748673938683, 0.3648748673938683, 0.3648748673938683, 0.3648748673938683, 0.3648748673938683, 0.3648748673938683, 0.3648748673938683, 0.3963840681910391, 0.3963840681910391, 0.3963840681910391, 0.3963840681910391, 0.3963840681910391, 0.3963840681910391, 0.3963840681910391, 0.3963840681910391, 0.3963840681910391, 0.3963840681910391, 0.3963840681910391, 0.3963840681910391, 0.3963840681910391, 0.3963840681910391, 0.3963840681910391, 0.3963840681910391, 0.3963840681910391, 0.3963840681910391, 0.3963840681910391, 0.3963840681910391, 0.3963840681910391, 0.3963840681910391]}], \"balanced_accuracy\": [{\"categories\": [\"0\", \"1\", \"2\", \"3\", \"4\", \"5\", \"6\", \"7\", \"8\", \"9\", \"10\", \"11\", \"12\", \"13\", \"14\", \"15\", \"16\", \"17\", \"18\", \"19\", \"20\", \"21\", \"22\", \"23\", \"24\", \"25\", \"26\", \"27\", \"28\", \"29\", \"30\", \"31\", \"32\", \"33\", \"34\", \"36\", \"37\"], \"mode\": \"markers\", \"name\": \"balanced_accuracy\", \"stepped\": false, \"type\": \"scatter\", \"data\": [0.3444079057380166, 0.2540046623048674, 0.2021441412265211, 0.2283234882594986, 0.2147742238603616, 0.256749595366702, 0.3648748673938683, 0.21207522849230936, 0.2503295395186153, 0.3099024130730608, 0.31883779349047675, 0.27406182794175715, 0.2140819775905558, 0.3464588620610211, 0.1970890164492649, 0.3963840681910391, 0.2797957265290959, 0.3740837131867136, 0.26006430137975445, 0.3378290006161473, 0.38605289506261425, 0.2728989524523673, 0.21917839893327057, 0.27535132795700934, 0.29476035290244884, 0.14850376037441596, 0.274806573518824, 0.28013868638620265, 0.21656332390787866, 0.21849362075666887, 0.1933307604229798, 0.22976971417030834, 0.2856354395198, 0.275649120127099, 0.26409837921637985, 0.37512644176329435, 0.38608847051288375]}, {\"categories\": [\"0\", \"1\", \"2\", \"3\", \"4\", \"5\", \"6\", \"7\", \"8\", \"9\", \"10\", \"11\", \"12\", \"13\", \"14\", \"15\", \"16\", \"17\", \"18\", \"19\", \"20\", \"21\", \"22\", \"23\", \"24\", \"25\", \"26\", \"27\", \"28\", \"29\", \"30\", \"31\", \"32\", \"33\", \"34\", \"36\", \"37\"], \"mode\": \"lines\", \"name\": \"balanced_accuracy_max\", \"stepped\": true, \"type\": \"scatter\", \"data\": [0.3444079057380166, 0.3444079057380166, 0.3444079057380166, 0.3444079057380166, 0.3444079057380166, 0.3444079057380166, 0.3648748673938683, 0.3648748673938683, 0.3648748673938683, 0.3648748673938683, 0.3648748673938683, 0.3648748673938683, 0.3648748673938683, 0.3648748673938683, 0.3648748673938683, 0.3963840681910391, 0.3963840681910391, 0.3963840681910391, 0.3963840681910391, 0.3963840681910391, 0.3963840681910391, 0.3963840681910391, 0.3963840681910391, 0.3963840681910391, 0.3963840681910391, 0.3963840681910391, 0.3963840681910391, 0.3963840681910391, 0.3963840681910391, 0.3963840681910391, 0.3963840681910391, 0.3963840681910391, 0.3963840681910391, 0.3963840681910391, 0.3963840681910391, 0.3963840681910391, 0.3963840681910391]}], \"AUC_weighted\": [{\"categories\": [\"0\", \"1\", \"2\", \"3\", \"4\", \"5\", \"6\", \"7\", \"8\", \"9\", \"10\", \"11\", \"12\", \"13\", \"14\", \"15\", \"16\", \"17\", \"18\", \"19\", \"20\", \"21\", \"22\", \"23\", \"24\", \"25\", \"26\", \"27\", \"28\", \"29\", \"30\", \"31\", \"32\", \"33\", \"34\", \"36\", \"37\"], \"mode\": \"markers\", \"name\": \"AUC_weighted\", \"stepped\": false, \"type\": \"scatter\", \"data\": [0.8172181639347667, 0.7662000727821707, 0.7088246493812049, 0.7420005230289958, 0.7382347854858102, 0.7505499311873187, 0.688487956195831, 0.71607964970973, 0.7239440564681259, 0.8068912581685701, 0.6709475822008082, 0.7794806113097291, 0.7249426976078794, 0.7160148499423562, 0.7073885767678729, 0.6970761299032395, 0.7845242915623011, 0.8643889517118492, 0.8120790773003215, 0.6854509505263751, 0.706114021399952, 0.7753417917336611, 0.7201619172567024, 0.7820407233184563, 0.7983079310080671, 0.5474584793866506, 0.7760441678623307, 0.7785201007556168, 0.7200013310166662, 0.7194557951339966, 0.6548580464962435, 0.7220708067591634, 0.789500316017732, 0.788640178975929, 0.7655829275896808, 0.8652306041087845, 0.868267605779604]}, {\"categories\": [\"0\", \"1\", \"2\", \"3\", \"4\", \"5\", \"6\", \"7\", \"8\", \"9\", \"10\", \"11\", \"12\", \"13\", \"14\", \"15\", \"16\", \"17\", \"18\", \"19\", \"20\", \"21\", \"22\", \"23\", \"24\", \"25\", \"26\", \"27\", \"28\", \"29\", \"30\", \"31\", \"32\", \"33\", \"34\", \"36\", \"37\"], \"mode\": \"lines\", \"name\": \"AUC_weighted_max\", \"stepped\": true, \"type\": \"scatter\", \"data\": [0.8172181639347667, 0.8172181639347667, 0.8172181639347667, 0.8172181639347667, 0.8172181639347667, 0.8172181639347667, 0.8172181639347667, 0.8172181639347667, 0.8172181639347667, 0.8172181639347667, 0.8172181639347667, 0.8172181639347667, 0.8172181639347667, 0.8172181639347667, 0.8172181639347667, 0.8172181639347667, 0.8172181639347667, 0.8643889517118492, 0.8643889517118492, 0.8643889517118492, 0.8643889517118492, 0.8643889517118492, 0.8643889517118492, 0.8643889517118492, 0.8643889517118492, 0.8643889517118492, 0.8643889517118492, 0.8643889517118492, 0.8643889517118492, 0.8643889517118492, 0.8643889517118492, 0.8643889517118492, 0.8643889517118492, 0.8643889517118492, 0.8643889517118492, 0.8652306041087845, 0.868267605779604]}], \"log_loss\": [{\"categories\": [\"0\", \"1\", \"2\", \"3\", \"4\", \"5\", \"6\", \"7\", \"8\", \"9\", \"10\", \"11\", \"12\", \"13\", \"14\", \"15\", \"16\", \"17\", \"18\", \"19\", \"20\", \"21\", \"22\", \"23\", \"24\", \"25\", \"26\", \"27\", \"28\", \"29\", \"30\", \"31\", \"32\", \"33\", \"34\", \"36\", \"37\"], \"mode\": \"markers\", \"name\": \"log_loss\", \"stepped\": false, \"type\": \"scatter\", \"data\": [0.9202420431606508, 0.9979659388495632, 1.1166726517199184, 1.0580666176492466, 1.0882869681460003, 1.359456654875362, 1.453261484415557, 1.0946484603192155, 1.07228133365165, 1.2804177479846455, 1.7272054853125116, 1.3239814575460676, 1.0848318518537403, 1.4701574957153194, 1.1394418248759022, 1.7177200479543857, 1.0680523908291746, 0.9359409356474264, 1.03759492550019, 1.5843358086067674, 1.53146978981137, 1.3120403011184554, 1.0781257063017875, 1.3060099549686843, 0.9392855174553156, 1.256209615448564, 0.9841906177973501, 0.974706036304552, 1.0776824463473225, 1.0790489473607183, 1.1803558667253147, 1.074204117273896, 0.9608612643205291, 0.9631869780329485, 0.9980111546578041, 0.8202833855868488, 0.7836821279805288]}, {\"categories\": [\"0\", \"1\", \"2\", \"3\", \"4\", \"5\", \"6\", \"7\", \"8\", \"9\", \"10\", \"11\", \"12\", \"13\", \"14\", \"15\", \"16\", \"17\", \"18\", \"19\", \"20\", \"21\", \"22\", \"23\", \"24\", \"25\", \"26\", \"27\", \"28\", \"29\", \"30\", \"31\", \"32\", \"33\", \"34\", \"36\", \"37\"], \"mode\": \"lines\", \"name\": \"log_loss_min\", \"stepped\": true, \"type\": \"scatter\", \"data\": [0.9202420431606508, 0.9202420431606508, 0.9202420431606508, 0.9202420431606508, 0.9202420431606508, 0.9202420431606508, 0.9202420431606508, 0.9202420431606508, 0.9202420431606508, 0.9202420431606508, 0.9202420431606508, 0.9202420431606508, 0.9202420431606508, 0.9202420431606508, 0.9202420431606508, 0.9202420431606508, 0.9202420431606508, 0.9202420431606508, 0.9202420431606508, 0.9202420431606508, 0.9202420431606508, 0.9202420431606508, 0.9202420431606508, 0.9202420431606508, 0.9202420431606508, 0.9202420431606508, 0.9202420431606508, 0.9202420431606508, 0.9202420431606508, 0.9202420431606508, 0.9202420431606508, 0.9202420431606508, 0.9202420431606508, 0.9202420431606508, 0.9202420431606508, 0.8202833855868488, 0.7836821279805288]}], \"precision_score_weighted\": [{\"categories\": [\"0\", \"1\", \"2\", \"3\", \"4\", \"5\", \"6\", \"7\", \"8\", \"9\", \"10\", \"11\", \"12\", \"13\", \"14\", \"15\", \"16\", \"17\", \"18\", \"19\", \"20\", \"21\", \"22\", \"23\", \"24\", \"25\", \"26\", \"27\", \"28\", \"29\", \"30\", \"31\", \"32\", \"33\", \"34\", \"36\", \"37\"], \"mode\": \"markers\", \"name\": \"precision_score_weighted\", \"stepped\": false, \"type\": \"scatter\", \"data\": [0.6468162591507871, 0.582881667196483, 0.44146681739092025, 0.5243452849856433, 0.5230134507227222, 0.5889804530292176, 0.5214121944440124, 0.5108957715859256, 0.5282400715595241, 0.6538620796063552, 0.47018341298105293, 0.6104801821225125, 0.5138819091929274, 0.5193092026689683, 0.49827524094998327, 0.5020293111392321, 0.6062083126401082, 0.6959878276974109, 0.6297865787871209, 0.48773218865422213, 0.5099058832682228, 0.5996313212012575, 0.5210583547087947, 0.5917802677420081, 0.6174692068600749, 0.21302260735795103, 0.595446553507766, 0.5969408544443099, 0.5231580509599189, 0.5182428250741073, 0.38037938761119505, 0.519279828614348, 0.6045465550506522, 0.6002862682228077, 0.5851394986610616, 0.7012761041450618, 0.6899665587793075]}, {\"categories\": [\"0\", \"1\", \"2\", \"3\", \"4\", \"5\", \"6\", \"7\", \"8\", \"9\", \"10\", \"11\", \"12\", \"13\", \"14\", \"15\", \"16\", \"17\", \"18\", \"19\", \"20\", \"21\", \"22\", \"23\", \"24\", \"25\", \"26\", \"27\", \"28\", \"29\", \"30\", \"31\", \"32\", \"33\", \"34\", \"36\", \"37\"], \"mode\": \"lines\", \"name\": \"precision_score_weighted_max\", \"stepped\": true, \"type\": \"scatter\", \"data\": [0.6468162591507871, 0.6468162591507871, 0.6468162591507871, 0.6468162591507871, 0.6468162591507871, 0.6468162591507871, 0.6468162591507871, 0.6468162591507871, 0.6468162591507871, 0.6538620796063552, 0.6538620796063552, 0.6538620796063552, 0.6538620796063552, 0.6538620796063552, 0.6538620796063552, 0.6538620796063552, 0.6538620796063552, 0.6959878276974109, 0.6959878276974109, 0.6959878276974109, 0.6959878276974109, 0.6959878276974109, 0.6959878276974109, 0.6959878276974109, 0.6959878276974109, 0.6959878276974109, 0.6959878276974109, 0.6959878276974109, 0.6959878276974109, 0.6959878276974109, 0.6959878276974109, 0.6959878276974109, 0.6959878276974109, 0.6959878276974109, 0.6959878276974109, 0.7012761041450618, 0.7012761041450618]}], \"norm_macro_recall\": [{\"categories\": [\"0\", \"1\", \"2\", \"3\", \"4\", \"5\", \"6\", \"7\", \"8\", \"9\", \"10\", \"11\", \"12\", \"13\", \"14\", \"15\", \"16\", \"17\", \"18\", \"19\", \"20\", \"21\", \"22\", \"23\", \"24\", \"25\", \"26\", \"27\", \"28\", \"29\", \"30\", \"31\", \"32\", \"33\", \"34\", \"36\", \"37\"], \"mode\": \"markers\", \"name\": \"norm_macro_recall\", \"stepped\": false, \"type\": \"scatter\", \"data\": [0.24462651826821574, 0.13482425848142815, 0.06397382421588652, 0.09472736729286538, 0.07879397695240845, 0.12811940417264728, 0.2706409937918518, 0.07565792171317423, 0.12083383950111018, 0.19031886911120421, 0.22928500439409608, 0.14849606413940825, 0.07797315004156113, 0.2517116212007455, 0.05804720067945468, 0.3149374238818328, 0.15517378701470896, 0.26574430784853437, 0.1320518875693228, 0.2432478723745822, 0.2984624208823974, 0.14708441699824146, 0.08399525885545843, 0.14997298054148392, 0.172729297770113, 0.0010321648812630683, 0.1493368671850867, 0.15562833983387664, 0.08096062575628553, 0.08318664729758751, 0.053654102839202265, 0.09644366419703146, 0.16200150134350508, 0.1503492242206746, 0.13675398914648468, 0.26697202881838944, 0.27982921796126964]}, {\"categories\": [\"0\", \"1\", \"2\", \"3\", \"4\", \"5\", \"6\", \"7\", \"8\", \"9\", \"10\", \"11\", \"12\", \"13\", \"14\", \"15\", \"16\", \"17\", \"18\", \"19\", \"20\", \"21\", \"22\", \"23\", \"24\", \"25\", \"26\", \"27\", \"28\", \"29\", \"30\", \"31\", \"32\", \"33\", \"34\", \"36\", \"37\"], \"mode\": \"lines\", \"name\": \"norm_macro_recall_max\", \"stepped\": true, \"type\": \"scatter\", \"data\": [0.24462651826821574, 0.24462651826821574, 0.24462651826821574, 0.24462651826821574, 0.24462651826821574, 0.24462651826821574, 0.2706409937918518, 0.2706409937918518, 0.2706409937918518, 0.2706409937918518, 0.2706409937918518, 0.2706409937918518, 0.2706409937918518, 0.2706409937918518, 0.2706409937918518, 0.3149374238818328, 0.3149374238818328, 0.3149374238818328, 0.3149374238818328, 0.3149374238818328, 0.3149374238818328, 0.3149374238818328, 0.3149374238818328, 0.3149374238818328, 0.3149374238818328, 0.3149374238818328, 0.3149374238818328, 0.3149374238818328, 0.3149374238818328, 0.3149374238818328, 0.3149374238818328, 0.3149374238818328, 0.3149374238818328, 0.3149374238818328, 0.3149374238818328, 0.3149374238818328, 0.3149374238818328]}], \"f1_score_micro\": [{\"categories\": [\"0\", \"1\", \"2\", \"3\", \"4\", \"5\", \"6\", \"7\", \"8\", \"9\", \"10\", \"11\", \"12\", \"13\", \"14\", \"15\", \"16\", \"17\", \"18\", \"19\", \"20\", \"21\", \"22\", \"23\", \"24\", \"25\", \"26\", \"27\", \"28\", \"29\", \"30\", \"31\", \"32\", \"33\", \"34\", \"36\", \"37\"], \"mode\": \"markers\", \"name\": \"f1_score_micro\", \"stepped\": false, \"type\": \"scatter\", \"data\": [0.6478377450109553, 0.58011535500681, 0.5259380588618464, 0.5550261147628354, 0.548871202700302, 0.5758061230532363, 0.38202108130514595, 0.537634274886007, 0.543943151536685, 0.6406018831053474, 0.30198578788417124, 0.6073602179191094, 0.5427122638716172, 0.37678474566234377, 0.5219327293184106, 0.33799798661692426, 0.6025876709895185, 0.687393853259904, 0.6142853082252622, 0.31290815420145673, 0.35816142594895484, 0.5962759519156748, 0.5407119085687215, 0.598583999526263, 0.6152067270681589, 0.43066228459761946, 0.5951960679812874, 0.5964293243323266, 0.5417889500799431, 0.5394803102978623, 0.49592254396873336, 0.5424049268668206, 0.6068965476401966, 0.6032023449991117, 0.5818070705276248, 0.6910875821637946, 0.6890868715580032]}, {\"categories\": [\"0\", \"1\", \"2\", \"3\", \"4\", \"5\", \"6\", \"7\", \"8\", \"9\", \"10\", \"11\", \"12\", \"13\", \"14\", \"15\", \"16\", \"17\", \"18\", \"19\", \"20\", \"21\", \"22\", \"23\", \"24\", \"25\", \"26\", \"27\", \"28\", \"29\", \"30\", \"31\", \"32\", \"33\", \"34\", \"36\", \"37\"], \"mode\": \"lines\", \"name\": \"f1_score_micro_max\", \"stepped\": true, \"type\": \"scatter\", \"data\": [0.6478377450109553, 0.6478377450109553, 0.6478377450109553, 0.6478377450109553, 0.6478377450109553, 0.6478377450109553, 0.6478377450109553, 0.6478377450109553, 0.6478377450109553, 0.6478377450109553, 0.6478377450109553, 0.6478377450109553, 0.6478377450109553, 0.6478377450109553, 0.6478377450109553, 0.6478377450109553, 0.6478377450109553, 0.687393853259904, 0.687393853259904, 0.687393853259904, 0.687393853259904, 0.687393853259904, 0.687393853259904, 0.687393853259904, 0.687393853259904, 0.687393853259904, 0.687393853259904, 0.687393853259904, 0.687393853259904, 0.687393853259904, 0.687393853259904, 0.687393853259904, 0.687393853259904, 0.687393853259904, 0.687393853259904, 0.6910875821637946, 0.6910875821637946]}], \"average_precision_score_macro\": [{\"categories\": [\"0\", \"1\", \"2\", \"3\", \"4\", \"5\", \"6\", \"7\", \"8\", \"9\", \"10\", \"11\", \"12\", \"13\", \"14\", \"15\", \"16\", \"17\", \"18\", \"19\", \"20\", \"21\", \"22\", \"23\", \"24\", \"25\", \"26\", \"27\", \"28\", \"29\", \"30\", \"31\", \"32\", \"33\", \"34\", \"36\", \"37\"], \"mode\": \"markers\", \"name\": \"average_precision_score_macro\", \"stepped\": false, \"type\": \"scatter\", \"data\": [0.4335575837619226, 0.3648016160216348, 0.2697891667743482, 0.29676607675185124, 0.3322985055177921, 0.34368903840571136, 0.30534201318909243, 0.27462570759765675, 0.31974943938468425, 0.4100180179807392, 0.25442305180369973, 0.36830137906418237, 0.2876604482110975, 0.2939786450188138, 0.2754915562137906, 0.2900585520555727, 0.38093687547418487, 0.48780371170708586, 0.38388103294761133, 0.2660958222327654, 0.28963789815934, 0.3635613406266563, 0.31196932018867873, 0.37525021345856924, 0.3993034125839502, 0.16316559343733497, 0.34422271691115597, 0.3495306535859627, 0.3008848857559483, 0.3024640578857872, 0.2135303141271922, 0.2927155048464528, 0.3616532764158975, 0.3596331830763596, 0.3364101552082937, 0.4998691360844011, 0.5031831040588051]}, {\"categories\": [\"0\", \"1\", \"2\", \"3\", \"4\", \"5\", \"6\", \"7\", \"8\", \"9\", \"10\", \"11\", \"12\", \"13\", \"14\", \"15\", \"16\", \"17\", \"18\", \"19\", \"20\", \"21\", \"22\", \"23\", \"24\", \"25\", \"26\", \"27\", \"28\", \"29\", \"30\", \"31\", \"32\", \"33\", \"34\", \"36\", \"37\"], \"mode\": \"lines\", \"name\": \"average_precision_score_macro_max\", \"stepped\": true, \"type\": \"scatter\", \"data\": [0.4335575837619226, 0.4335575837619226, 0.4335575837619226, 0.4335575837619226, 0.4335575837619226, 0.4335575837619226, 0.4335575837619226, 0.4335575837619226, 0.4335575837619226, 0.4335575837619226, 0.4335575837619226, 0.4335575837619226, 0.4335575837619226, 0.4335575837619226, 0.4335575837619226, 0.4335575837619226, 0.4335575837619226, 0.48780371170708586, 0.48780371170708586, 0.48780371170708586, 0.48780371170708586, 0.48780371170708586, 0.48780371170708586, 0.48780371170708586, 0.48780371170708586, 0.48780371170708586, 0.48780371170708586, 0.48780371170708586, 0.48780371170708586, 0.48780371170708586, 0.48780371170708586, 0.48780371170708586, 0.48780371170708586, 0.48780371170708586, 0.48780371170708586, 0.4998691360844011, 0.5031831040588051]}], \"f1_score_macro\": [{\"categories\": [\"0\", \"1\", \"2\", \"3\", \"4\", \"5\", \"6\", \"7\", \"8\", \"9\", \"10\", \"11\", \"12\", \"13\", \"14\", \"15\", \"16\", \"17\", \"18\", \"19\", \"20\", \"21\", \"22\", \"23\", \"24\", \"25\", \"26\", \"27\", \"28\", \"29\", \"30\", \"31\", \"32\", \"33\", \"34\", \"36\", \"37\"], \"mode\": \"markers\", \"name\": \"f1_score_macro\", \"stepped\": false, \"type\": \"scatter\", \"data\": [0.3737639088760737, 0.2658232249015363, 0.18195611989037588, 0.2245737248559986, 0.20298405023755345, 0.2689219972342267, 0.24875744309110787, 0.20087108427680805, 0.26324466690097537, 0.3321129489014451, 0.17851091810696235, 0.28633679345851687, 0.20290284928083063, 0.23991405247715383, 0.17760043359053934, 0.21659982930508317, 0.29631225744802314, 0.4092353454445935, 0.2644233657293049, 0.20380557734920987, 0.22968518243608269, 0.2850571618374365, 0.21208030298938962, 0.28842635460375243, 0.31230718326815726, 0.0968157545139003, 0.2877828465775445, 0.29567257505920225, 0.2073473237796164, 0.21121808549285087, 0.1667487390432094, 0.23066156692578313, 0.2995480735406878, 0.2859328134110282, 0.2756463176818519, 0.41121837741676553, 0.4197482509398781]}, {\"categories\": [\"0\", \"1\", \"2\", \"3\", \"4\", \"5\", \"6\", \"7\", \"8\", \"9\", \"10\", \"11\", \"12\", \"13\", \"14\", \"15\", \"16\", \"17\", \"18\", \"19\", \"20\", \"21\", \"22\", \"23\", \"24\", \"25\", \"26\", \"27\", \"28\", \"29\", \"30\", \"31\", \"32\", \"33\", \"34\", \"36\", \"37\"], \"mode\": \"lines\", \"name\": \"f1_score_macro_max\", \"stepped\": true, \"type\": \"scatter\", \"data\": [0.3737639088760737, 0.3737639088760737, 0.3737639088760737, 0.3737639088760737, 0.3737639088760737, 0.3737639088760737, 0.3737639088760737, 0.3737639088760737, 0.3737639088760737, 0.3737639088760737, 0.3737639088760737, 0.3737639088760737, 0.3737639088760737, 0.3737639088760737, 0.3737639088760737, 0.3737639088760737, 0.3737639088760737, 0.4092353454445935, 0.4092353454445935, 0.4092353454445935, 0.4092353454445935, 0.4092353454445935, 0.4092353454445935, 0.4092353454445935, 0.4092353454445935, 0.4092353454445935, 0.4092353454445935, 0.4092353454445935, 0.4092353454445935, 0.4092353454445935, 0.4092353454445935, 0.4092353454445935, 0.4092353454445935, 0.4092353454445935, 0.4092353454445935, 0.41121837741676553, 0.4197482509398781]}], \"average_precision_score_weighted\": [{\"categories\": [\"0\", \"1\", \"2\", \"3\", \"4\", \"5\", \"6\", \"7\", \"8\", \"9\", \"10\", \"11\", \"12\", \"13\", \"14\", \"15\", \"16\", \"17\", \"18\", \"19\", \"20\", \"21\", \"22\", \"23\", \"24\", \"25\", \"26\", \"27\", \"28\", \"29\", \"30\", \"31\", \"32\", \"33\", \"34\", \"36\", \"37\"], \"mode\": \"markers\", \"name\": \"average_precision_score_weighted\", \"stepped\": false, \"type\": \"scatter\", \"data\": [0.6695956342502438, 0.5845090484043551, 0.5033435566632903, 0.5490257162231453, 0.5420295515628573, 0.582956050071467, 0.5044328023905914, 0.5171443829909481, 0.5233147053199315, 0.6703837294034928, 0.47244537100971196, 0.6290686655066491, 0.5283580637594989, 0.5153999877631321, 0.5119505003303688, 0.5066435327369926, 0.6152031246387007, 0.7660305927905465, 0.6634903002431015, 0.47899297234641824, 0.5045498616108424, 0.606933775642889, 0.5193781091568668, 0.614354652759012, 0.6366539007026771, 0.3501909770525375, 0.6014675977083075, 0.6020384320362964, 0.5197538565352132, 0.5181761580701817, 0.44067306416167246, 0.5187735968061423, 0.6224548724223234, 0.6210739527991723, 0.5812474584785765, 0.7695432224739776, 0.7720741426861938]}, {\"categories\": [\"0\", \"1\", \"2\", \"3\", \"4\", \"5\", \"6\", \"7\", \"8\", \"9\", \"10\", \"11\", \"12\", \"13\", \"14\", \"15\", \"16\", \"17\", \"18\", \"19\", \"20\", \"21\", \"22\", \"23\", \"24\", \"25\", \"26\", \"27\", \"28\", \"29\", \"30\", \"31\", \"32\", \"33\", \"34\", \"36\", \"37\"], \"mode\": \"lines\", \"name\": \"average_precision_score_weighted_max\", \"stepped\": true, \"type\": \"scatter\", \"data\": [0.6695956342502438, 0.6695956342502438, 0.6695956342502438, 0.6695956342502438, 0.6695956342502438, 0.6695956342502438, 0.6695956342502438, 0.6695956342502438, 0.6695956342502438, 0.6703837294034928, 0.6703837294034928, 0.6703837294034928, 0.6703837294034928, 0.6703837294034928, 0.6703837294034928, 0.6703837294034928, 0.6703837294034928, 0.7660305927905465, 0.7660305927905465, 0.7660305927905465, 0.7660305927905465, 0.7660305927905465, 0.7660305927905465, 0.7660305927905465, 0.7660305927905465, 0.7660305927905465, 0.7660305927905465, 0.7660305927905465, 0.7660305927905465, 0.7660305927905465, 0.7660305927905465, 0.7660305927905465, 0.7660305927905465, 0.7660305927905465, 0.7660305927905465, 0.7695432224739776, 0.7720741426861938]}], \"AUC_micro\": [{\"categories\": [\"0\", \"1\", \"2\", \"3\", \"4\", \"5\", \"6\", \"7\", \"8\", \"9\", \"10\", \"11\", \"12\", \"13\", \"14\", \"15\", \"16\", \"17\", \"18\", \"19\", \"20\", \"21\", \"22\", \"23\", \"24\", \"25\", \"26\", \"27\", \"28\", \"29\", \"30\", \"31\", \"32\", \"33\", \"34\", \"36\", \"37\"], \"mode\": \"markers\", \"name\": \"AUC_micro\", \"stepped\": false, \"type\": \"scatter\", \"data\": [0.9308432291641949, 0.9138389567583742, 0.8928305272158289, 0.9046275663977736, 0.9001332726107469, 0.9064086125942195, 0.8227867009250225, 0.8972355364772386, 0.8999977205742056, 0.9241753957863986, 0.7250833321898138, 0.9149042512452367, 0.8994667930246678, 0.8163877744070431, 0.8894652406393027, 0.7765416180561504, 0.9187615474612043, 0.9466604625802537, 0.9181127541296494, 0.7719493156053686, 0.7956600260140325, 0.914360454078459, 0.8988475617352749, 0.9168069000418599, 0.9244054144509226, 0.8553947223550111, 0.9167519856815222, 0.9179586858413364, 0.8987022745392604, 0.8985155309821978, 0.8791560178574498, 0.8993020958472078, 0.920968171782443, 0.9206601355717143, 0.9138343268068265, 0.9468150626232077, 0.9487926404836395]}, {\"categories\": [\"0\", \"1\", \"2\", \"3\", \"4\", \"5\", \"6\", \"7\", \"8\", \"9\", \"10\", \"11\", \"12\", \"13\", \"14\", \"15\", \"16\", \"17\", \"18\", \"19\", \"20\", \"21\", \"22\", \"23\", \"24\", \"25\", \"26\", \"27\", \"28\", \"29\", \"30\", \"31\", \"32\", \"33\", \"34\", \"36\", \"37\"], \"mode\": \"lines\", \"name\": \"AUC_micro_max\", \"stepped\": true, \"type\": \"scatter\", \"data\": [0.9308432291641949, 0.9308432291641949, 0.9308432291641949, 0.9308432291641949, 0.9308432291641949, 0.9308432291641949, 0.9308432291641949, 0.9308432291641949, 0.9308432291641949, 0.9308432291641949, 0.9308432291641949, 0.9308432291641949, 0.9308432291641949, 0.9308432291641949, 0.9308432291641949, 0.9308432291641949, 0.9308432291641949, 0.9466604625802537, 0.9466604625802537, 0.9466604625802537, 0.9466604625802537, 0.9466604625802537, 0.9466604625802537, 0.9466604625802537, 0.9466604625802537, 0.9466604625802537, 0.9466604625802537, 0.9466604625802537, 0.9466604625802537, 0.9466604625802537, 0.9466604625802537, 0.9466604625802537, 0.9466604625802537, 0.9466604625802537, 0.9466604625802537, 0.9468150626232077, 0.9487926404836395]}], \"recall_score_weighted\": [{\"categories\": [\"0\", \"1\", \"2\", \"3\", \"4\", \"5\", \"6\", \"7\", \"8\", \"9\", \"10\", \"11\", \"12\", \"13\", \"14\", \"15\", \"16\", \"17\", \"18\", \"19\", \"20\", \"21\", \"22\", \"23\", \"24\", \"25\", \"26\", \"27\", \"28\", \"29\", \"30\", \"31\", \"32\", \"33\", \"34\", \"36\", \"37\"], \"mode\": \"markers\", \"name\": \"recall_score_weighted\", \"stepped\": false, \"type\": \"scatter\", \"data\": [0.6478377450109553, 0.58011535500681, 0.5259380588618464, 0.5550261147628354, 0.548871202700302, 0.5758061230532363, 0.38202108130514595, 0.537634274886007, 0.543943151536685, 0.6406018831053474, 0.30198578788417124, 0.6073602179191094, 0.5427122638716172, 0.37678474566234377, 0.5219327293184106, 0.33799798661692426, 0.6025876709895185, 0.687393853259904, 0.6142853082252622, 0.31290815420145673, 0.35816142594895484, 0.5962759519156748, 0.5407119085687215, 0.598583999526263, 0.6152067270681589, 0.43066228459761946, 0.5951960679812874, 0.5964293243323266, 0.5417889500799431, 0.5394803102978623, 0.49592254396873336, 0.5424049268668206, 0.6068965476401966, 0.6032023449991117, 0.5818070705276248, 0.6910875821637946, 0.6890868715580032]}, {\"categories\": [\"0\", \"1\", \"2\", \"3\", \"4\", \"5\", \"6\", \"7\", \"8\", \"9\", \"10\", \"11\", \"12\", \"13\", \"14\", \"15\", \"16\", \"17\", \"18\", \"19\", \"20\", \"21\", \"22\", \"23\", \"24\", \"25\", \"26\", \"27\", \"28\", \"29\", \"30\", \"31\", \"32\", \"33\", \"34\", \"36\", \"37\"], \"mode\": \"lines\", \"name\": \"recall_score_weighted_max\", \"stepped\": true, \"type\": \"scatter\", \"data\": [0.6478377450109553, 0.6478377450109553, 0.6478377450109553, 0.6478377450109553, 0.6478377450109553, 0.6478377450109553, 0.6478377450109553, 0.6478377450109553, 0.6478377450109553, 0.6478377450109553, 0.6478377450109553, 0.6478377450109553, 0.6478377450109553, 0.6478377450109553, 0.6478377450109553, 0.6478377450109553, 0.6478377450109553, 0.687393853259904, 0.687393853259904, 0.687393853259904, 0.687393853259904, 0.687393853259904, 0.687393853259904, 0.687393853259904, 0.687393853259904, 0.687393853259904, 0.687393853259904, 0.687393853259904, 0.687393853259904, 0.687393853259904, 0.687393853259904, 0.687393853259904, 0.687393853259904, 0.687393853259904, 0.687393853259904, 0.6910875821637946, 0.6910875821637946]}], \"accuracy\": [{\"categories\": [\"0\", \"1\", \"2\", \"3\", \"4\", \"5\", \"6\", \"7\", \"8\", \"9\", \"10\", \"11\", \"12\", \"13\", \"14\", \"15\", \"16\", \"17\", \"18\", \"19\", \"20\", \"21\", \"22\", \"23\", \"24\", \"25\", \"26\", \"27\", \"28\", \"29\", \"30\", \"31\", \"32\", \"33\", \"34\", \"36\", \"37\"], \"mode\": \"markers\", \"name\": \"accuracy\", \"stepped\": false, \"type\": \"scatter\", \"data\": [0.6478377450109553, 0.58011535500681, 0.5259380588618464, 0.5550261147628354, 0.548871202700302, 0.5758061230532363, 0.38202108130514595, 0.537634274886007, 0.543943151536685, 0.6406018831053474, 0.30198578788417124, 0.6073602179191094, 0.5427122638716172, 0.37678474566234377, 0.5219327293184106, 0.33799798661692426, 0.6025876709895185, 0.687393853259904, 0.6142853082252622, 0.31290815420145673, 0.35816142594895484, 0.5962759519156748, 0.5407119085687215, 0.598583999526263, 0.6152067270681589, 0.43066228459761946, 0.5951960679812874, 0.5964293243323266, 0.5417889500799431, 0.5394803102978623, 0.49592254396873336, 0.5424049268668206, 0.6068965476401966, 0.6032023449991117, 0.5818070705276248, 0.6910875821637946, 0.6890868715580032]}, {\"categories\": [\"0\", \"1\", \"2\", \"3\", \"4\", \"5\", \"6\", \"7\", \"8\", \"9\", \"10\", \"11\", \"12\", \"13\", \"14\", \"15\", \"16\", \"17\", \"18\", \"19\", \"20\", \"21\", \"22\", \"23\", \"24\", \"25\", \"26\", \"27\", \"28\", \"29\", \"30\", \"31\", \"32\", \"33\", \"34\", \"36\", \"37\"], \"mode\": \"lines\", \"name\": \"accuracy_max\", \"stepped\": true, \"type\": \"scatter\", \"data\": [0.6478377450109553, 0.6478377450109553, 0.6478377450109553, 0.6478377450109553, 0.6478377450109553, 0.6478377450109553, 0.6478377450109553, 0.6478377450109553, 0.6478377450109553, 0.6478377450109553, 0.6478377450109553, 0.6478377450109553, 0.6478377450109553, 0.6478377450109553, 0.6478377450109553, 0.6478377450109553, 0.6478377450109553, 0.687393853259904, 0.687393853259904, 0.687393853259904, 0.687393853259904, 0.687393853259904, 0.687393853259904, 0.687393853259904, 0.687393853259904, 0.687393853259904, 0.687393853259904, 0.687393853259904, 0.687393853259904, 0.687393853259904, 0.687393853259904, 0.687393853259904, 0.687393853259904, 0.687393853259904, 0.687393853259904, 0.6910875821637946, 0.6910875821637946]}], \"weighted_accuracy\": [{\"categories\": [\"0\", \"1\", \"2\", \"3\", \"4\", \"5\", \"6\", \"7\", \"8\", \"9\", \"10\", \"11\", \"12\", \"13\", \"14\", \"15\", \"16\", \"17\", \"18\", \"19\", \"20\", \"21\", \"22\", \"23\", \"24\", \"25\", \"26\", \"27\", \"28\", \"29\", \"30\", \"31\", \"32\", \"33\", \"34\", \"36\", \"37\"], \"mode\": \"markers\", \"name\": \"weighted_accuracy\", \"stepped\": false, \"type\": \"scatter\", \"data\": [0.7012848239099132, 0.6607330512042365, 0.6304841716533197, 0.6442599279322347, 0.6538267789268699, 0.6612008913253771, 0.3415859728037015, 0.6369755638188818, 0.6245886428579952, 0.7115078833232914, 0.2984446718852171, 0.6865362397297281, 0.6428923686198178, 0.34628476801446534, 0.6348628325005801, 0.3067192394779141, 0.679053131242017, 0.743253333256621, 0.7092162516561415, 0.29878499032197314, 0.3304347916975359, 0.669170466446096, 0.6383048039482524, 0.6728864045919043, 0.6810343528441672, 0.5631358608964062, 0.6658068991473598, 0.6646109110023157, 0.6392503940239141, 0.637152475325384, 0.5829337995951838, 0.6277935651976847, 0.6739855352265097, 0.6756138591286016, 0.6561166069308804, 0.7484564968975228, 0.7402552801424369]}, {\"categories\": [\"0\", \"1\", \"2\", \"3\", \"4\", \"5\", \"6\", \"7\", \"8\", \"9\", \"10\", \"11\", \"12\", \"13\", \"14\", \"15\", \"16\", \"17\", \"18\", \"19\", \"20\", \"21\", \"22\", \"23\", \"24\", \"25\", \"26\", \"27\", \"28\", \"29\", \"30\", \"31\", \"32\", \"33\", \"34\", \"36\", \"37\"], \"mode\": \"lines\", \"name\": \"weighted_accuracy_max\", \"stepped\": true, \"type\": \"scatter\", \"data\": [0.7012848239099132, 0.7012848239099132, 0.7012848239099132, 0.7012848239099132, 0.7012848239099132, 0.7012848239099132, 0.7012848239099132, 0.7012848239099132, 0.7012848239099132, 0.7115078833232914, 0.7115078833232914, 0.7115078833232914, 0.7115078833232914, 0.7115078833232914, 0.7115078833232914, 0.7115078833232914, 0.7115078833232914, 0.743253333256621, 0.743253333256621, 0.743253333256621, 0.743253333256621, 0.743253333256621, 0.743253333256621, 0.743253333256621, 0.743253333256621, 0.743253333256621, 0.743253333256621, 0.743253333256621, 0.743253333256621, 0.743253333256621, 0.743253333256621, 0.743253333256621, 0.743253333256621, 0.743253333256621, 0.743253333256621, 0.7484564968975228, 0.7484564968975228]}]}, \"metricName\": null, \"primaryMetricName\": \"AUC_weighted\", \"showLegend\": false}, \"run_metrics\": [{\"name\": \"experiment_status\", \"run_id\": \"AutoML_f205d8b0-a033-4b0a-810b-d5b1b2d129f9\", \"categories\": [0, 1, 2, 3, 4, 5, 6, 7, 8, 9, 10, 11, 12], \"series\": [{\"data\": [\"DatasetEvaluation\", \"FeaturesGeneration\", \"DatasetFeaturization\", \"DatasetFeaturizationCompleted\", \"DatasetBalancing\", \"DatasetCrossValidationSplit\", \"ModelSelection\", \"BestRunExplainModel\", \"ModelExplanationDataSetSetup\", \"PickSurrogateModel\", \"EngineeredFeatureExplanations\", \"EngineeredFeatureExplanations\", \"RawFeaturesExplanations\"]}]}, {\"name\": \"experiment_status_description\", \"run_id\": \"AutoML_f205d8b0-a033-4b0a-810b-d5b1b2d129f9\", \"categories\": [0, 1, 2, 3, 4, 5, 6, 7, 8, 9, 10, 11, 12], \"series\": [{\"data\": [\"Gathering dataset statistics.\", \"Generating features for the dataset.\", \"Beginning to fit featurizers and featurize the dataset.\", \"Completed fit featurizers and featurizing the dataset.\", \"Performing class balancing sweeping\", \"Generating individually featurized CV splits.\", \"Beginning model selection.\", \"Best run model explanations started\", \"Model explanations data setup completed\", \"Choosing LightGBM as the surrogate model for explanations\", \"Computation of engineered features started\", \"Computation of engineered features completed\", \"Computation of raw features started\"]}]}, {\"name\": \"AUC_macro\", \"run_id\": \"AutoML_f205d8b0-a033-4b0a-810b-d5b1b2d129f9\", \"categories\": [0], \"series\": [{\"data\": [0.8890134726904204]}]}, {\"name\": \"AUC_micro\", \"run_id\": \"AutoML_f205d8b0-a033-4b0a-810b-d5b1b2d129f9\", \"categories\": [0], \"series\": [{\"data\": [0.9487926404836395]}]}, {\"name\": \"balanced_accuracy\", \"run_id\": \"AutoML_f205d8b0-a033-4b0a-810b-d5b1b2d129f9\", \"categories\": [0], \"series\": [{\"data\": [0.38608847051288375]}]}, {\"name\": \"log_loss\", \"run_id\": \"AutoML_f205d8b0-a033-4b0a-810b-d5b1b2d129f9\", \"categories\": [0], \"series\": [{\"data\": [0.7836821279805288]}]}, {\"name\": \"weighted_accuracy\", \"run_id\": \"AutoML_f205d8b0-a033-4b0a-810b-d5b1b2d129f9\", \"categories\": [0], \"series\": [{\"data\": [0.7402552801424369]}]}, {\"name\": \"f1_score_micro\", \"run_id\": \"AutoML_f205d8b0-a033-4b0a-810b-d5b1b2d129f9\", \"categories\": [0], \"series\": [{\"data\": [0.6890868715580032]}]}, {\"name\": \"f1_score_macro\", \"run_id\": \"AutoML_f205d8b0-a033-4b0a-810b-d5b1b2d129f9\", \"categories\": [0], \"series\": [{\"data\": [0.4197482509398781]}]}, {\"name\": \"average_precision_score_micro\", \"run_id\": \"AutoML_f205d8b0-a033-4b0a-810b-d5b1b2d129f9\", \"categories\": [0], \"series\": [{\"data\": [0.7829092519165048]}]}, {\"name\": \"precision_score_weighted\", \"run_id\": \"AutoML_f205d8b0-a033-4b0a-810b-d5b1b2d129f9\", \"categories\": [0], \"series\": [{\"data\": [0.6899665587793075]}]}, {\"name\": \"recall_score_micro\", \"run_id\": \"AutoML_f205d8b0-a033-4b0a-810b-d5b1b2d129f9\", \"categories\": [0], \"series\": [{\"data\": [0.6890868715580032]}]}, {\"name\": \"matthews_correlation\", \"run_id\": \"AutoML_f205d8b0-a033-4b0a-810b-d5b1b2d129f9\", \"categories\": [0], \"series\": [{\"data\": [0.5211393922465293]}]}, {\"name\": \"precision_score_micro\", \"run_id\": \"AutoML_f205d8b0-a033-4b0a-810b-d5b1b2d129f9\", \"categories\": [0], \"series\": [{\"data\": [0.6890868715580032]}]}, {\"name\": \"recall_score_macro\", \"run_id\": \"AutoML_f205d8b0-a033-4b0a-810b-d5b1b2d129f9\", \"categories\": [0], \"series\": [{\"data\": [0.38608847051288375]}]}, {\"name\": \"accuracy\", \"run_id\": \"AutoML_f205d8b0-a033-4b0a-810b-d5b1b2d129f9\", \"categories\": [0], \"series\": [{\"data\": [0.6890868715580032]}]}, {\"name\": \"average_precision_score_weighted\", \"run_id\": \"AutoML_f205d8b0-a033-4b0a-810b-d5b1b2d129f9\", \"categories\": [0], \"series\": [{\"data\": [0.7720741426861938]}]}, {\"name\": \"recall_score_weighted\", \"run_id\": \"AutoML_f205d8b0-a033-4b0a-810b-d5b1b2d129f9\", \"categories\": [0], \"series\": [{\"data\": [0.6890868715580032]}]}, {\"name\": \"f1_score_weighted\", \"run_id\": \"AutoML_f205d8b0-a033-4b0a-810b-d5b1b2d129f9\", \"categories\": [0], \"series\": [{\"data\": [0.6784915587888734]}]}, {\"name\": \"AUC_weighted\", \"run_id\": \"AutoML_f205d8b0-a033-4b0a-810b-d5b1b2d129f9\", \"categories\": [0], \"series\": [{\"data\": [0.868267605779604]}]}, {\"name\": \"norm_macro_recall\", \"run_id\": \"AutoML_f205d8b0-a033-4b0a-810b-d5b1b2d129f9\", \"categories\": [0], \"series\": [{\"data\": [0.27982921796126964]}]}, {\"name\": \"precision_score_macro\", \"run_id\": \"AutoML_f205d8b0-a033-4b0a-810b-d5b1b2d129f9\", \"categories\": [0], \"series\": [{\"data\": [0.5270015496385412]}]}, {\"name\": \"average_precision_score_macro\", \"run_id\": \"AutoML_f205d8b0-a033-4b0a-810b-d5b1b2d129f9\", \"categories\": [0], \"series\": [{\"data\": [0.5031831040588051]}]}], \"run_logs\": \"\\nRun is completed.\", \"graph\": {}, \"widget_settings\": {\"childWidgetDisplay\": \"popup\", \"send_telemetry\": false, \"log_level\": \"INFO\", \"sdk_version\": \"1.34.0\"}, \"loading\": false}"
          },
          "metadata": {}
        },
        {
          "output_type": "execute_result",
          "execution_count": 9,
          "data": {
            "text/plain": "{'runId': 'AutoML_f205d8b0-a033-4b0a-810b-d5b1b2d129f9',\n 'target': 'auto-ml',\n 'status': 'Completed',\n 'startTimeUtc': '2021-11-21T07:30:50.738109Z',\n 'endTimeUtc': '2021-11-21T07:54:02.592211Z',\n 'services': {},\n 'warnings': [{'source': 'JasmineService',\n   'message': 'No scores improved over last 20 iterations, so experiment stopped early. This early stopping behavior can be disabled by setting enable_early_stopping = False in AutoMLConfig for notebook/python SDK runs.'}],\n 'properties': {'num_iterations': '1000',\n  'training_type': 'TrainFull',\n  'acquisition_function': 'EI',\n  'primary_metric': 'AUC_weighted',\n  'train_split': '0',\n  'acquisition_parameter': '0',\n  'num_cross_validation': '5',\n  'target': 'auto-ml',\n  'AMLSettingsJsonString': '{\"path\":null,\"name\":\"Capstone_project\",\"subscription_id\":\"f9d5a085-54dc-4215-9ba6-dad5d86e60a0\",\"resource_group\":\"aml-quickstarts-164108\",\"workspace_name\":\"quick-starts-ws-164108\",\"region\":\"southcentralus\",\"compute_target\":\"auto-ml\",\"spark_service\":null,\"azure_service\":\"remote\",\"many_models\":false,\"pipeline_fetch_max_batch_size\":1,\"enable_batch_run\":false,\"enable_run_restructure\":false,\"start_auxiliary_runs_before_parent_complete\":false,\"enable_code_generation\":false,\"iterations\":1000,\"primary_metric\":\"AUC_weighted\",\"task_type\":\"classification\",\"data_script\":null,\"test_size\":0.0,\"test_include_predictions_only\":false,\"validation_size\":0.0,\"n_cross_validations\":5,\"y_min\":null,\"y_max\":null,\"num_classes\":null,\"featurization\":\"auto\",\"_ignore_package_version_incompatibilities\":false,\"is_timeseries\":false,\"max_cores_per_iteration\":1,\"max_concurrent_iterations\":4,\"iteration_timeout_minutes\":null,\"mem_in_mb\":null,\"enforce_time_on_windows\":false,\"experiment_timeout_minutes\":60,\"experiment_exit_score\":null,\"whitelist_models\":null,\"blacklist_algos\":[\"TensorFlowLinearClassifier\",\"TensorFlowDNN\"],\"supported_models\":[\"ExtremeRandomTrees\",\"RandomForest\",\"TensorFlowDNN\",\"AveragedPerceptronClassifier\",\"SVM\",\"XGBoostClassifier\",\"TensorFlowLinearClassifier\",\"BernoulliNaiveBayes\",\"SGD\",\"LogisticRegression\",\"DecisionTree\",\"MultinomialNaiveBayes\",\"LightGBM\",\"KNN\",\"GradientBoosting\",\"LinearSVM\"],\"private_models\":[],\"auto_blacklist\":true,\"blacklist_samples_reached\":false,\"exclude_nan_labels\":true,\"verbosity\":20,\"_debug_log\":\"azureml_automl.log\",\"show_warnings\":false,\"model_explainability\":true,\"service_url\":null,\"sdk_url\":null,\"sdk_packages\":null,\"enable_onnx_compatible_models\":false,\"enable_split_onnx_featurizer_estimator_models\":false,\"vm_type\":\"STANDARD_DS12_V2\",\"telemetry_verbosity\":20,\"send_telemetry\":true,\"enable_dnn\":false,\"scenario\":\"SDK-1.13.0\",\"environment_label\":null,\"save_mlflow\":false,\"force_text_dnn\":false,\"enable_feature_sweeping\":true,\"enable_early_stopping\":true,\"early_stopping_n_iters\":10,\"metrics\":null,\"enable_metric_confidence\":false,\"enable_ensembling\":true,\"enable_stack_ensembling\":true,\"ensemble_iterations\":15,\"enable_tf\":false,\"enable_subsampling\":null,\"subsample_seed\":null,\"enable_nimbusml\":false,\"enable_streaming\":false,\"force_streaming\":false,\"track_child_runs\":true,\"allowed_private_models\":[],\"label_column_name\":\"quality\",\"weight_column_name\":null,\"cv_split_column_names\":null,\"positive_label\":null,\"enable_local_managed\":false,\"_local_managed_run_id\":null,\"cost_mode\":1,\"lag_length\":0,\"metric_operation\":\"maximize\",\"preprocess\":true}',\n  'DataPrepJsonString': '{\\\\\"training_data\\\\\": {\\\\\"datasetId\\\\\": \\\\\"e1100ed1-1647-49a5-9663-6d4c7d0585a0\\\\\"}, \\\\\"datasets\\\\\": 0}',\n  'EnableSubsampling': None,\n  'runTemplate': 'AutoML',\n  'azureml.runsource': 'automl',\n  'display_task_type': 'classification',\n  'dependencies_versions': '{\"azureml-widgets\": \"1.34.0\", \"azureml-train\": \"1.34.0\", \"azureml-train-restclients-hyperdrive\": \"1.34.0\", \"azureml-train-core\": \"1.34.0\", \"azureml-train-automl\": \"1.34.0\", \"azureml-train-automl-runtime\": \"1.34.0\", \"azureml-train-automl-client\": \"1.34.0\", \"azureml-tensorboard\": \"1.34.0\", \"azureml-telemetry\": \"1.34.0\", \"azureml-sdk\": \"1.34.0\", \"azureml-samples\": \"0+unknown\", \"azureml-responsibleai\": \"1.34.0\", \"azureml-pipeline\": \"1.34.0\", \"azureml-pipeline-steps\": \"1.34.0\", \"azureml-pipeline-core\": \"1.34.0\", \"azureml-opendatasets\": \"1.34.0\", \"azureml-mlflow\": \"1.34.0\", \"azureml-interpret\": \"1.34.0\", \"azureml-inference-server-http\": \"0.3.1\", \"azureml-explain-model\": \"1.34.0\", \"azureml-defaults\": \"1.34.0\", \"azureml-dataset-runtime\": \"1.34.0\", \"azureml-dataprep\": \"2.22.2\", \"azureml-dataprep-rslex\": \"1.20.1\", \"azureml-dataprep-native\": \"38.0.0\", \"azureml-datadrift\": \"1.34.0\", \"azureml-core\": \"1.34.0\", \"azureml-contrib-services\": \"1.34.0\", \"azureml-contrib-server\": \"1.34.0\", \"azureml-contrib-reinforcementlearning\": \"1.34.0\", \"azureml-contrib-pipeline-steps\": \"1.34.0\", \"azureml-contrib-notebook\": \"1.34.0\", \"azureml-contrib-fairness\": \"1.34.0\", \"azureml-contrib-dataset\": \"1.34.0\", \"azureml-contrib-automl-pipeline-steps\": \"1.34.0\", \"azureml-cli-common\": \"1.34.0\", \"azureml-automl-runtime\": \"1.34.0\", \"azureml-automl-dnn-nlp\": \"1.34.0\", \"azureml-automl-core\": \"1.34.0\", \"azureml-accel-models\": \"1.34.0\"}',\n  '_aml_system_scenario_identification': 'Remote.Parent',\n  'ClientType': 'SDK',\n  'environment_cpu_name': 'AzureML-AutoML',\n  'environment_cpu_label': 'prod',\n  'environment_gpu_name': 'AzureML-AutoML-GPU',\n  'environment_gpu_label': 'prod',\n  'root_attribution': 'automl',\n  'attribution': 'AutoML',\n  'Orchestrator': 'AutoML',\n  'CancelUri': 'https://southcentralus.api.azureml.ms/jasmine/v1.0/subscriptions/f9d5a085-54dc-4215-9ba6-dad5d86e60a0/resourceGroups/aml-quickstarts-164108/providers/Microsoft.MachineLearningServices/workspaces/quick-starts-ws-164108/experimentids/5b96f2c0-5273-44f2-a34b-347fef00d3b0/cancel/AutoML_f205d8b0-a033-4b0a-810b-d5b1b2d129f9',\n  'ClientSdkVersion': '1.35.1',\n  'snapshotId': '00000000-0000-0000-0000-000000000000',\n  'SetupRunId': 'AutoML_f205d8b0-a033-4b0a-810b-d5b1b2d129f9_setup',\n  'SetupRunContainerId': 'dcid.AutoML_f205d8b0-a033-4b0a-810b-d5b1b2d129f9_setup',\n  'FeaturizationRunJsonPath': 'featurizer_container.json',\n  'FeaturizationRunId': 'AutoML_f205d8b0-a033-4b0a-810b-d5b1b2d129f9_featurize',\n  'ProblemInfoJsonString': '{\"dataset_num_categorical\": 0, \"is_sparse\": false, \"subsampling\": false, \"has_extra_col\": true, \"dataset_classes\": 7, \"dataset_features\": 12, \"dataset_samples\": 6497, \"single_frequency_class_detected\": false}',\n  'ModelExplainRunId': 'AutoML_f205d8b0-a033-4b0a-810b-d5b1b2d129f9_ModelExplain'},\n 'inputDatasets': [{'dataset': {'id': 'e1100ed1-1647-49a5-9663-6d4c7d0585a0'}, 'consumptionDetails': {'type': 'RunInput', 'inputName': 'training_data', 'mechanism': 'Direct'}}],\n 'outputDatasets': [],\n 'logFiles': {},\n 'submittedBy': 'ODL_User 164108'}"
          },
          "metadata": {}
        }
      ],
      "execution_count": 9,
      "metadata": {
        "gather": {
          "logged": 1637481272827
        },
        "jupyter": {
          "outputs_hidden": false,
          "source_hidden": false
        },
        "nteract": {
          "transient": {
            "deleting": false
          }
        }
      }
    },
    {
      "cell_type": "markdown",
      "source": [
        "## Best Model\n",
        "\n",
        "TODO: In the cell below, get the best model from the automl experiments and display all the properties of the model.\n",
        "\n"
      ],
      "metadata": {}
    },
    {
      "cell_type": "code",
      "source": [
        "best_automl_run, best_automl_model = remote_run.get_output()\n",
        "print(\"Best model: \", best_automl_model)\n",
        "print(\"Best estimator: \", best_automl_model.steps[-1])"
      ],
      "outputs": [
        {
          "output_type": "stream",
          "name": "stderr",
          "text": "WARNING:root:The version of the SDK does not match the version the model was trained on.\nWARNING:root:The consistency in the result may not be guaranteed.\nWARNING:root:Package:azureml-automl-core, training version:1.35.1, current version:1.34.0\nPackage:azureml-automl-runtime, training version:1.35.1, current version:1.34.0\nPackage:azureml-core, training version:1.35.0.post1, current version:1.34.0\nPackage:azureml-dataprep, training version:2.23.2, current version:2.22.2\nPackage:azureml-dataprep-rslex, training version:1.21.2, current version:1.20.1\nPackage:azureml-dataset-runtime, training version:1.35.0, current version:1.34.0\nPackage:azureml-defaults, training version:1.35.0, current version:1.34.0\nPackage:azureml-interpret, training version:1.35.0, current version:1.34.0\nPackage:azureml-mlflow, training version:1.35.0, current version:1.34.0\nPackage:azureml-pipeline-core, training version:1.35.0, current version:1.34.0\nPackage:azureml-responsibleai, training version:1.35.0, current version:1.34.0\nPackage:azureml-telemetry, training version:1.35.0, current version:1.34.0\nPackage:azureml-train-automl-client, training version:1.35.0, current version:1.34.0\nPackage:azureml-train-automl-runtime, training version:1.35.1, current version:1.34.0\nPackage:azureml-train-core, training version:1.35.0, current version:1.34.0\nPackage:azureml-train-restclients-hyperdrive, training version:1.35.0, current version:1.34.0\nWARNING:root:Please ensure the version of your local conda dependencies match the version on which your model was trained in order to properly retrieve your model.\n"
        },
        {
          "output_type": "stream",
          "name": "stdout",
          "text": "Best model:  Pipeline(memory=None,\n         steps=[('datatransformer',\n                 DataTransformer(enable_dnn=False, enable_feature_sweeping=True, feature_sweeping_config={}, feature_sweeping_timeout=86400, featurization_config=None, force_text_dnn=False, is_cross_validation=True, is_onnx_compatible=False, observer=None, task='classification', working_dir='/mnt/batch/tasks/shared/LS_root/mount...\n)), ('logisticregression', LogisticRegression(C=2222.996482526191, class_weight=None, dual=False, fit_intercept=True, intercept_scaling=1, l1_ratio=None, max_iter=100, multi_class='multinomial', n_jobs=1, penalty='l2', random_state=None, solver='lbfgs', tol=0.0001, verbose=0, warm_start=False))], verbose=False))], meta_learner=LogisticRegression(C=1.0, class_weight=None, dual=False, fit_intercept=True, intercept_scaling=1, l1_ratio=None, max_iter=100, multi_class='auto', n_jobs=None, penalty='l2', random_state=None, solver='lbfgs', tol=0.0001, verbose=0, warm_start=False), training_cv_folds=5))],\n         verbose=False)\nBest estimator:  ('stackensembleclassifier', StackEnsembleClassifier(\n    base_learners=[('17', Pipeline(\n        memory=None,\n        steps=[('standardscalerwrapper', StandardScalerWrapper(\n            copy=True,\n            with_mean=False,\n            with_std=False\n        )), ('randomforestclassifier', RandomForestClassifier(\n            bootstrap=True,\n            ccp_alpha=0.0,\n            class_weight=None,\n            criterion='gini',\n            max_depth=None,\n            max_features='auto',\n            max_leaf_nodes=None,\n            max_samples=None,\n            min_impurity_decrease=0.0,\n            min_impurity_split=None,\n            min_samples_leaf=1,\n            min_samples_split=2,\n            min_weight_fraction_leaf=0.0,\n            n_estimators=100,\n            n_jobs=1,\n            oob_score=False,\n            random_state=None,\n            verbose=0,\n            warm_start=False\n        ))],\n        verbose=False\n    )), ('11', Pipeline(\n        memory=None,\n        steps=[('sparsenormalizer', Normalizer(\n            copy=True,\n            norm='max'\n        )), ('xgboostclassifier', XGBoostClassifier(\n            random_state=0,\n            n_jobs=1,\n            problem_info=ProblemInfo(\n                gpu_training_param_dict={'processing_unit_type': 'cpu'}\n            ),\n            booster='gbtree',\n            colsample_bytree=0.8,\n            eta=0.3,\n            gamma=0.1,\n            max_depth=10,\n            max_leaves=63,\n            n_estimators=10,\n            objective='reg:logistic',\n            reg_alpha=1.25,\n            reg_lambda=0.7291666666666667,\n            subsample=1,\n            tree_method='auto'\n        ))],\n        verbose=False\n    )), ('8', Pipeline(\n        memory=None,\n        steps=[('standardscalerwrapper', StandardScalerWrapper(\n            copy=True,\n            with_mean=True,\n            with_std=True\n        )), ('logisticregression', LogisticRegression(\n            C=2222.996482526191,\n            class_weight=None,\n            dual=False,\n            fit_intercept=True,\n            intercept_scaling=1,\n            l1_ratio=None,\n            max_iter=100,\n            multi_class='multinomial',\n            n_jobs=1,\n            penalty='l2',\n            random_state=None,\n            solver='lbfgs',\n            tol=0.0001,\n            verbose=0,\n            warm_start=False\n        ))],\n        verbose=False\n    ))],\n    meta_learner=LogisticRegression(\n        C=1.0,\n        class_weight=None,\n        dual=False,\n        fit_intercept=True,\n        intercept_scaling=1,\n        l1_ratio=None,\n        max_iter=100,\n        multi_class='auto',\n        n_jobs=None,\n        penalty='l2',\n        random_state=None,\n        solver='lbfgs',\n        tol=0.0001,\n        verbose=0,\n        warm_start=False\n    ),\n    training_cv_folds=5\n))\n"
        }
      ],
      "execution_count": 10,
      "metadata": {
        "gather": {
          "logged": 1637481304245
        },
        "jupyter": {
          "outputs_hidden": false,
          "source_hidden": false
        },
        "nteract": {
          "transient": {
            "deleting": false
          }
        }
      }
    },
    {
      "cell_type": "code",
      "source": [
        "model_name = best_automl_run.properties['model_name']\r\n",
        "model_name"
      ],
      "outputs": [
        {
          "output_type": "execute_result",
          "execution_count": 17,
          "data": {
            "text/plain": "'AutoMLf205d8b0a37'"
          },
          "metadata": {}
        }
      ],
      "execution_count": 17,
      "metadata": {
        "jupyter": {
          "source_hidden": false,
          "outputs_hidden": false
        },
        "nteract": {
          "transient": {
            "deleting": false
          }
        },
        "gather": {
          "logged": 1637481661469
        }
      }
    },
    {
      "cell_type": "code",
      "source": [
        "#TODO: Save the best model\n",
        "best_model = best_automl_run.register_model(model_name='automl-model', model_path = '/outputs/model.pkl')"
      ],
      "outputs": [],
      "execution_count": 37,
      "metadata": {
        "gather": {
          "logged": 1637483523703
        },
        "jupyter": {
          "outputs_hidden": false,
          "source_hidden": false
        },
        "nteract": {
          "transient": {
            "deleting": false
          }
        }
      }
    },
    {
      "cell_type": "markdown",
      "source": [
        "## Model Deployment\n",
        "\n",
        "Remember you have to deploy only one of the two models you trained but you still need to register both the models. Perform the steps in the rest of this notebook only if you wish to deploy this model.\n",
        "\n",
        "TODO: In the cell below, register the model, create an inference config and deploy the model as a web service."
      ],
      "metadata": {}
    },
    {
      "cell_type": "code",
      "source": [
        "# deployment config\n",
        "from azureml.core.webservice import Webservice, AciWebservice\n",
        "from azureml.core.model import Model\n",
        "my_deployment_config = AciWebservice.deploy_configuration(cpu_cores=1, memory_gb=1, auth_enabled=True, enable_app_insights=True)"
      ],
      "outputs": [],
      "execution_count": 12,
      "metadata": {
        "gather": {
          "logged": 1637481328565
        }
      }
    },
    {
      "cell_type": "code",
      "source": [
        "best_automl_run.download_file('outputs/scoring_file_v_1_0_0.py','scoreScript.py')"
      ],
      "outputs": [],
      "execution_count": 27,
      "metadata": {
        "jupyter": {
          "source_hidden": false,
          "outputs_hidden": false
        },
        "nteract": {
          "transient": {
            "deleting": false
          }
        },
        "gather": {
          "logged": 1637482084366
        }
      }
    },
    {
      "cell_type": "code",
      "source": [
        "best_automl_run.download_file('outputs/model.pkl','model.pkl')"
      ],
      "outputs": [],
      "execution_count": 38,
      "metadata": {
        "jupyter": {
          "source_hidden": false,
          "outputs_hidden": false
        },
        "nteract": {
          "transient": {
            "deleting": false
          }
        },
        "gather": {
          "logged": 1637483591248
        }
      }
    },
    {
      "cell_type": "code",
      "source": [
        "# inference config\n",
        "from azureml.core.model import InferenceConfig\n",
        "from azureml.core.environment import Environment\n",
        "#environment\n",
        "#my_env = Environment(name=\"AzureML-AutoML\")\n",
        "my_env= best_automl_run.get_environment()\n",
        "\n",
        "#script_file_name='scoring_easy.py'\n",
        "my_inference_config = InferenceConfig(environment=my_env, source_directory='./', entry_script=\"scoreScript.py\")\n",
        "\n",
        "# https://docs.microsoft.com/en-us/python/api/azureml-core/azureml.core.model.inferenceconfig?view=azure-ml-py\n"
      ],
      "outputs": [],
      "execution_count": 45,
      "metadata": {
        "gather": {
          "logged": 1637484874294
        }
      }
    },
    {
      "cell_type": "code",
      "source": [
        "service = Model.deploy(workspace=ws,  \n",
        "                       name=\"automldeployment-4\", \n",
        "                       models=[best_model], \n",
        "                       inference_config=my_inference_config, \n",
        "                       deployment_config=my_deployment_config)\n",
        "\n",
        "service.wait_for_deployment(show_output=True)"
      ],
      "outputs": [
        {
          "output_type": "stream",
          "name": "stdout",
          "text": "Tips: You can try get_logs(): https://aka.ms/debugimage#dockerlog or local deployment: https://aka.ms/debugimage#debug-locally to debug if deployment takes longer than 10 minutes.\nRunning\n2021-11-21 08:54:53+00:00 Creating Container Registry if not exists.\n2021-11-21 08:54:53+00:00 Registering the environment.\n2021-11-21 08:54:53+00:00 Use the existing image.\n2021-11-21 08:54:53+00:00 Generating deployment configuration.\n2021-11-21 08:54:54+00:00 Submitting deployment to compute.\n2021-11-21 08:54:58+00:00 Checking the status of deployment automldeployment-4..\n2021-11-21 08:58:25+00:00 Checking the status of inference endpoint automldeployment-4.\nFailed\n"
        },
        {
          "output_type": "stream",
          "name": "stderr",
          "text": "ERROR:azureml.core.webservice.webservice:Service deployment polling reached non-successful terminal state, current service state: Failed\nOperation ID: 139e4aae-2a0e-4cea-a397-ad362e1f88e1\nMore information can be found using '.get_logs()'\nError:\n{\n  \"code\": \"AciDeploymentFailed\",\n  \"statusCode\": 400,\n  \"message\": \"Aci Deployment failed with exception: Error in entry script, FileNotFoundError: [Errno 2] No such file or directory: '/var/azureml-app/azureml-models/automl-model/2/model.pkl', please run print(service.get_logs()) to get details.\",\n  \"details\": [\n    {\n      \"code\": \"CrashLoopBackOff\",\n      \"message\": \"Error in entry script, FileNotFoundError: [Errno 2] No such file or directory: '/var/azureml-app/azureml-models/automl-model/2/model.pkl', please run print(service.get_logs()) to get details.\"\n    }\n  ]\n}\n\n"
        },
        {
          "output_type": "error",
          "ename": "WebserviceException",
          "evalue": "WebserviceException:\n\tMessage: Service deployment polling reached non-successful terminal state, current service state: Failed\nOperation ID: 139e4aae-2a0e-4cea-a397-ad362e1f88e1\nMore information can be found using '.get_logs()'\nError:\n{\n  \"code\": \"AciDeploymentFailed\",\n  \"statusCode\": 400,\n  \"message\": \"Aci Deployment failed with exception: Error in entry script, FileNotFoundError: [Errno 2] No such file or directory: '/var/azureml-app/azureml-models/automl-model/2/model.pkl', please run print(service.get_logs()) to get details.\",\n  \"details\": [\n    {\n      \"code\": \"CrashLoopBackOff\",\n      \"message\": \"Error in entry script, FileNotFoundError: [Errno 2] No such file or directory: '/var/azureml-app/azureml-models/automl-model/2/model.pkl', please run print(service.get_logs()) to get details.\"\n    }\n  ]\n}\n\tInnerException None\n\tErrorResponse \n{\n    \"error\": {\n        \"message\": \"Service deployment polling reached non-successful terminal state, current service state: Failed\\nOperation ID: 139e4aae-2a0e-4cea-a397-ad362e1f88e1\\nMore information can be found using '.get_logs()'\\nError:\\n{\\n  \\\"code\\\": \\\"AciDeploymentFailed\\\",\\n  \\\"statusCode\\\": 400,\\n  \\\"message\\\": \\\"Aci Deployment failed with exception: Error in entry script, FileNotFoundError: [Errno 2] No such file or directory: '/var/azureml-app/azureml-models/automl-model/2/model.pkl', please run print(service.get_logs()) to get details.\\\",\\n  \\\"details\\\": [\\n    {\\n      \\\"code\\\": \\\"CrashLoopBackOff\\\",\\n      \\\"message\\\": \\\"Error in entry script, FileNotFoundError: [Errno 2] No such file or directory: '/var/azureml-app/azureml-models/automl-model/2/model.pkl', please run print(service.get_logs()) to get details.\\\"\\n    }\\n  ]\\n}\"\n    }\n}",
          "traceback": [
            "\u001b[0;31m---------------------------------------------------------------------------\u001b[0m",
            "\u001b[0;31mWebserviceException\u001b[0m                       Traceback (most recent call last)",
            "\u001b[0;32m<ipython-input-46-6502ad357bf0>\u001b[0m in \u001b[0;36m<module>\u001b[0;34m\u001b[0m\n\u001b[1;32m      5\u001b[0m                        deployment_config=my_deployment_config)\n\u001b[1;32m      6\u001b[0m \u001b[0;34m\u001b[0m\u001b[0m\n\u001b[0;32m----> 7\u001b[0;31m \u001b[0mservice\u001b[0m\u001b[0;34m.\u001b[0m\u001b[0mwait_for_deployment\u001b[0m\u001b[0;34m(\u001b[0m\u001b[0mshow_output\u001b[0m\u001b[0;34m=\u001b[0m\u001b[0;32mTrue\u001b[0m\u001b[0;34m)\u001b[0m\u001b[0;34m\u001b[0m\u001b[0;34m\u001b[0m\u001b[0m\n\u001b[0m",
            "\u001b[0;32m/anaconda/envs/azureml_py36/lib/python3.6/site-packages/azureml/core/webservice/webservice.py\u001b[0m in \u001b[0;36mwait_for_deployment\u001b[0;34m(self, show_output, timeout_sec)\u001b[0m\n\u001b[1;32m    923\u001b[0m                                           \u001b[0;34m'Error:\\n'\u001b[0m\u001b[0;34m\u001b[0m\u001b[0;34m\u001b[0m\u001b[0m\n\u001b[1;32m    924\u001b[0m                                           '{}'.format(self.state, self._operation_endpoint.split('/')[-1],\n\u001b[0;32m--> 925\u001b[0;31m                                                       logs_response, format_error_response), logger=module_logger)\n\u001b[0m\u001b[1;32m    926\u001b[0m             print('{} service creation operation finished, operation \"{}\"'.format(self._webservice_type,\n\u001b[1;32m    927\u001b[0m                                                                                   operation_state))\n",
            "\u001b[0;31mWebserviceException\u001b[0m: WebserviceException:\n\tMessage: Service deployment polling reached non-successful terminal state, current service state: Failed\nOperation ID: 139e4aae-2a0e-4cea-a397-ad362e1f88e1\nMore information can be found using '.get_logs()'\nError:\n{\n  \"code\": \"AciDeploymentFailed\",\n  \"statusCode\": 400,\n  \"message\": \"Aci Deployment failed with exception: Error in entry script, FileNotFoundError: [Errno 2] No such file or directory: '/var/azureml-app/azureml-models/automl-model/2/model.pkl', please run print(service.get_logs()) to get details.\",\n  \"details\": [\n    {\n      \"code\": \"CrashLoopBackOff\",\n      \"message\": \"Error in entry script, FileNotFoundError: [Errno 2] No such file or directory: '/var/azureml-app/azureml-models/automl-model/2/model.pkl', please run print(service.get_logs()) to get details.\"\n    }\n  ]\n}\n\tInnerException None\n\tErrorResponse \n{\n    \"error\": {\n        \"message\": \"Service deployment polling reached non-successful terminal state, current service state: Failed\\nOperation ID: 139e4aae-2a0e-4cea-a397-ad362e1f88e1\\nMore information can be found using '.get_logs()'\\nError:\\n{\\n  \\\"code\\\": \\\"AciDeploymentFailed\\\",\\n  \\\"statusCode\\\": 400,\\n  \\\"message\\\": \\\"Aci Deployment failed with exception: Error in entry script, FileNotFoundError: [Errno 2] No such file or directory: '/var/azureml-app/azureml-models/automl-model/2/model.pkl', please run print(service.get_logs()) to get details.\\\",\\n  \\\"details\\\": [\\n    {\\n      \\\"code\\\": \\\"CrashLoopBackOff\\\",\\n      \\\"message\\\": \\\"Error in entry script, FileNotFoundError: [Errno 2] No such file or directory: '/var/azureml-app/azureml-models/automl-model/2/model.pkl', please run print(service.get_logs()) to get details.\\\"\\n    }\\n  ]\\n}\"\n    }\n}"
          ]
        }
      ],
      "execution_count": 46,
      "metadata": {
        "gather": {
          "logged": 1598431435189
        },
        "jupyter": {
          "outputs_hidden": false,
          "source_hidden": false
        },
        "nteract": {
          "transient": {
            "deleting": false
          }
        }
      }
    },
    {
      "cell_type": "code",
      "source": [
        "service.get_logs()"
      ],
      "outputs": [
        {
          "output_type": "execute_result",
          "execution_count": 48,
          "data": {
            "text/plain": "'2021-11-21T09:02:49,503576600+00:00 - iot-server/run \\n2021-11-21T09:02:49,506654700+00:00 - rsyslog/run \\n2021-11-21T09:02:49,518116800+00:00 - gunicorn/run \\nDynamic Python package installation is disabled.\\nStarting HTTP server\\n2021-11-21T09:02:49,613083200+00:00 - nginx/run \\nrsyslogd: /azureml-envs/azureml_705720c76ff57b57c77d577152dabb18/lib/libuuid.so.1: no version information available (required by rsyslogd)\\nEdgeHubConnectionString and IOTEDGE_IOTHUBHOSTNAME are not set. Exiting...\\n2021-11-21T09:02:49,895561900+00:00 - iot-server/finish 1 0\\n2021-11-21T09:02:49,901391700+00:00 - Exit code 1 is normal. Not restarting iot-server.\\nStarting gunicorn 20.1.0\\nListening at: http://127.0.0.1:31311 (403)\\nUsing worker: sync\\nworker timeout is set to 300\\nBooting worker with pid: 431\\nSPARK_HOME not set. Skipping PySpark Initialization.\\nGenerating new fontManager, this may take some time...\\nInitializing logger\\n2021-11-21 09:02:52,718 | root | INFO | Starting up app insights client\\nlogging socket was found. logging is available.\\nlogging socket was found. logging is available.\\n2021-11-21 09:02:52,719 | root | INFO | Starting up request id generator\\n2021-11-21 09:02:52,719 | root | INFO | Starting up app insight hooks\\n2021-11-21 09:02:52,720 | root | INFO | Invoking user\\'s init function\\n2021-11-21 09:02:52,740 | root | ERROR | User\\'s init function failed\\n2021-11-21 09:02:52,748 | root | ERROR | Encountered Exception Traceback (most recent call last):\\n  File \"/var/azureml-server/aml_blueprint.py\", line 191, in register\\n    main.init()\\n  File \"/var/azureml-app/main.py\", line 35, in init\\n    driver_module.init()\\n  File \"/var/azureml-app/odl_user_164108/scoreScript.py\", line 43, in init\\n    model = joblib.load(model_path)\\n  File \"/azureml-envs/azureml_705720c76ff57b57c77d577152dabb18/lib/python3.6/site-packages/joblib/numpy_pickle.py\", line 597, in load\\n    with open(filename, \\'rb\\') as f:\\nFileNotFoundError: [Errno 2] No such file or directory: \\'/var/azureml-app/azureml-models/automl-model/2/model.pkl\\'\\n\\n2021-11-21 09:02:52,750 | root | INFO | Waiting for logs to be sent to Application Insights before exit.\\n2021-11-21 09:02:52,751 | root | INFO | Waiting 30 seconds for upload.\\n'"
          },
          "metadata": {}
        }
      ],
      "execution_count": 48,
      "metadata": {
        "jupyter": {
          "source_hidden": false,
          "outputs_hidden": false
        },
        "nteract": {
          "transient": {
            "deleting": false
          }
        },
        "gather": {
          "logged": 1637485384381
        }
      }
    },
    {
      "cell_type": "code",
      "source": [
        "print(service.state)"
      ],
      "outputs": [],
      "execution_count": null,
      "metadata": {
        "jupyter": {
          "source_hidden": false,
          "outputs_hidden": false
        },
        "nteract": {
          "transient": {
            "deleting": false
          }
        }
      }
    },
    {
      "cell_type": "markdown",
      "source": [
        "TODO: In the cell below, send a request to the web service you deployed to test it."
      ],
      "metadata": {
        "collapsed": true,
        "gather": {
          "logged": 1598431657736
        },
        "jupyter": {
          "outputs_hidden": false,
          "source_hidden": false
        },
        "nteract": {
          "transient": {
            "deleting": false
          }
        }
      }
    },
    {
      "cell_type": "code",
      "source": [
        "import requests\n",
        "import json\n",
        "\n",
        "\n",
        "# get the keys:\n",
        "primary_key, secondary_key = service.get_keys()\n",
        "\n",
        "scoring_uri = service.scoring_uri\n",
        "# If the service is authenticated, set the key or token\n",
        "key = primary_key\n",
        "\n",
        "# Two sets of data to score, so we get two results back\n",
        "data = {\"data\":\n",
        "        [\n",
        "          {\n",
        "            \"type\": white,\n",
        "            \"fixed acidity\": 7,\n",
        "            \"volatile acidity\": 0.27,\n",
        "            \"citric acid\": 0.36,\n",
        "            \"residual sugar\": 20.7,\n",
        "            \"chlorides\": 0.045,\n",
        "            \"free sulfur dioxide\": 45,\n",
        "            \"total sulfur dioxide\": 170,\n",
        "            \"desnsity\": 1.001,\n",
        "            \"pH\": 3,\n",
        "            \"sulphates\": 0.45,\n",
        "            \"alcohol\": 8.8,\n",
        "          },\n",
        "          {\n",
        "            \"type\": red,\n",
        "            \"fixed acidity\": 6,\n",
        "            \"volatile acidity\": 0.31,\n",
        "            \"citric acid\": 0.47,\n",
        "            \"residual sugar\": 3.6,\n",
        "            \"chlorides\": 0.067,\n",
        "            \"free sulfur dioxide\": 18,\n",
        "            \"total sulfur dioxide\": 42,\n",
        "            \"desnsity\": 0.99549,\n",
        "            \"pH\": 3.39,\n",
        "            \"sulphates\": 0.66,\n",
        "            \"alcohol\": 11,\n",
        "          },\n",
        "      ]\n",
        "    }\n",
        "# Convert to JSON string\n",
        "input_data = json.dumps(data)\n",
        "with open(\"data.json\", \"w\") as _f:\n",
        "    _f.write(input_data)\n",
        "\n",
        "# Set the content type\n",
        "headers = {'Content-Type': 'application/json'}\n",
        "# If authentication is enabled, set the authorization header\n",
        "headers['Authorization'] = f'Bearer {key}'\n",
        "\n",
        "# Make the request and display the response\n",
        "resp = requests.post(scoring_uri, input_data, headers=headers)\n",
        "print(resp.json())\n",
        "\n",
        "\n"
      ],
      "outputs": [],
      "execution_count": null,
      "metadata": {
        "gather": {
          "logged": 1598432707604
        },
        "jupyter": {
          "outputs_hidden": false,
          "source_hidden": false
        },
        "nteract": {
          "transient": {
            "deleting": false
          }
        }
      }
    },
    {
      "cell_type": "markdown",
      "source": [
        "TODO: In the cell below, print the logs of the web service and delete the service"
      ],
      "metadata": {
        "collapsed": true,
        "gather": {
          "logged": 1598432765711
        },
        "jupyter": {
          "outputs_hidden": false,
          "source_hidden": false
        },
        "nteract": {
          "transient": {
            "deleting": false
          }
        }
      }
    },
    {
      "cell_type": "code",
      "source": [
        "service.delete()"
      ],
      "outputs": [],
      "execution_count": null,
      "metadata": {
        "jupyter": {
          "outputs_hidden": false,
          "source_hidden": false
        },
        "nteract": {
          "transient": {
            "deleting": false
          }
        }
      }
    },
    {
      "cell_type": "markdown",
      "source": [
        "**Submission Checklist**\n",
        "- I have registered the model.\n",
        "- I have deployed the model with the best accuracy as a webservice.\n",
        "- I have tested the webservice by sending a request to the model endpoint.\n",
        "- I have deleted the webservice and shutdown all the computes that I have used.\n",
        "- I have taken a screenshot showing the model endpoint as active.\n",
        "- The project includes a file containing the environment details.\n"
      ],
      "metadata": {}
    },
    {
      "cell_type": "markdown",
      "source": [],
      "metadata": {}
    }
  ],
  "metadata": {
    "kernel_info": {
      "name": "python3"
    },
    "kernelspec": {
      "name": "python3",
      "language": "python",
      "display_name": "Python 3"
    },
    "language_info": {
      "name": "python",
      "version": "3.6.9",
      "mimetype": "text/x-python",
      "codemirror_mode": {
        "name": "ipython",
        "version": 3
      },
      "pygments_lexer": "ipython3",
      "nbconvert_exporter": "python",
      "file_extension": ".py"
    },
    "nteract": {
      "version": "nteract-front-end@1.0.0"
    },
    "microsoft": {
      "host": {
        "AzureML": {
          "notebookHasBeenCompleted": true
        }
      }
    }
  },
  "nbformat": 4,
  "nbformat_minor": 2
}