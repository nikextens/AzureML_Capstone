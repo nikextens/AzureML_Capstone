{
  "cells": [
    {
      "cell_type": "markdown",
      "source": [
        "# Automated ML\n",
        "\n",
        "TODO: Import Dependencies. In the cell below, import all the dependencies that you will need to complete the project."
      ],
      "metadata": {}
    },
    {
      "cell_type": "code",
      "source": [
        "from azureml.core import Workspace, Experiment, Dataset\n",
        "from azureml.core.compute import ComputeTarget, AmlCompute\n",
        "from azureml.core.compute_target import ComputeTargetException\n",
        "from azureml.data.dataset_factory import TabularDatasetFactory\n",
        "from azureml.train.automl import AutoMLConfig\n",
        "#from azureml.pipeline.core import PipelineData, TrainingOutput\n",
        "#from azureml.pipeline.core import Pipeline\n",
        "from azureml.widgets import RunDetails\n",
        "\n",
        "\n",
        "import pandas as pd\n",
        "import requests\n",
        "import logging\n",
        "import os\n",
        "import csv"
      ],
      "outputs": [],
      "execution_count": 1,
      "metadata": {
        "gather": {
          "logged": 1636193913845
        },
        "jupyter": {
          "outputs_hidden": false,
          "source_hidden": false
        },
        "nteract": {
          "transient": {
            "deleting": false
          }
        }
      }
    },
    {
      "cell_type": "markdown",
      "source": [
        "## ML setup + Dataset\n",
        "\n",
        "### Overview"
      ],
      "metadata": {}
    },
    {
      "cell_type": "markdown",
      "source": [
        "Retrieve dataset from kaggle (https://www.kaggle.com/ruthgn/wine-quality-data-set-red-white-wine?select=wine-quality-white-and-red.csv). \n",
        "\n",
        "Task: classification of wine quality"
      ],
      "metadata": {}
    },
    {
      "cell_type": "code",
      "source": [
        "url_wine_data=\"https://docs.google.com/spreadsheets/d/e/2PACX-1vQ0_ymTF3299kfZvr0KJq5JMLX7ZK4yRg9RXYTqEsMqm2eeUrABv_4MVQMzrqfw1CsbmcrnTqIluMA0/pub?output=csv\"\n",
        "wine_data = pd.read_csv(url_wine_data)\n",
        "description_data = \"This data set contains records related to red and white variants of the Portuguese Vinho Verde wine.\"\n",
        "print(wine_data.head())\n",
        "print(\"\")\n",
        "print(\"INFO\")\n",
        "print(wine_data.info())\n",
        "print(\"\")\n",
        "print(\"DESCRIPTION\")\n",
        "print(wine_data.describe())"
      ],
      "outputs": [
        {
          "output_type": "stream",
          "name": "stdout",
          "text": "    type  fixed acidity  volatile acidity  citric acid  residual sugar  \\\n0  white            7.0              0.27         0.36            20.7   \n1  white            6.3              0.30         0.34             1.6   \n2  white            8.1              0.28         0.40             6.9   \n3  white            7.2              0.23         0.32             8.5   \n4  white            7.2              0.23         0.32             8.5   \n\n   chlorides  free sulfur dioxide  total sulfur dioxide  density    pH  \\\n0      0.045                 45.0                 170.0   1.0010  3.00   \n1      0.049                 14.0                 132.0   0.9940  3.30   \n2      0.050                 30.0                  97.0   0.9951  3.26   \n3      0.058                 47.0                 186.0   0.9956  3.19   \n4      0.058                 47.0                 186.0   0.9956  3.19   \n\n   sulphates  alcohol  quality  \n0       0.45      8.8        6  \n1       0.49      9.5        6  \n2       0.44     10.1        6  \n3       0.40      9.9        6  \n4       0.40      9.9        6  \n\nINFO\n<class 'pandas.core.frame.DataFrame'>\nRangeIndex: 6497 entries, 0 to 6496\nData columns (total 13 columns):\ntype                    6497 non-null object\nfixed acidity           6497 non-null float64\nvolatile acidity        6497 non-null float64\ncitric acid             6497 non-null float64\nresidual sugar          6497 non-null float64\nchlorides               6497 non-null float64\nfree sulfur dioxide     6497 non-null float64\ntotal sulfur dioxide    6497 non-null float64\ndensity                 6497 non-null float64\npH                      6497 non-null float64\nsulphates               6497 non-null float64\nalcohol                 6497 non-null float64\nquality                 6497 non-null int64\ndtypes: float64(11), int64(1), object(1)\nmemory usage: 660.0+ KB\nNone\n\nDESCRIPTION\n       fixed acidity  volatile acidity  citric acid  residual sugar  \\\ncount    6497.000000       6497.000000  6497.000000     6497.000000   \nmean        7.215307          0.339666     0.318633        5.443235   \nstd         1.296434          0.164636     0.145318        4.757804   \nmin         3.800000          0.080000     0.000000        0.600000   \n25%         6.400000          0.230000     0.250000        1.800000   \n50%         7.000000          0.290000     0.310000        3.000000   \n75%         7.700000          0.400000     0.390000        8.100000   \nmax        15.900000          1.580000     1.660000       65.800000   \n\n         chlorides  free sulfur dioxide  total sulfur dioxide      density  \\\ncount  6497.000000          6497.000000           6497.000000  6497.000000   \nmean      0.056034            30.525319            115.744574     0.994697   \nstd       0.035034            17.749400             56.521855     0.002999   \nmin       0.009000             1.000000              6.000000     0.987110   \n25%       0.038000            17.000000             77.000000     0.992340   \n50%       0.047000            29.000000            118.000000     0.994890   \n75%       0.065000            41.000000            156.000000     0.996990   \nmax       0.611000           289.000000            440.000000     1.038980   \n\n                pH    sulphates      alcohol      quality  \ncount  6497.000000  6497.000000  6497.000000  6497.000000  \nmean      3.218501     0.531268    10.491801     5.818378  \nstd       0.160787     0.148806     1.192712     0.873255  \nmin       2.720000     0.220000     8.000000     3.000000  \n25%       3.110000     0.430000     9.500000     5.000000  \n50%       3.210000     0.510000    10.300000     6.000000  \n75%       3.320000     0.600000    11.300000     6.000000  \nmax       4.010000     2.000000    14.900000     9.000000  \n"
        }
      ],
      "execution_count": 2,
      "metadata": {
        "gather": {
          "logged": 1636193921426
        }
      }
    },
    {
      "cell_type": "markdown",
      "source": [
        "### Workspace and Experiment"
      ],
      "metadata": {}
    },
    {
      "cell_type": "code",
      "source": [
        "ws = Workspace.from_config()\n",
        "\n",
        "# choose a name for experiment\n",
        "experiment_name = 'Capstone_project'\n",
        "\n",
        "experiment=Experiment(ws, experiment_name)\n",
        "\n",
        "\n",
        "print('Workspace name: ' + ws.name, \n",
        "      'Azure region: ' + ws.location, \n",
        "      'Subscription id: ' + ws.subscription_id, \n",
        "      'Resource group: ' + ws.resource_group, sep = '\\n')"
      ],
      "outputs": [
        {
          "output_type": "stream",
          "name": "stdout",
          "text": "Performing interactive authentication. Please follow the instructions on the terminal.\nTo sign in, use a web browser to open the page https://microsoft.com/devicelogin and enter the code FAN9HYM4Z to authenticate.\nYou have logged in. Now let us find all the subscriptions to which you have access...\nInteractive authentication successfully completed.\nWorkspace name: quick-starts-ws-162865\nAzure region: southcentralus\nSubscription id: 610d6e37-4747-4a20-80eb-3aad70a55f43\nResource group: aml-quickstarts-162865\n"
        }
      ],
      "execution_count": 3,
      "metadata": {
        "gather": {
          "logged": 1636193958343
        },
        "jupyter": {
          "outputs_hidden": false,
          "source_hidden": false
        },
        "nteract": {
          "transient": {
            "deleting": false
          }
        }
      }
    },
    {
      "cell_type": "markdown",
      "source": [
        "### Compute Cluster"
      ],
      "metadata": {}
    },
    {
      "cell_type": "code",
      "source": [
        "# Create compute cluster\n",
        "# Use vm_size = \"STANDARD_DS2_V2\" \n",
        "\n",
        "cpu_cluster_name = 'auto-ml'\n",
        "try:\n",
        "    compute_target = ComputeTarget(workspace=ws,name=cpu_cluster_name)\n",
        "    print('existing cluster found and will be used')\n",
        "except ComputeTargetException:\n",
        "    compute_config = AmlCompute.provisioning_configuration(vm_size='Standard_DS12_v2', max_nodes=4)\n",
        "    compute_target = ComputeTarget.create(ws,cpu_cluster_name,compute_config)\n",
        "    compute_target.wait_for_completion(show_output=True)"
      ],
      "outputs": [
        {
          "output_type": "stream",
          "name": "stdout",
          "text": "InProgress.....\nSucceededProvisioning operation finished, operation \"Succeeded\"\nSucceeded\nAmlCompute wait for completion finished\n\nMinimum number of nodes requested have been provisioned\n"
        }
      ],
      "execution_count": 10,
      "metadata": {
        "gather": {
          "logged": 1636194380678
        }
      }
    },
    {
      "cell_type": "markdown",
      "source": [
        "### Dataset"
      ],
      "metadata": {}
    },
    {
      "cell_type": "code",
      "source": [
        "#Getting default ds\n",
        "data_store = ws.get_default_datastore()\n",
        "print('get default datastore')\n",
        "\n",
        "#Registering dataframe as dataset in AzureML\n",
        "ds = Dataset.Tabular.register_pandas_dataframe(wine_data,data_store,'Wine_Data_Project3',description=description_data)\n",
        "ds = ds.register(workspace=ws, name='Wine_Data_Project3', description=description_data)\n",
        "\n",
        "print(\"dataset registered.\")"
      ],
      "outputs": [
        {
          "output_type": "stream",
          "name": "stderr",
          "text": "Method register_pandas_dataframe: This is an experimental method, and may change at any time. Please see https://aka.ms/azuremlexperimental for more information.\n"
        },
        {
          "output_type": "stream",
          "name": "stdout",
          "text": "get default datastore\nValidating arguments.\nArguments validated.\nSuccessfully obtained datastore reference and path.\nUploading file to managed-dataset/b5220749-e05b-4ae4-8287-8ac622dbdc55/\nSuccessfully uploaded file to datastore.\nCreating and registering a new dataset.\nSuccessfully created and registered a new dataset.\ndataset registered.\n"
        }
      ],
      "execution_count": 13,
      "metadata": {
        "gather": {
          "logged": 1636194477697
        }
      }
    },
    {
      "cell_type": "code",
      "source": [
        "ds.take(5).to_pandas_dataframe()"
      ],
      "outputs": [
        {
          "output_type": "execute_result",
          "execution_count": 14,
          "data": {
            "text/plain": "    type  fixed acidity  volatile acidity  citric acid  residual sugar  \\\n0  white            7.0              0.27         0.36            20.7   \n1  white            6.3              0.30         0.34             1.6   \n2  white            8.1              0.28         0.40             6.9   \n3  white            7.2              0.23         0.32             8.5   \n4  white            7.2              0.23         0.32             8.5   \n\n   chlorides  free sulfur dioxide  total sulfur dioxide  density    pH  \\\n0      0.045                 45.0                 170.0   1.0010  3.00   \n1      0.049                 14.0                 132.0   0.9940  3.30   \n2      0.050                 30.0                  97.0   0.9951  3.26   \n3      0.058                 47.0                 186.0   0.9956  3.19   \n4      0.058                 47.0                 186.0   0.9956  3.19   \n\n   sulphates  alcohol  quality  \n0       0.45      8.8        6  \n1       0.49      9.5        6  \n2       0.44     10.1        6  \n3       0.40      9.9        6  \n4       0.40      9.9        6  ",
            "text/html": "<div>\n<style scoped>\n    .dataframe tbody tr th:only-of-type {\n        vertical-align: middle;\n    }\n\n    .dataframe tbody tr th {\n        vertical-align: top;\n    }\n\n    .dataframe thead th {\n        text-align: right;\n    }\n</style>\n<table border=\"1\" class=\"dataframe\">\n  <thead>\n    <tr style=\"text-align: right;\">\n      <th></th>\n      <th>type</th>\n      <th>fixed acidity</th>\n      <th>volatile acidity</th>\n      <th>citric acid</th>\n      <th>residual sugar</th>\n      <th>chlorides</th>\n      <th>free sulfur dioxide</th>\n      <th>total sulfur dioxide</th>\n      <th>density</th>\n      <th>pH</th>\n      <th>sulphates</th>\n      <th>alcohol</th>\n      <th>quality</th>\n    </tr>\n  </thead>\n  <tbody>\n    <tr>\n      <th>0</th>\n      <td>white</td>\n      <td>7.0</td>\n      <td>0.27</td>\n      <td>0.36</td>\n      <td>20.7</td>\n      <td>0.045</td>\n      <td>45.0</td>\n      <td>170.0</td>\n      <td>1.0010</td>\n      <td>3.00</td>\n      <td>0.45</td>\n      <td>8.8</td>\n      <td>6</td>\n    </tr>\n    <tr>\n      <th>1</th>\n      <td>white</td>\n      <td>6.3</td>\n      <td>0.30</td>\n      <td>0.34</td>\n      <td>1.6</td>\n      <td>0.049</td>\n      <td>14.0</td>\n      <td>132.0</td>\n      <td>0.9940</td>\n      <td>3.30</td>\n      <td>0.49</td>\n      <td>9.5</td>\n      <td>6</td>\n    </tr>\n    <tr>\n      <th>2</th>\n      <td>white</td>\n      <td>8.1</td>\n      <td>0.28</td>\n      <td>0.40</td>\n      <td>6.9</td>\n      <td>0.050</td>\n      <td>30.0</td>\n      <td>97.0</td>\n      <td>0.9951</td>\n      <td>3.26</td>\n      <td>0.44</td>\n      <td>10.1</td>\n      <td>6</td>\n    </tr>\n    <tr>\n      <th>3</th>\n      <td>white</td>\n      <td>7.2</td>\n      <td>0.23</td>\n      <td>0.32</td>\n      <td>8.5</td>\n      <td>0.058</td>\n      <td>47.0</td>\n      <td>186.0</td>\n      <td>0.9956</td>\n      <td>3.19</td>\n      <td>0.40</td>\n      <td>9.9</td>\n      <td>6</td>\n    </tr>\n    <tr>\n      <th>4</th>\n      <td>white</td>\n      <td>7.2</td>\n      <td>0.23</td>\n      <td>0.32</td>\n      <td>8.5</td>\n      <td>0.058</td>\n      <td>47.0</td>\n      <td>186.0</td>\n      <td>0.9956</td>\n      <td>3.19</td>\n      <td>0.40</td>\n      <td>9.9</td>\n      <td>6</td>\n    </tr>\n  </tbody>\n</table>\n</div>"
          },
          "metadata": {}
        }
      ],
      "execution_count": 14,
      "metadata": {
        "gather": {
          "logged": 1636194569854
        }
      }
    },
    {
      "cell_type": "markdown",
      "source": [
        "## AutoML Configuration\n",
        "\n",
        "TODO: Explain why you chose the automl settings and cofiguration you used below."
      ],
      "metadata": {}
    },
    {
      "cell_type": "code",
      "source": [
        "# TODO: Put your automl settings here\n",
        "automl_settings = {\n",
        "       \"n_cross_validations\": 5,\n",
        "       \"primary_metric\": 'AUC_weighted',\n",
        "       \"enable_early_stopping\": True,\n",
        "       \"experiment_timeout_hours\": 1.0,\n",
        "       \"max_concurrent_iterations\": 4,\n",
        "       \"verbosity\": logging.INFO,\n",
        "   }\n",
        "\n",
        "# TODO: Put your automl config here\n",
        "automl_config = AutoMLConfig(\n",
        "    compute_target = compute_target,\n",
        "    task='classification',\n",
        "    training_data=ds,\n",
        "    label_column_name='quality',\n",
        "    **automl_settings)"
      ],
      "outputs": [],
      "execution_count": 15,
      "metadata": {
        "gather": {
          "logged": 1636194579566
        },
        "jupyter": {
          "outputs_hidden": false,
          "source_hidden": false
        },
        "nteract": {
          "transient": {
            "deleting": false
          }
        }
      }
    },
    {
      "cell_type": "code",
      "source": [
        "# TODO: Submit your experiment\n",
        "remote_run = experiment.submit(automl_config, show_output=True)"
      ],
      "outputs": [
        {
          "output_type": "stream",
          "name": "stdout",
          "text": "Submitting remote run.\nNo run_configuration provided, running on auto-ml with default configuration\nRunning on remote compute: auto-ml\n"
        },
        {
          "output_type": "display_data",
          "data": {
            "text/plain": "<IPython.core.display.HTML object>",
            "text/html": "<table style=\"width:100%\"><tr><th>Experiment</th><th>Id</th><th>Type</th><th>Status</th><th>Details Page</th><th>Docs Page</th></tr><tr><td>Capstone_project</td><td>AutoML_0a6eb683-1673-4525-8426-78fd5496832c</td><td>automl</td><td>NotStarted</td><td><a href=\"https://ml.azure.com/runs/AutoML_0a6eb683-1673-4525-8426-78fd5496832c?wsid=/subscriptions/610d6e37-4747-4a20-80eb-3aad70a55f43/resourcegroups/aml-quickstarts-162865/workspaces/quick-starts-ws-162865&amp;tid=660b3398-b80e-49d2-bc5b-ac1dc93b5254\" target=\"_blank\" rel=\"noopener\">Link to Azure Machine Learning studio</a></td><td><a href=\"https://docs.microsoft.com/en-us/python/api/overview/azure/ml/intro?view=azure-ml-py\" target=\"_blank\" rel=\"noopener\">Link to Documentation</a></td></tr></table>"
          },
          "metadata": {}
        },
        {
          "output_type": "stream",
          "name": "stdout",
          "text": "\n"
        }
      ],
      "execution_count": 16,
      "metadata": {
        "gather": {
          "logged": 1598431107951
        },
        "jupyter": {
          "outputs_hidden": false,
          "source_hidden": false
        },
        "nteract": {
          "transient": {
            "deleting": false
          }
        }
      }
    },
    {
      "cell_type": "markdown",
      "source": [
        "## Run Details\n",
        "\n",
        "OPTIONAL: Write about the different models trained and their performance. Why do you think some models did better than others?\n",
        "\n",
        "TODO: In the cell below, use the `RunDetails` widget to show the different experiments."
      ],
      "metadata": {}
    },
    {
      "cell_type": "code",
      "source": [
        "RunDetails(remote_run).show()\n",
        "remote_run.wait_for_completion()"
      ],
      "outputs": [],
      "execution_count": null,
      "metadata": {
        "gather": {
          "logged": 1598431121770
        },
        "jupyter": {
          "outputs_hidden": false,
          "source_hidden": false
        },
        "nteract": {
          "transient": {
            "deleting": false
          }
        }
      }
    },
    {
      "cell_type": "markdown",
      "source": [
        "## Best Model\n",
        "\n",
        "TODO: In the cell below, get the best model from the automl experiments and display all the properties of the model.\n",
        "\n"
      ],
      "metadata": {}
    },
    {
      "cell_type": "code",
      "source": [
        "best_automl_run, best_automl_model = remote_run.get_output()\n",
        "print(\"Best model: \", best_automl_model)\n",
        "print(\"Best estimator: \", best_automl_model.steps[-1])"
      ],
      "outputs": [],
      "execution_count": null,
      "metadata": {
        "gather": {
          "logged": 1598431425670
        },
        "jupyter": {
          "outputs_hidden": false,
          "source_hidden": false
        },
        "nteract": {
          "transient": {
            "deleting": false
          }
        }
      }
    },
    {
      "cell_type": "code",
      "source": [
        "#TODO: Save the best model\n",
        "best_automl_run.register_model(model_name='project1_model2', model_path = '/outputs/.')"
      ],
      "outputs": [],
      "execution_count": null,
      "metadata": {
        "gather": {
          "logged": 1598431426111
        },
        "jupyter": {
          "outputs_hidden": false,
          "source_hidden": false
        },
        "nteract": {
          "transient": {
            "deleting": false
          }
        }
      }
    },
    {
      "cell_type": "markdown",
      "source": [
        "## Model Deployment\n",
        "\n",
        "Remember you have to deploy only one of the two models you trained but you still need to register both the models. Perform the steps in the rest of this notebook only if you wish to deploy this model.\n",
        "\n",
        "TODO: In the cell below, register the model, create an inference config and deploy the model as a web service."
      ],
      "metadata": {}
    },
    {
      "cell_type": "code",
      "source": [
        "# deployment config\n",
        "from azureml.core.webservice import Webservice, AciWebservice\n",
        "my_deployment_config = AciWebservice.deploy_configuration(cpu_cores=1, memory_gb = 1)"
      ],
      "outputs": [],
      "execution_count": null,
      "metadata": {}
    },
    {
      "cell_type": "code",
      "source": [
        "# inference config\n",
        "from azureml.core.model import InferenceConfig\n",
        "from azureml.core.environment import Environment\n",
        "#environment\n",
        "my_env = Environment(name=\"env_AzureML_AutoML_run\")\n",
        "my_inference_config = InferenceConfig(entry_script=\"scoring.py\",environment=my_env)\n"
      ],
      "outputs": [],
      "execution_count": null,
      "metadata": {}
    },
    {
      "cell_type": "code",
      "source": [
        "from azureml.core.model import InferenceConfig\n",
        "from azureml.core.environment import Environment\n",
        "\n",
        "service = model.deploy(workspace=ws,  \n",
        "                       name=\"local-deploy-service\", \n",
        "                       model=[model], \n",
        "                       interference_config=my_inference_config, \n",
        "                       deployment_config=my_deployment_config)\n",
        "\n",
        "service.wait_for_deployment(show_output=True)"
      ],
      "outputs": [],
      "execution_count": null,
      "metadata": {
        "gather": {
          "logged": 1598431435189
        },
        "jupyter": {
          "outputs_hidden": false,
          "source_hidden": false
        },
        "nteract": {
          "transient": {
            "deleting": false
          }
        }
      }
    },
    {
      "cell_type": "markdown",
      "source": [
        "TODO: In the cell below, send a request to the web service you deployed to test it."
      ],
      "metadata": {
        "collapsed": true,
        "gather": {
          "logged": 1598431657736
        },
        "jupyter": {
          "outputs_hidden": false,
          "source_hidden": false
        },
        "nteract": {
          "transient": {
            "deleting": false
          }
        }
      }
    },
    {
      "cell_type": "code",
      "source": [
        "import requests\n",
        "import json\n",
        "\n",
        "\n",
        "# get the keys:\n",
        "primary_key, secondary_key = service.get_keys()\n",
        "\n",
        "scoring_uri = service.scoring_uri\n",
        "# If the service is authenticated, set the key or token\n",
        "key = primary_key\n",
        "\n",
        "# Two sets of data to score, so we get two results back\n",
        "data = {\"data\":\n",
        "        [\n",
        "          {\n",
        "            \"type\": white,\n",
        "            \"fixed acidity\": 7,\n",
        "            \"volatile acidity\": 0.27,\n",
        "            \"citric acid\": 0.36,\n",
        "            \"residual sugar\": 20.7,\n",
        "            \"chlorides\": 0.045,\n",
        "            \"free sulfur dioxide\": 45,\n",
        "            \"total sulfur dioxide\": 170,\n",
        "            \"desnsity\": 1.001,\n",
        "            \"pH\": 3,\n",
        "            \"sulphates\": 0.45,\n",
        "            \"alcohol\": 8.8,\n",
        "          },\n",
        "          {\n",
        "            \"type\": red,\n",
        "            \"fixed acidity\": 6,\n",
        "            \"volatile acidity\": 0.31,\n",
        "            \"citric acid\": 0.47,\n",
        "            \"residual sugar\": 3.6,\n",
        "            \"chlorides\": 0.067,\n",
        "            \"free sulfur dioxide\": 18,\n",
        "            \"total sulfur dioxide\": 42,\n",
        "            \"desnsity\": 0.99549,\n",
        "            \"pH\": 3.39,\n",
        "            \"sulphates\": 0.66,\n",
        "            \"alcohol\": 11,\n",
        "          },\n",
        "      ]\n",
        "    }\n",
        "# Convert to JSON string\n",
        "input_data = json.dumps(data)\n",
        "with open(\"data.json\", \"w\") as _f:\n",
        "    _f.write(input_data)\n",
        "\n",
        "# Set the content type\n",
        "headers = {'Content-Type': 'application/json'}\n",
        "# If authentication is enabled, set the authorization header\n",
        "headers['Authorization'] = f'Bearer {key}'\n",
        "\n",
        "# Make the request and display the response\n",
        "resp = requests.post(scoring_uri, input_data, headers=headers)\n",
        "print(resp.json())\n",
        "\n",
        "\n"
      ],
      "outputs": [],
      "execution_count": null,
      "metadata": {
        "gather": {
          "logged": 1598432707604
        },
        "jupyter": {
          "outputs_hidden": false,
          "source_hidden": false
        },
        "nteract": {
          "transient": {
            "deleting": false
          }
        }
      }
    },
    {
      "cell_type": "markdown",
      "source": [
        "TODO: In the cell below, print the logs of the web service and delete the service"
      ],
      "metadata": {
        "collapsed": true,
        "gather": {
          "logged": 1598432765711
        },
        "jupyter": {
          "outputs_hidden": false,
          "source_hidden": false
        },
        "nteract": {
          "transient": {
            "deleting": false
          }
        }
      }
    },
    {
      "cell_type": "code",
      "source": [
        "service.delete()"
      ],
      "outputs": [],
      "execution_count": null,
      "metadata": {
        "jupyter": {
          "outputs_hidden": false,
          "source_hidden": false
        },
        "nteract": {
          "transient": {
            "deleting": false
          }
        }
      }
    },
    {
      "cell_type": "markdown",
      "source": [
        "**Submission Checklist**\n",
        "- I have registered the model.\n",
        "- I have deployed the model with the best accuracy as a webservice.\n",
        "- I have tested the webservice by sending a request to the model endpoint.\n",
        "- I have deleted the webservice and shutdown all the computes that I have used.\n",
        "- I have taken a screenshot showing the model endpoint as active.\n",
        "- The project includes a file containing the environment details.\n"
      ],
      "metadata": {}
    },
    {
      "cell_type": "markdown",
      "source": [],
      "metadata": {}
    }
  ],
  "metadata": {
    "kernel_info": {
      "name": "python3"
    },
    "kernelspec": {
      "name": "python3",
      "language": "python",
      "display_name": "Python 3"
    },
    "language_info": {
      "name": "python",
      "version": "3.6.9",
      "mimetype": "text/x-python",
      "codemirror_mode": {
        "name": "ipython",
        "version": 3
      },
      "pygments_lexer": "ipython3",
      "nbconvert_exporter": "python",
      "file_extension": ".py"
    },
    "nteract": {
      "version": "nteract-front-end@1.0.0"
    }
  },
  "nbformat": 4,
  "nbformat_minor": 2
}