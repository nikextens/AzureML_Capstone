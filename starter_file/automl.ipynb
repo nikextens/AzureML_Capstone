{
  "cells": [
    {
      "cell_type": "markdown",
      "source": [
        "# Automated ML\n",
        "\n",
        "TODO: Import Dependencies. In the cell below, import all the dependencies that you will need to complete the project."
      ],
      "metadata": {}
    },
    {
      "cell_type": "code",
      "source": [
        "from azureml.core import Workspace, Experiment, Dataset\n",
        "from azureml.core.compute import ComputeTarget, AmlCompute\n",
        "from azureml.core.compute_target import ComputeTargetException\n",
        "from azureml.data.dataset_factory import TabularDatasetFactory\n",
        "from azureml.train.automl import AutoMLConfig\n",
        "#from azureml.pipeline.core import PipelineData, TrainingOutput\n",
        "#from azureml.pipeline.core import Pipeline\n",
        "from azureml.widgets import RunDetails\n",
        "\n",
        "\n",
        "import pandas as pd\n",
        "import requests\n",
        "import logging\n",
        "import os\n",
        "import csv"
      ],
      "outputs": [],
      "execution_count": 1,
      "metadata": {
        "gather": {
          "logged": 1636193913845
        },
        "jupyter": {
          "outputs_hidden": false,
          "source_hidden": false
        },
        "nteract": {
          "transient": {
            "deleting": false
          }
        }
      }
    },
    {
      "cell_type": "markdown",
      "source": [
        "## ML setup + Dataset\n",
        "\n",
        "### Overview"
      ],
      "metadata": {}
    },
    {
      "cell_type": "markdown",
      "source": [
        "Retrieve dataset from kaggle (https://www.kaggle.com/ruthgn/wine-quality-data-set-red-white-wine?select=wine-quality-white-and-red.csv). \n",
        "\n",
        "Task: classification of wine quality"
      ],
      "metadata": {}
    },
    {
      "cell_type": "code",
      "source": [
        "url_wine_data=\"https://docs.google.com/spreadsheets/d/e/2PACX-1vQ0_ymTF3299kfZvr0KJq5JMLX7ZK4yRg9RXYTqEsMqm2eeUrABv_4MVQMzrqfw1CsbmcrnTqIluMA0/pub?output=csv\"\n",
        "wine_data = pd.read_csv(url_wine_data)\n",
        "description_data = \"This data set contains records related to red and white variants of the Portuguese Vinho Verde wine.\"\n",
        "print(wine_data.head())\n",
        "print(\"\")\n",
        "print(\"INFO\")\n",
        "print(wine_data.info())\n",
        "print(\"\")\n",
        "print(\"DESCRIPTION\")\n",
        "print(wine_data.describe())"
      ],
      "outputs": [
        {
          "output_type": "stream",
          "name": "stdout",
          "text": "    type  fixed acidity  volatile acidity  citric acid  residual sugar  \\\n0  white            7.0              0.27         0.36            20.7   \n1  white            6.3              0.30         0.34             1.6   \n2  white            8.1              0.28         0.40             6.9   \n3  white            7.2              0.23         0.32             8.5   \n4  white            7.2              0.23         0.32             8.5   \n\n   chlorides  free sulfur dioxide  total sulfur dioxide  density    pH  \\\n0      0.045                 45.0                 170.0   1.0010  3.00   \n1      0.049                 14.0                 132.0   0.9940  3.30   \n2      0.050                 30.0                  97.0   0.9951  3.26   \n3      0.058                 47.0                 186.0   0.9956  3.19   \n4      0.058                 47.0                 186.0   0.9956  3.19   \n\n   sulphates  alcohol  quality  \n0       0.45      8.8        6  \n1       0.49      9.5        6  \n2       0.44     10.1        6  \n3       0.40      9.9        6  \n4       0.40      9.9        6  \n\nINFO\n<class 'pandas.core.frame.DataFrame'>\nRangeIndex: 6497 entries, 0 to 6496\nData columns (total 13 columns):\ntype                    6497 non-null object\nfixed acidity           6497 non-null float64\nvolatile acidity        6497 non-null float64\ncitric acid             6497 non-null float64\nresidual sugar          6497 non-null float64\nchlorides               6497 non-null float64\nfree sulfur dioxide     6497 non-null float64\ntotal sulfur dioxide    6497 non-null float64\ndensity                 6497 non-null float64\npH                      6497 non-null float64\nsulphates               6497 non-null float64\nalcohol                 6497 non-null float64\nquality                 6497 non-null int64\ndtypes: float64(11), int64(1), object(1)\nmemory usage: 660.0+ KB\nNone\n\nDESCRIPTION\n       fixed acidity  volatile acidity  citric acid  residual sugar  \\\ncount    6497.000000       6497.000000  6497.000000     6497.000000   \nmean        7.215307          0.339666     0.318633        5.443235   \nstd         1.296434          0.164636     0.145318        4.757804   \nmin         3.800000          0.080000     0.000000        0.600000   \n25%         6.400000          0.230000     0.250000        1.800000   \n50%         7.000000          0.290000     0.310000        3.000000   \n75%         7.700000          0.400000     0.390000        8.100000   \nmax        15.900000          1.580000     1.660000       65.800000   \n\n         chlorides  free sulfur dioxide  total sulfur dioxide      density  \\\ncount  6497.000000          6497.000000           6497.000000  6497.000000   \nmean      0.056034            30.525319            115.744574     0.994697   \nstd       0.035034            17.749400             56.521855     0.002999   \nmin       0.009000             1.000000              6.000000     0.987110   \n25%       0.038000            17.000000             77.000000     0.992340   \n50%       0.047000            29.000000            118.000000     0.994890   \n75%       0.065000            41.000000            156.000000     0.996990   \nmax       0.611000           289.000000            440.000000     1.038980   \n\n                pH    sulphates      alcohol      quality  \ncount  6497.000000  6497.000000  6497.000000  6497.000000  \nmean      3.218501     0.531268    10.491801     5.818378  \nstd       0.160787     0.148806     1.192712     0.873255  \nmin       2.720000     0.220000     8.000000     3.000000  \n25%       3.110000     0.430000     9.500000     5.000000  \n50%       3.210000     0.510000    10.300000     6.000000  \n75%       3.320000     0.600000    11.300000     6.000000  \nmax       4.010000     2.000000    14.900000     9.000000  \n"
        }
      ],
      "execution_count": 2,
      "metadata": {
        "gather": {
          "logged": 1636193921426
        }
      }
    },
    {
      "cell_type": "markdown",
      "source": [
        "### Workspace and Experiment"
      ],
      "metadata": {}
    },
    {
      "cell_type": "code",
      "source": [
        "ws = Workspace.from_config()\n",
        "\n",
        "# choose a name for experiment\n",
        "experiment_name = 'Capstone_project'\n",
        "\n",
        "experiment=Experiment(ws, experiment_name)\n",
        "\n",
        "\n",
        "print('Workspace name: ' + ws.name, \n",
        "      'Azure region: ' + ws.location, \n",
        "      'Subscription id: ' + ws.subscription_id, \n",
        "      'Resource group: ' + ws.resource_group, sep = '\\n')"
      ],
      "outputs": [
        {
          "output_type": "stream",
          "name": "stdout",
          "text": "Performing interactive authentication. Please follow the instructions on the terminal.\nTo sign in, use a web browser to open the page https://microsoft.com/devicelogin and enter the code FAN9HYM4Z to authenticate.\nYou have logged in. Now let us find all the subscriptions to which you have access...\nInteractive authentication successfully completed.\nWorkspace name: quick-starts-ws-162865\nAzure region: southcentralus\nSubscription id: 610d6e37-4747-4a20-80eb-3aad70a55f43\nResource group: aml-quickstarts-162865\n"
        }
      ],
      "execution_count": 3,
      "metadata": {
        "gather": {
          "logged": 1636193958343
        },
        "jupyter": {
          "outputs_hidden": false,
          "source_hidden": false
        },
        "nteract": {
          "transient": {
            "deleting": false
          }
        }
      }
    },
    {
      "cell_type": "markdown",
      "source": [
        "### Compute Cluster"
      ],
      "metadata": {}
    },
    {
      "cell_type": "code",
      "source": [
        "# Create compute cluster\n",
        "# Use vm_size = \"STANDARD_DS2_V2\" \n",
        "\n",
        "cpu_cluster_name = 'auto-ml'\n",
        "try:\n",
        "    compute_target = ComputeTarget(workspace=ws,name=cpu_cluster_name)\n",
        "    print('existing cluster found and will be used')\n",
        "except ComputeTargetException:\n",
        "    compute_config = AmlCompute.provisioning_configuration(vm_size='Standard_DS12_v2', max_nodes=4)\n",
        "    compute_target = ComputeTarget.create(ws,cpu_cluster_name,compute_config)\n",
        "    compute_target.wait_for_completion(show_output=True)"
      ],
      "outputs": [
        {
          "output_type": "stream",
          "name": "stdout",
          "text": "InProgress.....\nSucceededProvisioning operation finished, operation \"Succeeded\"\nSucceeded\nAmlCompute wait for completion finished\n\nMinimum number of nodes requested have been provisioned\n"
        }
      ],
      "execution_count": 10,
      "metadata": {
        "gather": {
          "logged": 1636194380678
        }
      }
    },
    {
      "cell_type": "markdown",
      "source": [
        "### Dataset"
      ],
      "metadata": {}
    },
    {
      "cell_type": "code",
      "source": [
        "#Getting default ds\n",
        "data_store = ws.get_default_datastore()\n",
        "print('get default datastore')\n",
        "\n",
        "#Registering dataframe as dataset in AzureML\n",
        "ds = Dataset.Tabular.register_pandas_dataframe(wine_data,data_store,'Wine_Data_Project3',description=description_data)\n",
        "ds = ds.register(workspace=ws, name='Wine_Data_Project3', description=description_data)\n",
        "\n",
        "print(\"dataset registered.\")"
      ],
      "outputs": [
        {
          "output_type": "stream",
          "name": "stderr",
          "text": "Method register_pandas_dataframe: This is an experimental method, and may change at any time. Please see https://aka.ms/azuremlexperimental for more information.\n"
        },
        {
          "output_type": "stream",
          "name": "stdout",
          "text": "get default datastore\nValidating arguments.\nArguments validated.\nSuccessfully obtained datastore reference and path.\nUploading file to managed-dataset/b5220749-e05b-4ae4-8287-8ac622dbdc55/\nSuccessfully uploaded file to datastore.\nCreating and registering a new dataset.\nSuccessfully created and registered a new dataset.\ndataset registered.\n"
        }
      ],
      "execution_count": 13,
      "metadata": {
        "gather": {
          "logged": 1636194477697
        }
      }
    },
    {
      "cell_type": "code",
      "source": [
        "ds.take(5).to_pandas_dataframe()"
      ],
      "outputs": [
        {
          "output_type": "execute_result",
          "execution_count": 14,
          "data": {
            "text/plain": "    type  fixed acidity  volatile acidity  citric acid  residual sugar  \\\n0  white            7.0              0.27         0.36            20.7   \n1  white            6.3              0.30         0.34             1.6   \n2  white            8.1              0.28         0.40             6.9   \n3  white            7.2              0.23         0.32             8.5   \n4  white            7.2              0.23         0.32             8.5   \n\n   chlorides  free sulfur dioxide  total sulfur dioxide  density    pH  \\\n0      0.045                 45.0                 170.0   1.0010  3.00   \n1      0.049                 14.0                 132.0   0.9940  3.30   \n2      0.050                 30.0                  97.0   0.9951  3.26   \n3      0.058                 47.0                 186.0   0.9956  3.19   \n4      0.058                 47.0                 186.0   0.9956  3.19   \n\n   sulphates  alcohol  quality  \n0       0.45      8.8        6  \n1       0.49      9.5        6  \n2       0.44     10.1        6  \n3       0.40      9.9        6  \n4       0.40      9.9        6  ",
            "text/html": "<div>\n<style scoped>\n    .dataframe tbody tr th:only-of-type {\n        vertical-align: middle;\n    }\n\n    .dataframe tbody tr th {\n        vertical-align: top;\n    }\n\n    .dataframe thead th {\n        text-align: right;\n    }\n</style>\n<table border=\"1\" class=\"dataframe\">\n  <thead>\n    <tr style=\"text-align: right;\">\n      <th></th>\n      <th>type</th>\n      <th>fixed acidity</th>\n      <th>volatile acidity</th>\n      <th>citric acid</th>\n      <th>residual sugar</th>\n      <th>chlorides</th>\n      <th>free sulfur dioxide</th>\n      <th>total sulfur dioxide</th>\n      <th>density</th>\n      <th>pH</th>\n      <th>sulphates</th>\n      <th>alcohol</th>\n      <th>quality</th>\n    </tr>\n  </thead>\n  <tbody>\n    <tr>\n      <th>0</th>\n      <td>white</td>\n      <td>7.0</td>\n      <td>0.27</td>\n      <td>0.36</td>\n      <td>20.7</td>\n      <td>0.045</td>\n      <td>45.0</td>\n      <td>170.0</td>\n      <td>1.0010</td>\n      <td>3.00</td>\n      <td>0.45</td>\n      <td>8.8</td>\n      <td>6</td>\n    </tr>\n    <tr>\n      <th>1</th>\n      <td>white</td>\n      <td>6.3</td>\n      <td>0.30</td>\n      <td>0.34</td>\n      <td>1.6</td>\n      <td>0.049</td>\n      <td>14.0</td>\n      <td>132.0</td>\n      <td>0.9940</td>\n      <td>3.30</td>\n      <td>0.49</td>\n      <td>9.5</td>\n      <td>6</td>\n    </tr>\n    <tr>\n      <th>2</th>\n      <td>white</td>\n      <td>8.1</td>\n      <td>0.28</td>\n      <td>0.40</td>\n      <td>6.9</td>\n      <td>0.050</td>\n      <td>30.0</td>\n      <td>97.0</td>\n      <td>0.9951</td>\n      <td>3.26</td>\n      <td>0.44</td>\n      <td>10.1</td>\n      <td>6</td>\n    </tr>\n    <tr>\n      <th>3</th>\n      <td>white</td>\n      <td>7.2</td>\n      <td>0.23</td>\n      <td>0.32</td>\n      <td>8.5</td>\n      <td>0.058</td>\n      <td>47.0</td>\n      <td>186.0</td>\n      <td>0.9956</td>\n      <td>3.19</td>\n      <td>0.40</td>\n      <td>9.9</td>\n      <td>6</td>\n    </tr>\n    <tr>\n      <th>4</th>\n      <td>white</td>\n      <td>7.2</td>\n      <td>0.23</td>\n      <td>0.32</td>\n      <td>8.5</td>\n      <td>0.058</td>\n      <td>47.0</td>\n      <td>186.0</td>\n      <td>0.9956</td>\n      <td>3.19</td>\n      <td>0.40</td>\n      <td>9.9</td>\n      <td>6</td>\n    </tr>\n  </tbody>\n</table>\n</div>"
          },
          "metadata": {}
        }
      ],
      "execution_count": 14,
      "metadata": {
        "gather": {
          "logged": 1636194569854
        }
      }
    },
    {
      "cell_type": "markdown",
      "source": [
        "## AutoML Configuration\n",
        "\n",
        "TODO: Explain why you chose the automl settings and cofiguration you used below."
      ],
      "metadata": {}
    },
    {
      "cell_type": "code",
      "source": [
        "# TODO: Put your automl settings here\n",
        "automl_settings = {\n",
        "       \"n_cross_validations\": 5,\n",
        "       \"primary_metric\": 'AUC_weighted',\n",
        "       \"enable_early_stopping\": True,\n",
        "       \"experiment_timeout_hours\": 1.0,\n",
        "       \"max_concurrent_iterations\": 4,\n",
        "       \"verbosity\": logging.INFO,\n",
        "   }\n",
        "\n",
        "# TODO: Put your automl config here\n",
        "automl_config = AutoMLConfig(\n",
        "    compute_target = compute_target,\n",
        "    task='classification',\n",
        "    training_data=ds,\n",
        "    label_column_name='quality',\n",
        "    **automl_settings)"
      ],
      "outputs": [],
      "execution_count": 15,
      "metadata": {
        "gather": {
          "logged": 1636194579566
        },
        "jupyter": {
          "outputs_hidden": false,
          "source_hidden": false
        },
        "nteract": {
          "transient": {
            "deleting": false
          }
        }
      }
    },
    {
      "cell_type": "code",
      "source": [
        "# TODO: Submit your experiment\n",
        "remote_run = experiment.submit(automl_config, show_output=True)"
      ],
      "outputs": [
        {
          "output_type": "stream",
          "name": "stdout",
          "text": "Submitting remote run.\nNo run_configuration provided, running on auto-ml with default configuration\nRunning on remote compute: auto-ml\n"
        },
        {
          "output_type": "display_data",
          "data": {
            "text/plain": "<IPython.core.display.HTML object>",
            "text/html": "<table style=\"width:100%\"><tr><th>Experiment</th><th>Id</th><th>Type</th><th>Status</th><th>Details Page</th><th>Docs Page</th></tr><tr><td>Capstone_project</td><td>AutoML_0a6eb683-1673-4525-8426-78fd5496832c</td><td>automl</td><td>NotStarted</td><td><a href=\"https://ml.azure.com/runs/AutoML_0a6eb683-1673-4525-8426-78fd5496832c?wsid=/subscriptions/610d6e37-4747-4a20-80eb-3aad70a55f43/resourcegroups/aml-quickstarts-162865/workspaces/quick-starts-ws-162865&amp;tid=660b3398-b80e-49d2-bc5b-ac1dc93b5254\" target=\"_blank\" rel=\"noopener\">Link to Azure Machine Learning studio</a></td><td><a href=\"https://docs.microsoft.com/en-us/python/api/overview/azure/ml/intro?view=azure-ml-py\" target=\"_blank\" rel=\"noopener\">Link to Documentation</a></td></tr></table>"
          },
          "metadata": {}
        },
        {
          "output_type": "stream",
          "name": "stdout",
          "text": "\nCurrent status: FeaturesGeneration. Generating features for the dataset.\nCurrent status: DatasetBalancing. Generating individually featurized CV splits.\nCurrent status: ModelSelection. Beginning model selection.\n\n****************************************************************************************************\nDATA GUARDRAILS: \n\nTYPE:         Class balancing detection\nSTATUS:       ALERTED\nDESCRIPTION:  To decrease model bias, please cancel the current run and fix balancing problem.\n              Learn more about imbalanced data: https://aka.ms/AutomatedMLImbalancedData\nDETAILS:      Imbalanced data can lead to a falsely perceived positive effect of a model's accuracy because the input data has bias towards one class.\n+---------------------------------+---------------------------------+--------------------------------------+\n|Size of the smallest class       |Name/Label of the smallest class |Number of samples in the training data|\n+=================================+=================================+======================================+\n|5                                |9                                |6497                                  |\n+---------------------------------+---------------------------------+--------------------------------------+\n\n****************************************************************************************************\n\nTYPE:         Missing feature values imputation\nSTATUS:       PASSED\nDESCRIPTION:  No feature missing values were detected in the training data.\n              Learn more about missing value imputation: https://aka.ms/AutomatedMLFeaturization\n\n****************************************************************************************************\n\nTYPE:         High cardinality feature detection\nSTATUS:       PASSED\nDESCRIPTION:  Your inputs were analyzed, and no high cardinality features were detected.\n              Learn more about high cardinality feature handling: https://aka.ms/AutomatedMLFeaturization\n\n****************************************************************************************************\n\n****************************************************************************************************\nITERATION: The iteration being evaluated.\nPIPELINE: A summary description of the pipeline being evaluated.\nDURATION: Time taken for the current iteration.\nMETRIC: The result of computing score on the fitted pipeline.\nBEST: The best observed score thus far.\n****************************************************************************************************\n\n ITERATION   PIPELINE                                       DURATION      METRIC      BEST\n         2   MaxAbsScaler ExtremeRandomTrees                0:00:28       0.7102    0.7102\n         3   MaxAbsScaler RandomForest                      0:00:56       0.7446    0.7446\n         0   MaxAbsScaler LightGBM                          0:01:32       0.8172    0.8172\n         4   StandardScalerWrapper LightGBM                 0:02:01       0.7382    0.8172\n         1   MaxAbsScaler XGBoostClassifier                 0:02:35       0.7662    0.8172\n         5   SparseNormalizer XGBoostClassifier             0:02:05       0.7505    0.8172\n         6   SparseNormalizer RandomForest                  0:01:35       0.6881    0.8172\n         7   MinMaxScaler RandomForest                      0:01:16       0.7159    0.8172\n         8   StandardScalerWrapper LogisticRegression       0:01:53       0.7239    0.8172\n         9   StandardScalerWrapper XGBoostClassifier        0:01:14       0.8069    0.8172\n        10   RobustScaler ExtremeRandomTrees                0:01:35       0.6682    0.8172\n        11   SparseNormalizer XGBoostClassifier             0:02:03       0.7795    0.8172\n        12   MinMaxScaler ExtremeRandomTrees                0:02:01       0.7247    0.8172\n        13   MinMaxScaler ExtremeRandomTrees                0:01:55       0.7157    0.8172\n        14   SparseNormalizer LightGBM                      0:02:00       0.7074    0.8172\n        15   MaxAbsScaler ExtremeRandomTrees                0:01:59       0.6969    0.8172\n        16   StandardScalerWrapper XGBoostClassifier        0:02:08       0.7845    0.8172\n        17   StandardScalerWrapper RandomForest             0:02:08       0.8639    0.8639\n        18   MaxAbsScaler LightGBM                          0:02:06       0.8121    0.8639\n        19   MaxAbsScaler LogisticRegression                0:01:47       0.6855    0.8639\n        21   StandardScalerWrapper XGBoostClassifier        0:01:50       0.7753    0.8639\n        20   StandardScalerWrapper ExtremeRandomTrees       0:01:59       0.7061    0.8639\n        22   MaxAbsScaler LogisticRegression                0:01:51       0.7200    0.8639\n        23   StandardScalerWrapper XGBoostClassifier        0:02:04       0.7820    0.8639\n        25   PCA RandomForest                               0:01:51       0.5475    0.8639\n        24   StandardScalerWrapper XGBoostClassifier        0:02:11       0.7983    0.8639\n        26   MaxAbsScaler LightGBM                          0:02:01       0.7760    0.8639\n        27   MinMaxScaler LightGBM                          0:02:04       0.7785    0.8639\n        28   MinMaxScaler LogisticRegression                0:02:00       0.7200    0.8639\n        29   MaxAbsScaler LogisticRegression                0:01:42       0.7195    0.8639\n        30   RobustScaler RandomForest                      0:02:02       0.6769    0.8639\n        31   MinMaxScaler LogisticRegression                0:01:56       0.7221    0.8639\n        32   RobustScaler LightGBM                          0:02:06       0.7895    0.8639\n        33   RobustScaler LightGBM                          0:02:04       0.7725    0.8639\n        34                                                  0:01:22          nan    0.8639\n        35                                                  0:00:45          nan    0.8639\n        36    VotingEnsemble                                0:01:04       0.8645    0.8645\n        37    StackEnsemble                                 0:00:23       0.8674    0.8674\n"
        }
      ],
      "execution_count": 16,
      "metadata": {
        "gather": {
          "logged": 1636196160545
        },
        "jupyter": {
          "outputs_hidden": false,
          "source_hidden": false
        },
        "nteract": {
          "transient": {
            "deleting": false
          }
        }
      }
    },
    {
      "cell_type": "markdown",
      "source": [
        "## Run Details\n",
        "\n",
        "OPTIONAL: Write about the different models trained and their performance. Why do you think some models did better than others?\n",
        "\n",
        "TODO: In the cell below, use the `RunDetails` widget to show the different experiments."
      ],
      "metadata": {}
    },
    {
      "cell_type": "code",
      "source": [
        "RunDetails(remote_run).show()\n",
        "remote_run.wait_for_completion()"
      ],
      "outputs": [
        {
          "output_type": "display_data",
          "data": {
            "text/plain": "_AutoMLWidget(widget_settings={'childWidgetDisplay': 'popup', 'send_telemetry': False, 'log_level': 'INFO', 's…",
            "application/vnd.jupyter.widget-view+json": {
              "version_major": 2,
              "version_minor": 0,
              "model_id": "2b353ee43f8f4053a732130707165729"
            }
          },
          "metadata": {}
        },
        {
          "output_type": "display_data",
          "data": {
            "application/aml.mini.widget.v1": "{\"status\": \"Completed\", \"workbench_run_details_uri\": \"https://ml.azure.com/runs/AutoML_0a6eb683-1673-4525-8426-78fd5496832c?wsid=/subscriptions/610d6e37-4747-4a20-80eb-3aad70a55f43/resourcegroups/aml-quickstarts-162865/workspaces/quick-starts-ws-162865&tid=660b3398-b80e-49d2-bc5b-ac1dc93b5254\", \"run_id\": \"AutoML_0a6eb683-1673-4525-8426-78fd5496832c\", \"run_properties\": {\"run_id\": \"AutoML_0a6eb683-1673-4525-8426-78fd5496832c\", \"created_utc\": \"2021-11-06T10:30:12.426165Z\", \"properties\": {\"num_iterations\": \"1000\", \"training_type\": \"TrainFull\", \"acquisition_function\": \"EI\", \"primary_metric\": \"AUC_weighted\", \"train_split\": \"0\", \"acquisition_parameter\": \"0\", \"num_cross_validation\": \"5\", \"target\": \"auto-ml\", \"AMLSettingsJsonString\": \"{\\\"path\\\":null,\\\"name\\\":\\\"Capstone_project\\\",\\\"subscription_id\\\":\\\"610d6e37-4747-4a20-80eb-3aad70a55f43\\\",\\\"resource_group\\\":\\\"aml-quickstarts-162865\\\",\\\"workspace_name\\\":\\\"quick-starts-ws-162865\\\",\\\"region\\\":\\\"southcentralus\\\",\\\"compute_target\\\":\\\"auto-ml\\\",\\\"spark_service\\\":null,\\\"azure_service\\\":\\\"remote\\\",\\\"many_models\\\":false,\\\"pipeline_fetch_max_batch_size\\\":1,\\\"enable_batch_run\\\":false,\\\"enable_run_restructure\\\":false,\\\"start_auxiliary_runs_before_parent_complete\\\":false,\\\"enable_code_generation\\\":false,\\\"iterations\\\":1000,\\\"primary_metric\\\":\\\"AUC_weighted\\\",\\\"task_type\\\":\\\"classification\\\",\\\"data_script\\\":null,\\\"test_size\\\":0.0,\\\"test_include_predictions_only\\\":false,\\\"validation_size\\\":0.0,\\\"n_cross_validations\\\":5,\\\"y_min\\\":null,\\\"y_max\\\":null,\\\"num_classes\\\":null,\\\"featurization\\\":\\\"auto\\\",\\\"_ignore_package_version_incompatibilities\\\":false,\\\"is_timeseries\\\":false,\\\"max_cores_per_iteration\\\":1,\\\"max_concurrent_iterations\\\":4,\\\"iteration_timeout_minutes\\\":null,\\\"mem_in_mb\\\":null,\\\"enforce_time_on_windows\\\":false,\\\"experiment_timeout_minutes\\\":60,\\\"experiment_exit_score\\\":null,\\\"whitelist_models\\\":null,\\\"blacklist_algos\\\":[\\\"TensorFlowLinearClassifier\\\",\\\"TensorFlowDNN\\\"],\\\"supported_models\\\":[\\\"SVM\\\",\\\"LogisticRegression\\\",\\\"SGD\\\",\\\"ExtremeRandomTrees\\\",\\\"AveragedPerceptronClassifier\\\",\\\"TensorFlowDNN\\\",\\\"LightGBM\\\",\\\"LinearSVM\\\",\\\"XGBoostClassifier\\\",\\\"KNN\\\",\\\"GradientBoosting\\\",\\\"MultinomialNaiveBayes\\\",\\\"BernoulliNaiveBayes\\\",\\\"DecisionTree\\\",\\\"TensorFlowLinearClassifier\\\",\\\"RandomForest\\\"],\\\"private_models\\\":[],\\\"auto_blacklist\\\":true,\\\"blacklist_samples_reached\\\":false,\\\"exclude_nan_labels\\\":true,\\\"verbosity\\\":20,\\\"_debug_log\\\":\\\"azureml_automl.log\\\",\\\"show_warnings\\\":false,\\\"model_explainability\\\":true,\\\"service_url\\\":null,\\\"sdk_url\\\":null,\\\"sdk_packages\\\":null,\\\"enable_onnx_compatible_models\\\":false,\\\"enable_split_onnx_featurizer_estimator_models\\\":false,\\\"vm_type\\\":\\\"STANDARD_DS12_V2\\\",\\\"telemetry_verbosity\\\":20,\\\"send_telemetry\\\":true,\\\"enable_dnn\\\":false,\\\"scenario\\\":\\\"SDK-1.13.0\\\",\\\"environment_label\\\":null,\\\"save_mlflow\\\":false,\\\"force_text_dnn\\\":false,\\\"enable_feature_sweeping\\\":true,\\\"enable_early_stopping\\\":true,\\\"early_stopping_n_iters\\\":10,\\\"metrics\\\":null,\\\"enable_metric_confidence\\\":false,\\\"enable_ensembling\\\":true,\\\"enable_stack_ensembling\\\":true,\\\"ensemble_iterations\\\":15,\\\"enable_tf\\\":false,\\\"enable_subsampling\\\":null,\\\"subsample_seed\\\":null,\\\"enable_nimbusml\\\":false,\\\"enable_streaming\\\":false,\\\"force_streaming\\\":false,\\\"track_child_runs\\\":true,\\\"allowed_private_models\\\":[],\\\"label_column_name\\\":\\\"quality\\\",\\\"weight_column_name\\\":null,\\\"cv_split_column_names\\\":null,\\\"positive_label\\\":null,\\\"enable_local_managed\\\":false,\\\"_local_managed_run_id\\\":null,\\\"cost_mode\\\":1,\\\"lag_length\\\":0,\\\"metric_operation\\\":\\\"maximize\\\",\\\"preprocess\\\":true}\", \"DataPrepJsonString\": \"{\\\\\\\"training_data\\\\\\\": {\\\\\\\"datasetId\\\\\\\": \\\\\\\"c7ce4221-2d1e-42d2-bba5-e886dd93410b\\\\\\\"}, \\\\\\\"datasets\\\\\\\": 0}\", \"EnableSubsampling\": null, \"runTemplate\": \"AutoML\", \"azureml.runsource\": \"automl\", \"display_task_type\": \"classification\", \"dependencies_versions\": \"{\\\"azureml-widgets\\\": \\\"1.34.0\\\", \\\"azureml-train\\\": \\\"1.34.0\\\", \\\"azureml-train-restclients-hyperdrive\\\": \\\"1.34.0\\\", \\\"azureml-train-core\\\": \\\"1.34.0\\\", \\\"azureml-train-automl\\\": \\\"1.34.0\\\", \\\"azureml-train-automl-runtime\\\": \\\"1.34.0\\\", \\\"azureml-train-automl-client\\\": \\\"1.34.0\\\", \\\"azureml-tensorboard\\\": \\\"1.34.0\\\", \\\"azureml-telemetry\\\": \\\"1.34.0\\\", \\\"azureml-sdk\\\": \\\"1.34.0\\\", \\\"azureml-samples\\\": \\\"0+unknown\\\", \\\"azureml-responsibleai\\\": \\\"1.34.0\\\", \\\"azureml-pipeline\\\": \\\"1.34.0\\\", \\\"azureml-pipeline-steps\\\": \\\"1.34.0\\\", \\\"azureml-pipeline-core\\\": \\\"1.34.0\\\", \\\"azureml-opendatasets\\\": \\\"1.34.0\\\", \\\"azureml-mlflow\\\": \\\"1.34.0\\\", \\\"azureml-interpret\\\": \\\"1.34.0\\\", \\\"azureml-inference-server-http\\\": \\\"0.3.1\\\", \\\"azureml-explain-model\\\": \\\"1.34.0\\\", \\\"azureml-defaults\\\": \\\"1.34.0\\\", \\\"azureml-dataset-runtime\\\": \\\"1.34.0\\\", \\\"azureml-dataprep\\\": \\\"2.22.2\\\", \\\"azureml-dataprep-rslex\\\": \\\"1.20.1\\\", \\\"azureml-dataprep-native\\\": \\\"38.0.0\\\", \\\"azureml-datadrift\\\": \\\"1.34.0\\\", \\\"azureml-core\\\": \\\"1.34.0\\\", \\\"azureml-contrib-services\\\": \\\"1.34.0\\\", \\\"azureml-contrib-server\\\": \\\"1.34.0\\\", \\\"azureml-contrib-reinforcementlearning\\\": \\\"1.34.0\\\", \\\"azureml-contrib-pipeline-steps\\\": \\\"1.34.0\\\", \\\"azureml-contrib-notebook\\\": \\\"1.34.0\\\", \\\"azureml-contrib-fairness\\\": \\\"1.34.0\\\", \\\"azureml-contrib-dataset\\\": \\\"1.34.0\\\", \\\"azureml-contrib-automl-pipeline-steps\\\": \\\"1.34.0\\\", \\\"azureml-cli-common\\\": \\\"1.34.0\\\", \\\"azureml-automl-runtime\\\": \\\"1.34.0\\\", \\\"azureml-automl-dnn-nlp\\\": \\\"1.34.0\\\", \\\"azureml-automl-core\\\": \\\"1.34.0\\\", \\\"azureml-accel-models\\\": \\\"1.34.0\\\"}\", \"_aml_system_scenario_identification\": \"Remote.Parent\", \"ClientType\": \"SDK\", \"environment_cpu_name\": \"AzureML-AutoML\", \"environment_cpu_label\": \"prod\", \"environment_gpu_name\": \"AzureML-AutoML-GPU\", \"environment_gpu_label\": \"prod\", \"root_attribution\": \"automl\", \"attribution\": \"AutoML\", \"Orchestrator\": \"AutoML\", \"CancelUri\": \"https://southcentralus.api.azureml.ms/jasmine/v1.0/subscriptions/610d6e37-4747-4a20-80eb-3aad70a55f43/resourceGroups/aml-quickstarts-162865/providers/Microsoft.MachineLearningServices/workspaces/quick-starts-ws-162865/experimentids/a9729a7d-4136-45a4-8c9f-96795da8d60a/cancel/AutoML_0a6eb683-1673-4525-8426-78fd5496832c\", \"ClientSdkVersion\": \"1.35.1\", \"snapshotId\": \"00000000-0000-0000-0000-000000000000\", \"SetupRunId\": \"AutoML_0a6eb683-1673-4525-8426-78fd5496832c_setup\", \"SetupRunContainerId\": \"dcid.AutoML_0a6eb683-1673-4525-8426-78fd5496832c_setup\", \"FeaturizationRunJsonPath\": \"featurizer_container.json\", \"FeaturizationRunId\": \"AutoML_0a6eb683-1673-4525-8426-78fd5496832c_featurize\", \"ProblemInfoJsonString\": \"{\\\"dataset_num_categorical\\\": 0, \\\"is_sparse\\\": false, \\\"subsampling\\\": false, \\\"has_extra_col\\\": true, \\\"dataset_classes\\\": 7, \\\"dataset_features\\\": 12, \\\"dataset_samples\\\": 6497, \\\"single_frequency_class_detected\\\": false}\", \"ModelExplainRunId\": \"AutoML_0a6eb683-1673-4525-8426-78fd5496832c_ModelExplain\"}, \"tags\": {\"model_explain_run\": \"best_run\", \"_aml_system_azureml.automlComponent\": \"AutoML\", \"pipeline_id\": \"\", \"score\": \"\", \"predicted_cost\": \"\", \"fit_time\": \"\", \"training_percent\": \"\", \"iteration\": \"\", \"run_preprocessor\": \"\", \"run_algorithm\": \"\", \"dynamic_whitelisting_iterations\": \"<25>;<30>;<35>;\", \"_aml_system_azureml.automl_early_exit_message\": \"No scores improved over last 20 iterations, so experiment stopped early. This early stopping behavior can be disabled by setting enable_early_stopping = False in AutoMLConfig for notebook/python SDK runs.\", \"automl_best_child_run_id\": \"AutoML_0a6eb683-1673-4525-8426-78fd5496832c_37\", \"model_explain_best_run_child_id\": \"AutoML_0a6eb683-1673-4525-8426-78fd5496832c_37\"}, \"end_time_utc\": \"2021-11-06T10:55:40.510664Z\", \"status\": \"Completed\", \"log_files\": {}, \"log_groups\": [], \"run_duration\": \"0:25:28\", \"run_number\": \"1\", \"run_queued_details\": {\"status\": \"Completed\", \"details\": null}}, \"child_runs\": [{\"run_id\": \"AutoML_0a6eb683-1673-4525-8426-78fd5496832c_setup\", \"run_number\": 2, \"metric\": null, \"status\": \"Completed\", \"run_type\": \"azureml.scriptrun\", \"training_percent\": null, \"start_time\": \"2021-11-06T10:34:31.452627Z\", \"end_time\": \"2021-11-06T10:35:04.295389Z\", \"created_time\": \"2021-11-06T10:30:25.510561Z\", \"created_time_dt\": \"2021-11-06T10:30:25.510561Z\", \"duration\": \"0:04:38\", \"iteration\": null, \"goal\": null, \"run_name\": \"Completed\", \"run_properties\": null}, {\"run_id\": \"AutoML_0a6eb683-1673-4525-8426-78fd5496832c_featurize\", \"run_number\": 3, \"metric\": null, \"status\": \"Completed\", \"run_type\": \"automl.featurization\", \"training_percent\": null, \"start_time\": \"2021-11-06T10:35:05.173215Z\", \"end_time\": \"2021-11-06T10:35:50.880528Z\", \"created_time\": \"2021-11-06T10:35:04.71015Z\", \"created_time_dt\": \"2021-11-06T10:35:04.71015Z\", \"duration\": \"0:00:46\", \"iteration\": null, \"goal\": null, \"run_name\": \"Completed\", \"run_properties\": null}, {\"run_id\": \"AutoML_0a6eb683-1673-4525-8426-78fd5496832c_1\", \"run_number\": 5, \"metric\": null, \"status\": \"Completed\", \"run_type\": \"azureml.scriptrun\", \"training_percent\": \"100\", \"start_time\": \"2021-11-06T10:35:51.887918Z\", \"end_time\": \"2021-11-06T10:38:26.811842Z\", \"created_time\": \"2021-11-06T10:35:51.887918Z\", \"created_time_dt\": \"2021-11-06T10:35:51.887918Z\", \"duration\": \"0:02:34\", \"iteration\": \"1\", \"goal\": \"AUC_weighted_max\", \"run_name\": \"MaxAbsScaler, XGBoostClassifier\", \"run_properties\": \"copy=True\", \"primary_metric\": 0.76620007, \"best_metric\": 0.81721816}, {\"run_id\": \"AutoML_0a6eb683-1673-4525-8426-78fd5496832c_3\", \"run_number\": 6, \"metric\": null, \"status\": \"Completed\", \"run_type\": \"azureml.scriptrun\", \"training_percent\": \"100\", \"start_time\": \"2021-11-06T10:35:51.892151Z\", \"end_time\": \"2021-11-06T10:36:47.482296Z\", \"created_time\": \"2021-11-06T10:35:51.892151Z\", \"created_time_dt\": \"2021-11-06T10:35:51.892151Z\", \"duration\": \"0:00:55\", \"iteration\": \"3\", \"goal\": \"AUC_weighted_max\", \"run_name\": \"MaxAbsScaler, RandomForest\", \"run_properties\": \"copy=True\", \"primary_metric\": 0.74464681, \"best_metric\": 0.81721816}, {\"run_id\": \"AutoML_0a6eb683-1673-4525-8426-78fd5496832c_2\", \"run_number\": 7, \"metric\": null, \"status\": \"Completed\", \"run_type\": \"azureml.scriptrun\", \"training_percent\": \"100\", \"start_time\": \"2021-11-06T10:35:51.965859Z\", \"end_time\": \"2021-11-06T10:36:19.941748Z\", \"created_time\": \"2021-11-06T10:35:51.965859Z\", \"created_time_dt\": \"2021-11-06T10:35:51.965859Z\", \"duration\": \"0:00:27\", \"iteration\": \"2\", \"goal\": \"AUC_weighted_max\", \"run_name\": \"MaxAbsScaler, ExtremeRandomTrees\", \"run_properties\": \"copy=True\", \"primary_metric\": 0.71016004, \"best_metric\": 0.81721816}, {\"run_id\": \"AutoML_0a6eb683-1673-4525-8426-78fd5496832c_0\", \"run_number\": 8, \"metric\": null, \"status\": \"Completed\", \"run_type\": \"azureml.scriptrun\", \"training_percent\": \"100\", \"start_time\": \"2021-11-06T10:35:51.996657Z\", \"end_time\": \"2021-11-06T10:37:23.769045Z\", \"created_time\": \"2021-11-06T10:35:51.996657Z\", \"created_time_dt\": \"2021-11-06T10:35:51.996657Z\", \"duration\": \"0:01:31\", \"iteration\": \"0\", \"goal\": \"AUC_weighted_max\", \"run_name\": \"MaxAbsScaler, LightGBM\", \"run_properties\": \"copy=True\", \"primary_metric\": 0.81721816, \"best_metric\": 0.81721816}, {\"run_id\": \"AutoML_0a6eb683-1673-4525-8426-78fd5496832c_4\", \"run_number\": 9, \"metric\": null, \"status\": \"Completed\", \"run_type\": \"azureml.scriptrun\", \"training_percent\": \"100\", \"start_time\": \"2021-11-06T10:36:22.907707Z\", \"end_time\": \"2021-11-06T10:38:23.953641Z\", \"created_time\": \"2021-11-06T10:36:22.907707Z\", \"created_time_dt\": \"2021-11-06T10:36:22.907707Z\", \"duration\": \"0:02:01\", \"iteration\": \"4\", \"goal\": \"AUC_weighted_max\", \"run_name\": \"StandardScalerWrapper, LightGBM\", \"run_properties\": \"\\n    copy=True,\\n    with_mean=False,\\n    with_std=True\\n\", \"primary_metric\": 0.73823479, \"best_metric\": 0.81721816}, {\"run_id\": \"AutoML_0a6eb683-1673-4525-8426-78fd5496832c_5\", \"run_number\": 10, \"metric\": null, \"status\": \"Completed\", \"run_type\": \"azureml.scriptrun\", \"training_percent\": \"100\", \"start_time\": \"2021-11-06T10:36:50.149501Z\", \"end_time\": \"2021-11-06T10:38:55.483705Z\", \"created_time\": \"2021-11-06T10:36:50.149501Z\", \"created_time_dt\": \"2021-11-06T10:36:50.149501Z\", \"duration\": \"0:02:05\", \"iteration\": \"5\", \"goal\": \"AUC_weighted_max\", \"run_name\": \"SparseNormalizer, XGBoostClassifier\", \"run_properties\": \"copy=True, norm='max'\", \"primary_metric\": 0.75054993, \"best_metric\": 0.81721816}, {\"run_id\": \"AutoML_0a6eb683-1673-4525-8426-78fd5496832c_6\", \"run_number\": 11, \"metric\": null, \"status\": \"Completed\", \"run_type\": \"azureml.scriptrun\", \"training_percent\": \"100\", \"start_time\": \"2021-11-06T10:37:26.829146Z\", \"end_time\": \"2021-11-06T10:39:01.952723Z\", \"created_time\": \"2021-11-06T10:37:26.829146Z\", \"created_time_dt\": \"2021-11-06T10:37:26.829146Z\", \"duration\": \"0:01:35\", \"iteration\": \"6\", \"goal\": \"AUC_weighted_max\", \"run_name\": \"SparseNormalizer, RandomForest\", \"run_properties\": \"copy=True, norm='l2'\", \"primary_metric\": 0.68813764, \"best_metric\": 0.81721816}, {\"run_id\": \"AutoML_0a6eb683-1673-4525-8426-78fd5496832c_7\", \"run_number\": 12, \"metric\": null, \"status\": \"Completed\", \"run_type\": \"azureml.scriptrun\", \"training_percent\": \"100\", \"start_time\": \"2021-11-06T10:38:26.824232Z\", \"end_time\": \"2021-11-06T10:39:42.498855Z\", \"created_time\": \"2021-11-06T10:38:26.824232Z\", \"created_time_dt\": \"2021-11-06T10:38:26.824232Z\", \"duration\": \"0:01:15\", \"iteration\": \"7\", \"goal\": \"AUC_weighted_max\", \"run_name\": \"MinMaxScaler, RandomForest\", \"run_properties\": \"copy=True, feature_range=(0, 1\", \"primary_metric\": 0.71592613, \"best_metric\": 0.81721816}, {\"run_id\": \"AutoML_0a6eb683-1673-4525-8426-78fd5496832c_8\", \"run_number\": 13, \"metric\": null, \"status\": \"Completed\", \"run_type\": \"azureml.scriptrun\", \"training_percent\": \"100\", \"start_time\": \"2021-11-06T10:38:30.841639Z\", \"end_time\": \"2021-11-06T10:40:23.844859Z\", \"created_time\": \"2021-11-06T10:38:30.841639Z\", \"created_time_dt\": \"2021-11-06T10:38:30.841639Z\", \"duration\": \"0:01:53\", \"iteration\": \"8\", \"goal\": \"AUC_weighted_max\", \"run_name\": \"StandardScalerWrapper, LogisticRegression\", \"run_properties\": \"\\n    copy=True,\\n    with_mean=True,\\n    with_std=True\\n\", \"primary_metric\": 0.72394406, \"best_metric\": 0.81721816}, {\"run_id\": \"AutoML_0a6eb683-1673-4525-8426-78fd5496832c_9\", \"run_number\": 14, \"metric\": null, \"status\": \"Completed\", \"run_type\": \"azureml.scriptrun\", \"training_percent\": \"100\", \"start_time\": \"2021-11-06T10:39:08.220477Z\", \"end_time\": \"2021-11-06T10:40:21.797406Z\", \"created_time\": \"2021-11-06T10:39:08.220477Z\", \"created_time_dt\": \"2021-11-06T10:39:08.220477Z\", \"duration\": \"0:01:13\", \"iteration\": \"9\", \"goal\": \"AUC_weighted_max\", \"run_name\": \"StandardScalerWrapper, XGBoostClassifier\", \"run_properties\": \"\\n    copy=True,\\n    with_mean=False,\\n    with_std=False\\n\", \"primary_metric\": 0.80689126, \"best_metric\": 0.81721816}, {\"run_id\": \"AutoML_0a6eb683-1673-4525-8426-78fd5496832c_10\", \"run_number\": 15, \"metric\": null, \"status\": \"Completed\", \"run_type\": \"azureml.scriptrun\", \"training_percent\": \"100\", \"start_time\": \"2021-11-06T10:39:27.244973Z\", \"end_time\": \"2021-11-06T10:41:02.310103Z\", \"created_time\": \"2021-11-06T10:39:27.244973Z\", \"created_time_dt\": \"2021-11-06T10:39:27.244973Z\", \"duration\": \"0:01:35\", \"iteration\": \"10\", \"goal\": \"AUC_weighted_max\", \"run_name\": \"RobustScaler, ExtremeRandomTrees\", \"run_properties\": \"copy=True, quantile_range=[10, 90], with_centering=True,\\n             with_scaling=False\", \"primary_metric\": 0.66818424, \"best_metric\": 0.81721816}, {\"run_id\": \"AutoML_0a6eb683-1673-4525-8426-78fd5496832c_11\", \"run_number\": 16, \"metric\": null, \"status\": \"Completed\", \"run_type\": \"azureml.scriptrun\", \"training_percent\": \"100\", \"start_time\": \"2021-11-06T10:39:45.421557Z\", \"end_time\": \"2021-11-06T10:41:48.456514Z\", \"created_time\": \"2021-11-06T10:39:45.421557Z\", \"created_time_dt\": \"2021-11-06T10:39:45.421557Z\", \"duration\": \"0:02:03\", \"iteration\": \"11\", \"goal\": \"AUC_weighted_max\", \"run_name\": \"SparseNormalizer, XGBoostClassifier\", \"run_properties\": \"copy=True, norm='max'\", \"primary_metric\": 0.77948061, \"best_metric\": 0.81721816}, {\"run_id\": \"AutoML_0a6eb683-1673-4525-8426-78fd5496832c_12\", \"run_number\": 17, \"metric\": null, \"status\": \"Completed\", \"run_type\": \"azureml.scriptrun\", \"training_percent\": \"100\", \"start_time\": \"2021-11-06T10:40:24.459101Z\", \"end_time\": \"2021-11-06T10:42:25.511147Z\", \"created_time\": \"2021-11-06T10:40:24.459101Z\", \"created_time_dt\": \"2021-11-06T10:40:24.459101Z\", \"duration\": \"0:02:01\", \"iteration\": \"12\", \"goal\": \"AUC_weighted_max\", \"run_name\": \"MinMaxScaler, ExtremeRandomTrees\", \"run_properties\": \"copy=True, feature_range=(0, 1\", \"primary_metric\": 0.72465792, \"best_metric\": 0.81721816}, {\"run_id\": \"AutoML_0a6eb683-1673-4525-8426-78fd5496832c_13\", \"run_number\": 18, \"metric\": null, \"status\": \"Completed\", \"run_type\": \"azureml.scriptrun\", \"training_percent\": \"100\", \"start_time\": \"2021-11-06T10:40:27.969566Z\", \"end_time\": \"2021-11-06T10:42:23.415177Z\", \"created_time\": \"2021-11-06T10:40:27.969566Z\", \"created_time_dt\": \"2021-11-06T10:40:27.969566Z\", \"duration\": \"0:01:55\", \"iteration\": \"13\", \"goal\": \"AUC_weighted_max\", \"run_name\": \"MinMaxScaler, ExtremeRandomTrees\", \"run_properties\": \"copy=True, feature_range=(0, 1\", \"primary_metric\": 0.71569662, \"best_metric\": 0.81721816}, {\"run_id\": \"AutoML_0a6eb683-1673-4525-8426-78fd5496832c_14\", \"run_number\": 19, \"metric\": null, \"status\": \"Completed\", \"run_type\": \"azureml.scriptrun\", \"training_percent\": \"100\", \"start_time\": \"2021-11-06T10:41:04.998564Z\", \"end_time\": \"2021-11-06T10:43:05.238024Z\", \"created_time\": \"2021-11-06T10:41:04.998564Z\", \"created_time_dt\": \"2021-11-06T10:41:04.998564Z\", \"duration\": \"0:02:00\", \"iteration\": \"14\", \"goal\": \"AUC_weighted_max\", \"run_name\": \"SparseNormalizer, LightGBM\", \"run_properties\": \"copy=True, norm='l1'\", \"primary_metric\": 0.70738858, \"best_metric\": 0.81721816}, {\"run_id\": \"AutoML_0a6eb683-1673-4525-8426-78fd5496832c_15\", \"run_number\": 20, \"metric\": null, \"status\": \"Completed\", \"run_type\": \"azureml.scriptrun\", \"training_percent\": \"100\", \"start_time\": \"2021-11-06T10:41:51.315508Z\", \"end_time\": \"2021-11-06T10:43:50.357044Z\", \"created_time\": \"2021-11-06T10:41:51.315508Z\", \"created_time_dt\": \"2021-11-06T10:41:51.315508Z\", \"duration\": \"0:01:59\", \"iteration\": \"15\", \"goal\": \"AUC_weighted_max\", \"run_name\": \"MaxAbsScaler, ExtremeRandomTrees\", \"run_properties\": \"copy=True\", \"primary_metric\": 0.69693094, \"best_metric\": 0.81721816}, {\"run_id\": \"AutoML_0a6eb683-1673-4525-8426-78fd5496832c_16\", \"run_number\": 21, \"metric\": null, \"status\": \"Completed\", \"run_type\": \"azureml.scriptrun\", \"training_percent\": \"100\", \"start_time\": \"2021-11-06T10:42:26.610122Z\", \"end_time\": \"2021-11-06T10:44:34.264803Z\", \"created_time\": \"2021-11-06T10:42:26.610122Z\", \"created_time_dt\": \"2021-11-06T10:42:26.610122Z\", \"duration\": \"0:02:07\", \"iteration\": \"16\", \"goal\": \"AUC_weighted_max\", \"run_name\": \"StandardScalerWrapper, XGBoostClassifier\", \"run_properties\": \"\\n    copy=True,\\n    with_mean=False,\\n    with_std=False\\n\", \"primary_metric\": 0.78452429, \"best_metric\": 0.81721816}, {\"run_id\": \"AutoML_0a6eb683-1673-4525-8426-78fd5496832c_17\", \"run_number\": 22, \"metric\": null, \"status\": \"Completed\", \"run_type\": \"azureml.scriptrun\", \"training_percent\": \"100\", \"start_time\": \"2021-11-06T10:42:30.770049Z\", \"end_time\": \"2021-11-06T10:44:38.891792Z\", \"created_time\": \"2021-11-06T10:42:30.770049Z\", \"created_time_dt\": \"2021-11-06T10:42:30.770049Z\", \"duration\": \"0:02:08\", \"iteration\": \"17\", \"goal\": \"AUC_weighted_max\", \"run_name\": \"StandardScalerWrapper, RandomForest\", \"run_properties\": \"\\n    copy=True,\\n    with_mean=False,\\n    with_std=False\\n\", \"primary_metric\": 0.86394821, \"best_metric\": 0.86394821}, {\"run_id\": \"AutoML_0a6eb683-1673-4525-8426-78fd5496832c_18\", \"run_number\": 23, \"metric\": null, \"status\": \"Completed\", \"run_type\": \"azureml.scriptrun\", \"training_percent\": \"100\", \"start_time\": \"2021-11-06T10:43:08.046702Z\", \"end_time\": \"2021-11-06T10:45:14.176751Z\", \"created_time\": \"2021-11-06T10:43:08.046702Z\", \"created_time_dt\": \"2021-11-06T10:43:08.046702Z\", \"duration\": \"0:02:06\", \"iteration\": \"18\", \"goal\": \"AUC_weighted_max\", \"run_name\": \"MaxAbsScaler, LightGBM\", \"run_properties\": \"copy=True\", \"primary_metric\": 0.81207908, \"best_metric\": 0.86394821}, {\"run_id\": \"AutoML_0a6eb683-1673-4525-8426-78fd5496832c_19\", \"run_number\": 24, \"metric\": null, \"status\": \"Completed\", \"run_type\": \"azureml.scriptrun\", \"training_percent\": \"100\", \"start_time\": \"2021-11-06T10:43:52.770947Z\", \"end_time\": \"2021-11-06T10:45:39.492527Z\", \"created_time\": \"2021-11-06T10:43:52.770947Z\", \"created_time_dt\": \"2021-11-06T10:43:52.770947Z\", \"duration\": \"0:01:46\", \"iteration\": \"19\", \"goal\": \"AUC_weighted_max\", \"run_name\": \"MaxAbsScaler, LogisticRegression\", \"run_properties\": \"copy=True\", \"primary_metric\": 0.68545095, \"best_metric\": 0.86394821}, {\"run_id\": \"AutoML_0a6eb683-1673-4525-8426-78fd5496832c_20\", \"run_number\": 25, \"metric\": null, \"status\": \"Completed\", \"run_type\": \"azureml.scriptrun\", \"training_percent\": \"100\", \"start_time\": \"2021-11-06T10:44:37.261457Z\", \"end_time\": \"2021-11-06T10:46:36.413945Z\", \"created_time\": \"2021-11-06T10:44:37.261457Z\", \"created_time_dt\": \"2021-11-06T10:44:37.261457Z\", \"duration\": \"0:01:59\", \"iteration\": \"20\", \"goal\": \"AUC_weighted_max\", \"run_name\": \"StandardScalerWrapper, ExtremeRandomTrees\", \"run_properties\": \"\\n    copy=True,\\n    with_mean=False,\\n    with_std=True\\n\", \"primary_metric\": 0.70607288, \"best_metric\": 0.86394821}, {\"run_id\": \"AutoML_0a6eb683-1673-4525-8426-78fd5496832c_21\", \"run_number\": 26, \"metric\": null, \"status\": \"Completed\", \"run_type\": \"azureml.scriptrun\", \"training_percent\": \"100\", \"start_time\": \"2021-11-06T10:44:41.77924Z\", \"end_time\": \"2021-11-06T10:46:32.151167Z\", \"created_time\": \"2021-11-06T10:44:41.77924Z\", \"created_time_dt\": \"2021-11-06T10:44:41.77924Z\", \"duration\": \"0:01:50\", \"iteration\": \"21\", \"goal\": \"AUC_weighted_max\", \"run_name\": \"StandardScalerWrapper, XGBoostClassifier\", \"run_properties\": \"\\n    copy=True,\\n    with_mean=False,\\n    with_std=False\\n\", \"primary_metric\": 0.77534179, \"best_metric\": 0.86394821}, {\"run_id\": \"AutoML_0a6eb683-1673-4525-8426-78fd5496832c_22\", \"run_number\": 27, \"metric\": null, \"status\": \"Completed\", \"run_type\": \"azureml.scriptrun\", \"training_percent\": \"100\", \"start_time\": \"2021-11-06T10:45:17.105656Z\", \"end_time\": \"2021-11-06T10:47:07.619888Z\", \"created_time\": \"2021-11-06T10:45:17.105656Z\", \"created_time_dt\": \"2021-11-06T10:45:17.105656Z\", \"duration\": \"0:01:50\", \"iteration\": \"22\", \"goal\": \"AUC_weighted_max\", \"run_name\": \"MaxAbsScaler, LogisticRegression\", \"run_properties\": \"copy=True\", \"primary_metric\": 0.7200056, \"best_metric\": 0.86394821}, {\"run_id\": \"AutoML_0a6eb683-1673-4525-8426-78fd5496832c_23\", \"run_number\": 28, \"metric\": null, \"status\": \"Completed\", \"run_type\": \"azureml.scriptrun\", \"training_percent\": \"100\", \"start_time\": \"2021-11-06T10:45:42.375248Z\", \"end_time\": \"2021-11-06T10:47:46.674994Z\", \"created_time\": \"2021-11-06T10:45:42.375248Z\", \"created_time_dt\": \"2021-11-06T10:45:42.375248Z\", \"duration\": \"0:02:04\", \"iteration\": \"23\", \"goal\": \"AUC_weighted_max\", \"run_name\": \"StandardScalerWrapper, XGBoostClassifier\", \"run_properties\": \"\\n    copy=True,\\n    with_mean=False,\\n    with_std=False\\n\", \"primary_metric\": 0.78204072, \"best_metric\": 0.86394821}, {\"run_id\": \"AutoML_0a6eb683-1673-4525-8426-78fd5496832c_24\", \"run_number\": 29, \"metric\": null, \"status\": \"Completed\", \"run_type\": \"azureml.scriptrun\", \"training_percent\": \"100\", \"start_time\": \"2021-11-06T10:46:34.923115Z\", \"end_time\": \"2021-11-06T10:48:45.692519Z\", \"created_time\": \"2021-11-06T10:46:34.923115Z\", \"created_time_dt\": \"2021-11-06T10:46:34.923115Z\", \"duration\": \"0:02:10\", \"iteration\": \"24\", \"goal\": \"AUC_weighted_max\", \"run_name\": \"StandardScalerWrapper, XGBoostClassifier\", \"run_properties\": \"\\n    copy=True,\\n    with_mean=False,\\n    with_std=False\\n\", \"primary_metric\": 0.79830793, \"best_metric\": 0.86394821}, {\"run_id\": \"AutoML_0a6eb683-1673-4525-8426-78fd5496832c_25\", \"run_number\": 30, \"metric\": null, \"status\": \"Completed\", \"run_type\": \"azureml.scriptrun\", \"training_percent\": \"100\", \"start_time\": \"2021-11-06T10:46:39.306111Z\", \"end_time\": \"2021-11-06T10:48:30.192109Z\", \"created_time\": \"2021-11-06T10:46:39.306111Z\", \"created_time_dt\": \"2021-11-06T10:46:39.306111Z\", \"duration\": \"0:01:50\", \"iteration\": \"25\", \"goal\": \"AUC_weighted_max\", \"run_name\": \"PCA, RandomForest\", \"run_properties\": \"copy=True, iterated_power='auto', n_components=0.10894736842105263,\\n    random_state=None, svd_solver='auto', tol=0.0, whiten=False\", \"primary_metric\": 0.54745848, \"best_metric\": 0.86394821}, {\"run_id\": \"AutoML_0a6eb683-1673-4525-8426-78fd5496832c_26\", \"run_number\": 31, \"metric\": null, \"status\": \"Completed\", \"run_type\": \"azureml.scriptrun\", \"training_percent\": \"100\", \"start_time\": \"2021-11-06T10:47:09.379115Z\", \"end_time\": \"2021-11-06T10:49:10.026929Z\", \"created_time\": \"2021-11-06T10:47:09.379115Z\", \"created_time_dt\": \"2021-11-06T10:47:09.379115Z\", \"duration\": \"0:02:00\", \"iteration\": \"26\", \"goal\": \"AUC_weighted_max\", \"run_name\": \"MaxAbsScaler, LightGBM\", \"run_properties\": \"copy=True\", \"primary_metric\": 0.77604417, \"best_metric\": 0.86394821}, {\"run_id\": \"AutoML_0a6eb683-1673-4525-8426-78fd5496832c_27\", \"run_number\": 32, \"metric\": null, \"status\": \"Completed\", \"run_type\": \"azureml.scriptrun\", \"training_percent\": \"100\", \"start_time\": \"2021-11-06T10:47:48.56215Z\", \"end_time\": \"2021-11-06T10:49:52.093299Z\", \"created_time\": \"2021-11-06T10:47:48.56215Z\", \"created_time_dt\": \"2021-11-06T10:47:48.56215Z\", \"duration\": \"0:02:03\", \"iteration\": \"27\", \"goal\": \"AUC_weighted_max\", \"run_name\": \"MinMaxScaler, LightGBM\", \"run_properties\": \"copy=True, feature_range=(0, 1\", \"primary_metric\": 0.7785201, \"best_metric\": 0.86394821}, {\"run_id\": \"AutoML_0a6eb683-1673-4525-8426-78fd5496832c_28\", \"run_number\": 33, \"metric\": null, \"status\": \"Completed\", \"run_type\": \"azureml.scriptrun\", \"training_percent\": \"100\", \"start_time\": \"2021-11-06T10:48:31.950593Z\", \"end_time\": \"2021-11-06T10:50:31.855564Z\", \"created_time\": \"2021-11-06T10:48:31.950593Z\", \"created_time_dt\": \"2021-11-06T10:48:31.950593Z\", \"duration\": \"0:01:59\", \"iteration\": \"28\", \"goal\": \"AUC_weighted_max\", \"run_name\": \"MinMaxScaler, LogisticRegression\", \"run_properties\": \"copy=True, feature_range=(0, 1\", \"primary_metric\": 0.72000391, \"best_metric\": 0.86394821}, {\"run_id\": \"AutoML_0a6eb683-1673-4525-8426-78fd5496832c_29\", \"run_number\": 34, \"metric\": null, \"status\": \"Completed\", \"run_type\": \"azureml.scriptrun\", \"training_percent\": \"100\", \"start_time\": \"2021-11-06T10:48:47.88197Z\", \"end_time\": \"2021-11-06T10:50:30.26819Z\", \"created_time\": \"2021-11-06T10:48:47.88197Z\", \"created_time_dt\": \"2021-11-06T10:48:47.88197Z\", \"duration\": \"0:01:42\", \"iteration\": \"29\", \"goal\": \"AUC_weighted_max\", \"run_name\": \"MaxAbsScaler, LogisticRegression\", \"run_properties\": \"copy=True\", \"primary_metric\": 0.71945744, \"best_metric\": 0.86394821}, {\"run_id\": \"AutoML_0a6eb683-1673-4525-8426-78fd5496832c_30\", \"run_number\": 35, \"metric\": null, \"status\": \"Completed\", \"run_type\": \"azureml.scriptrun\", \"training_percent\": \"100\", \"start_time\": \"2021-11-06T10:49:13.172548Z\", \"end_time\": \"2021-11-06T10:51:15.470108Z\", \"created_time\": \"2021-11-06T10:49:13.172548Z\", \"created_time_dt\": \"2021-11-06T10:49:13.172548Z\", \"duration\": \"0:02:02\", \"iteration\": \"30\", \"goal\": \"AUC_weighted_max\", \"run_name\": \"RobustScaler, RandomForest\", \"run_properties\": \"copy=True, quantile_range=[25, 75], with_centering=True,\\n             with_scaling=False\", \"primary_metric\": 0.67690626, \"best_metric\": 0.86394821}, {\"run_id\": \"AutoML_0a6eb683-1673-4525-8426-78fd5496832c_31\", \"run_number\": 36, \"metric\": null, \"status\": \"Completed\", \"run_type\": \"azureml.scriptrun\", \"training_percent\": \"100\", \"start_time\": \"2021-11-06T10:49:55.554176Z\", \"end_time\": \"2021-11-06T10:51:51.335804Z\", \"created_time\": \"2021-11-06T10:49:55.554176Z\", \"created_time_dt\": \"2021-11-06T10:49:55.554176Z\", \"duration\": \"0:01:55\", \"iteration\": \"31\", \"goal\": \"AUC_weighted_max\", \"run_name\": \"MinMaxScaler, LogisticRegression\", \"run_properties\": \"copy=True, feature_range=(0, 1\", \"primary_metric\": 0.72206845, \"best_metric\": 0.86394821}, {\"run_id\": \"AutoML_0a6eb683-1673-4525-8426-78fd5496832c_32\", \"run_number\": 37, \"metric\": null, \"status\": \"Completed\", \"run_type\": \"azureml.scriptrun\", \"training_percent\": \"100\", \"start_time\": \"2021-11-06T10:50:32.26131Z\", \"end_time\": \"2021-11-06T10:52:38.212968Z\", \"created_time\": \"2021-11-06T10:50:32.26131Z\", \"created_time_dt\": \"2021-11-06T10:50:32.26131Z\", \"duration\": \"0:02:05\", \"iteration\": \"32\", \"goal\": \"AUC_weighted_max\", \"run_name\": \"RobustScaler, LightGBM\", \"run_properties\": \"copy=True, quantile_range=[25, 75], with_centering=True,\\n             with_scaling=True\", \"primary_metric\": 0.78950032, \"best_metric\": 0.86394821}, {\"run_id\": \"AutoML_0a6eb683-1673-4525-8426-78fd5496832c_33\", \"run_number\": 38, \"metric\": null, \"status\": \"Canceled\", \"run_type\": \"azureml.scriptrun\", \"training_percent\": \"100\", \"start_time\": \"2021-11-06T10:50:35.674551Z\", \"end_time\": \"2021-11-06T10:52:39.506123Z\", \"created_time\": \"2021-11-06T10:50:35.674551Z\", \"created_time_dt\": \"2021-11-06T10:50:35.674551Z\", \"duration\": \"0:02:03\", \"iteration\": \"33\", \"goal\": \"AUC_weighted_max\", \"run_name\": \"RobustScaler, LightGBM\", \"run_properties\": \"copy=True, quantile_range=[25, 75], with_centering=True,\\n             with_scaling=True\", \"primary_metric\": 0.77250048, \"best_metric\": 0.86394821}, {\"run_id\": \"AutoML_0a6eb683-1673-4525-8426-78fd5496832c_34\", \"run_number\": 39, \"metric\": null, \"status\": \"Canceled\", \"run_type\": \"azureml.scriptrun\", \"training_percent\": \"100\", \"start_time\": \"2021-11-06T10:51:17.647578Z\", \"end_time\": \"2021-11-06T10:52:39.592978Z\", \"created_time\": \"2021-11-06T10:51:17.647578Z\", \"created_time_dt\": \"2021-11-06T10:51:17.647578Z\", \"duration\": \"0:01:21\", \"iteration\": \"34\", \"goal\": null, \"run_name\": \"Canceled\", \"run_properties\": null}, {\"run_id\": \"AutoML_0a6eb683-1673-4525-8426-78fd5496832c_35\", \"run_number\": 40, \"metric\": null, \"status\": \"Canceled\", \"run_type\": \"azureml.scriptrun\", \"training_percent\": \"100\", \"start_time\": \"2021-11-06T10:51:54.679771Z\", \"end_time\": \"2021-11-06T10:52:39.404737Z\", \"created_time\": \"2021-11-06T10:51:54.679771Z\", \"created_time_dt\": \"2021-11-06T10:51:54.679771Z\", \"duration\": \"0:00:44\", \"iteration\": \"35\", \"goal\": null, \"run_name\": \"Canceled\", \"run_properties\": null}, {\"run_id\": \"AutoML_0a6eb683-1673-4525-8426-78fd5496832c_36\", \"run_number\": 41, \"metric\": null, \"status\": \"Completed\", \"run_type\": \"azureml.scriptrun\", \"training_percent\": \"100\", \"start_time\": \"2021-11-06T10:52:40.384205Z\", \"end_time\": \"2021-11-06T10:53:44.738174Z\", \"created_time\": \"2021-11-06T10:52:40.384205Z\", \"created_time_dt\": \"2021-11-06T10:52:40.384205Z\", \"duration\": \"0:01:04\", \"iteration\": \"36\", \"goal\": \"AUC_weighted_max\", \"run_name\": \"VotingEnsemble\", \"run_properties\": \"\\n    estimators=[('17', Pipeline(\\n        memory=None,\\n        steps=[('standardscalerwrapper', StandardScalerWrapper(\\n            copy=True,\\n            with_mean=False,\\n            with_std=False\\n        \", \"primary_metric\": 0.86454951, \"best_metric\": 0.86454951}, {\"run_id\": \"AutoML_0a6eb683-1673-4525-8426-78fd5496832c_37\", \"run_number\": 42, \"metric\": null, \"status\": \"Completed\", \"run_type\": \"azureml.scriptrun\", \"training_percent\": \"100\", \"start_time\": \"2021-11-06T10:55:15.205482Z\", \"end_time\": \"2021-11-06T10:55:38.647097Z\", \"created_time\": \"2021-11-06T10:52:40.410172Z\", \"created_time_dt\": \"2021-11-06T10:52:40.410172Z\", \"duration\": \"0:02:58\", \"iteration\": \"37\", \"goal\": \"AUC_weighted_max\", \"run_name\": \"StackEnsemble\", \"run_properties\": \"\\n    base_learners=[('17', Pipeline(\\n        memory=None,\\n        steps=[('standardscalerwrapper', StandardScalerWrapper(\\n            copy=True,\\n            with_mean=False,\\n            with_std=False\\n        \", \"primary_metric\": 0.86740622, \"best_metric\": 0.86740622}], \"children_metrics\": {\"categories\": [0], \"series\": {\"weighted_accuracy\": [{\"categories\": [\"0\", \"1\", \"2\", \"3\", \"4\", \"5\", \"6\", \"7\", \"8\", \"9\", \"10\", \"11\", \"12\", \"13\", \"14\", \"15\", \"16\", \"17\", \"18\", \"19\", \"20\", \"21\", \"22\", \"23\", \"24\", \"25\", \"26\", \"27\", \"28\", \"29\", \"30\", \"31\", \"32\", \"33\", \"36\", \"37\"], \"mode\": \"markers\", \"name\": \"weighted_accuracy\", \"stepped\": false, \"type\": \"scatter\", \"data\": [0.7012848239099132, 0.6607330512042365, 0.6349171020469896, 0.6507437526707192, 0.6538267789268699, 0.6612008913253771, 0.3357509665276669, 0.6325554139806042, 0.6245886428579952, 0.7115078833232914, 0.2854414357897467, 0.6865362397297281, 0.6422901427245105, 0.3419282765716266, 0.6348628325005801, 0.30690345162620564, 0.679053131242017, 0.7432853543111502, 0.7092162516561415, 0.29878499032197314, 0.33220431411534396, 0.669170466446096, 0.6381910691700683, 0.6728864045919043, 0.6810343528441672, 0.5631358608964062, 0.6658068991473598, 0.6646109110023157, 0.6392503940239141, 0.637152475325384, 0.5791944324658762, 0.6277935651976847, 0.6739855352265097, 0.6513770138102043, 0.747453822855176, 0.7375732398406555]}, {\"categories\": [\"0\", \"1\", \"2\", \"3\", \"4\", \"5\", \"6\", \"7\", \"8\", \"9\", \"10\", \"11\", \"12\", \"13\", \"14\", \"15\", \"16\", \"17\", \"18\", \"19\", \"20\", \"21\", \"22\", \"23\", \"24\", \"25\", \"26\", \"27\", \"28\", \"29\", \"30\", \"31\", \"32\", \"33\", \"36\", \"37\"], \"mode\": \"lines\", \"name\": \"weighted_accuracy_max\", \"stepped\": true, \"type\": \"scatter\", \"data\": [0.7012848239099132, 0.7012848239099132, 0.7012848239099132, 0.7012848239099132, 0.7012848239099132, 0.7012848239099132, 0.7012848239099132, 0.7012848239099132, 0.7012848239099132, 0.7115078833232914, 0.7115078833232914, 0.7115078833232914, 0.7115078833232914, 0.7115078833232914, 0.7115078833232914, 0.7115078833232914, 0.7115078833232914, 0.7432853543111502, 0.7432853543111502, 0.7432853543111502, 0.7432853543111502, 0.7432853543111502, 0.7432853543111502, 0.7432853543111502, 0.7432853543111502, 0.7432853543111502, 0.7432853543111502, 0.7432853543111502, 0.7432853543111502, 0.7432853543111502, 0.7432853543111502, 0.7432853543111502, 0.7432853543111502, 0.7432853543111502, 0.747453822855176, 0.747453822855176]}], \"log_loss\": [{\"categories\": [\"0\", \"1\", \"2\", \"3\", \"4\", \"5\", \"6\", \"7\", \"8\", \"9\", \"10\", \"11\", \"12\", \"13\", \"14\", \"15\", \"16\", \"17\", \"18\", \"19\", \"20\", \"21\", \"22\", \"23\", \"24\", \"25\", \"26\", \"27\", \"28\", \"29\", \"30\", \"31\", \"32\", \"33\", \"36\", \"37\"], \"mode\": \"markers\", \"name\": \"log_loss\", \"stepped\": false, \"type\": \"scatter\", \"data\": [0.9202420431606508, 0.9979659388495632, 1.1148288413222227, 1.0643311751153741, 1.0882869681460003, 1.359456654875362, 1.4495851957307186, 1.0955014355795747, 1.0722813310780612, 1.2804177479846455, 1.7314125870029524, 1.3239814575460676, 1.084058133945153, 1.4739753976708196, 1.1394418248759022, 1.7136451914216202, 1.0680523908291746, 0.9012923365992023, 1.03759492550019, 1.5843358086067674, 1.5350596388315556, 1.3120403011184554, 1.0783450989337997, 1.3060099549686843, 0.9392855174553156, 1.256209615448564, 0.9841906177973501, 0.974706036304552, 1.0776797746798297, 1.0790461759725098, 1.2359865880081002, 1.0742101177115289, 0.9608612643205291, 0.9837125200062898, 0.8231980929302589, 0.7859143219293641]}, {\"categories\": [\"0\", \"1\", \"2\", \"3\", \"4\", \"5\", \"6\", \"7\", \"8\", \"9\", \"10\", \"11\", \"12\", \"13\", \"14\", \"15\", \"16\", \"17\", \"18\", \"19\", \"20\", \"21\", \"22\", \"23\", \"24\", \"25\", \"26\", \"27\", \"28\", \"29\", \"30\", \"31\", \"32\", \"33\", \"36\", \"37\"], \"mode\": \"lines\", \"name\": \"log_loss_min\", \"stepped\": true, \"type\": \"scatter\", \"data\": [0.9202420431606508, 0.9202420431606508, 0.9202420431606508, 0.9202420431606508, 0.9202420431606508, 0.9202420431606508, 0.9202420431606508, 0.9202420431606508, 0.9202420431606508, 0.9202420431606508, 0.9202420431606508, 0.9202420431606508, 0.9202420431606508, 0.9202420431606508, 0.9202420431606508, 0.9202420431606508, 0.9202420431606508, 0.9012923365992023, 0.9012923365992023, 0.9012923365992023, 0.9012923365992023, 0.9012923365992023, 0.9012923365992023, 0.9012923365992023, 0.9012923365992023, 0.9012923365992023, 0.9012923365992023, 0.9012923365992023, 0.9012923365992023, 0.9012923365992023, 0.9012923365992023, 0.9012923365992023, 0.9012923365992023, 0.9012923365992023, 0.8231980929302589, 0.7859143219293641]}], \"recall_score_micro\": [{\"categories\": [\"0\", \"1\", \"2\", \"3\", \"4\", \"5\", \"6\", \"7\", \"8\", \"9\", \"10\", \"11\", \"12\", \"13\", \"14\", \"15\", \"16\", \"17\", \"18\", \"19\", \"20\", \"21\", \"22\", \"23\", \"24\", \"25\", \"26\", \"27\", \"28\", \"29\", \"30\", \"31\", \"32\", \"33\", \"36\", \"37\"], \"mode\": \"markers\", \"name\": \"recall_score_micro\", \"stepped\": false, \"type\": \"scatter\", \"data\": [0.6478377450109553, 0.58011535500681, 0.5250111920412153, 0.5597993722982176, 0.548871202700302, 0.5758061230532363, 0.37617362468170784, 0.5348625569965062, 0.543943151536685, 0.6406018831053474, 0.29690483804109674, 0.6073602179191094, 0.5439452833540593, 0.37308971398116897, 0.5219327293184106, 0.33815337241665183, 0.6025876709895185, 0.6860088825723929, 0.6142853082252622, 0.31290815420145673, 0.3600092378752887, 0.5962759519156748, 0.540558417717771, 0.598583999526263, 0.6152067270681589, 0.43066228459761946, 0.5951960679812874, 0.5964293243323266, 0.5417889500799431, 0.5394803102978623, 0.4365084384437733, 0.5424049268668206, 0.6068965476401966, 0.5873470717119678, 0.6886246224906734, 0.6873939716942027]}, {\"categories\": [\"0\", \"1\", \"2\", \"3\", \"4\", \"5\", \"6\", \"7\", \"8\", \"9\", \"10\", \"11\", \"12\", \"13\", \"14\", \"15\", \"16\", \"17\", \"18\", \"19\", \"20\", \"21\", \"22\", \"23\", \"24\", \"25\", \"26\", \"27\", \"28\", \"29\", \"30\", \"31\", \"32\", \"33\", \"36\", \"37\"], \"mode\": \"lines\", \"name\": \"recall_score_micro_max\", \"stepped\": true, \"type\": \"scatter\", \"data\": [0.6478377450109553, 0.6478377450109553, 0.6478377450109553, 0.6478377450109553, 0.6478377450109553, 0.6478377450109553, 0.6478377450109553, 0.6478377450109553, 0.6478377450109553, 0.6478377450109553, 0.6478377450109553, 0.6478377450109553, 0.6478377450109553, 0.6478377450109553, 0.6478377450109553, 0.6478377450109553, 0.6478377450109553, 0.6860088825723929, 0.6860088825723929, 0.6860088825723929, 0.6860088825723929, 0.6860088825723929, 0.6860088825723929, 0.6860088825723929, 0.6860088825723929, 0.6860088825723929, 0.6860088825723929, 0.6860088825723929, 0.6860088825723929, 0.6860088825723929, 0.6860088825723929, 0.6860088825723929, 0.6860088825723929, 0.6860088825723929, 0.6886246224906734, 0.6886246224906734]}], \"precision_score_micro\": [{\"categories\": [\"0\", \"1\", \"2\", \"3\", \"4\", \"5\", \"6\", \"7\", \"8\", \"9\", \"10\", \"11\", \"12\", \"13\", \"14\", \"15\", \"16\", \"17\", \"18\", \"19\", \"20\", \"21\", \"22\", \"23\", \"24\", \"25\", \"26\", \"27\", \"28\", \"29\", \"30\", \"31\", \"32\", \"33\", \"36\", \"37\"], \"mode\": \"markers\", \"name\": \"precision_score_micro\", \"stepped\": false, \"type\": \"scatter\", \"data\": [0.6478377450109553, 0.58011535500681, 0.5250111920412153, 0.5597993722982176, 0.548871202700302, 0.5758061230532363, 0.37617362468170784, 0.5348625569965062, 0.543943151536685, 0.6406018831053474, 0.29690483804109674, 0.6073602179191094, 0.5439452833540593, 0.37308971398116897, 0.5219327293184106, 0.33815337241665183, 0.6025876709895185, 0.6860088825723929, 0.6142853082252622, 0.31290815420145673, 0.3600092378752887, 0.5962759519156748, 0.540558417717771, 0.598583999526263, 0.6152067270681589, 0.43066228459761946, 0.5951960679812874, 0.5964293243323266, 0.5417889500799431, 0.5394803102978623, 0.4365084384437733, 0.5424049268668206, 0.6068965476401966, 0.5873470717119678, 0.6886246224906734, 0.6873939716942027]}, {\"categories\": [\"0\", \"1\", \"2\", \"3\", \"4\", \"5\", \"6\", \"7\", \"8\", \"9\", \"10\", \"11\", \"12\", \"13\", \"14\", \"15\", \"16\", \"17\", \"18\", \"19\", \"20\", \"21\", \"22\", \"23\", \"24\", \"25\", \"26\", \"27\", \"28\", \"29\", \"30\", \"31\", \"32\", \"33\", \"36\", \"37\"], \"mode\": \"lines\", \"name\": \"precision_score_micro_max\", \"stepped\": true, \"type\": \"scatter\", \"data\": [0.6478377450109553, 0.6478377450109553, 0.6478377450109553, 0.6478377450109553, 0.6478377450109553, 0.6478377450109553, 0.6478377450109553, 0.6478377450109553, 0.6478377450109553, 0.6478377450109553, 0.6478377450109553, 0.6478377450109553, 0.6478377450109553, 0.6478377450109553, 0.6478377450109553, 0.6478377450109553, 0.6478377450109553, 0.6860088825723929, 0.6860088825723929, 0.6860088825723929, 0.6860088825723929, 0.6860088825723929, 0.6860088825723929, 0.6860088825723929, 0.6860088825723929, 0.6860088825723929, 0.6860088825723929, 0.6860088825723929, 0.6860088825723929, 0.6860088825723929, 0.6860088825723929, 0.6860088825723929, 0.6860088825723929, 0.6860088825723929, 0.6886246224906734, 0.6886246224906734]}], \"AUC_weighted\": [{\"categories\": [\"0\", \"1\", \"2\", \"3\", \"4\", \"5\", \"6\", \"7\", \"8\", \"9\", \"10\", \"11\", \"12\", \"13\", \"14\", \"15\", \"16\", \"17\", \"18\", \"19\", \"20\", \"21\", \"22\", \"23\", \"24\", \"25\", \"26\", \"27\", \"28\", \"29\", \"30\", \"31\", \"32\", \"33\", \"36\", \"37\"], \"mode\": \"markers\", \"name\": \"AUC_weighted\", \"stepped\": false, \"type\": \"scatter\", \"data\": [0.8172181639347667, 0.7662000727821707, 0.7101600447023013, 0.7446468057741089, 0.7382347854858102, 0.7505499311873187, 0.6881376438782164, 0.715926129743506, 0.7239440564681259, 0.8068912581685701, 0.6681842373362643, 0.7794806113097291, 0.7246579193428702, 0.715696624914813, 0.7073885767678729, 0.6969309434262743, 0.7845242915623011, 0.8639482090423029, 0.8120790773003215, 0.6854509505263751, 0.7060728799656353, 0.7753417917336611, 0.7200056014060539, 0.7820407233184563, 0.7983079310080671, 0.5474584793866506, 0.7760441678623307, 0.7785201007556168, 0.7200039126744512, 0.7194574366173063, 0.6769062581985392, 0.7220684489785991, 0.789500316017732, 0.7725004811061724, 0.8645495120448251, 0.8674062196140027]}, {\"categories\": [\"0\", \"1\", \"2\", \"3\", \"4\", \"5\", \"6\", \"7\", \"8\", \"9\", \"10\", \"11\", \"12\", \"13\", \"14\", \"15\", \"16\", \"17\", \"18\", \"19\", \"20\", \"21\", \"22\", \"23\", \"24\", \"25\", \"26\", \"27\", \"28\", \"29\", \"30\", \"31\", \"32\", \"33\", \"36\", \"37\"], \"mode\": \"lines\", \"name\": \"AUC_weighted_max\", \"stepped\": true, \"type\": \"scatter\", \"data\": [0.8172181639347667, 0.8172181639347667, 0.8172181639347667, 0.8172181639347667, 0.8172181639347667, 0.8172181639347667, 0.8172181639347667, 0.8172181639347667, 0.8172181639347667, 0.8172181639347667, 0.8172181639347667, 0.8172181639347667, 0.8172181639347667, 0.8172181639347667, 0.8172181639347667, 0.8172181639347667, 0.8172181639347667, 0.8639482090423029, 0.8639482090423029, 0.8639482090423029, 0.8639482090423029, 0.8639482090423029, 0.8639482090423029, 0.8639482090423029, 0.8639482090423029, 0.8639482090423029, 0.8639482090423029, 0.8639482090423029, 0.8639482090423029, 0.8639482090423029, 0.8639482090423029, 0.8639482090423029, 0.8639482090423029, 0.8639482090423029, 0.8645495120448251, 0.8674062196140027]}], \"precision_score_macro\": [{\"categories\": [\"0\", \"1\", \"2\", \"3\", \"4\", \"5\", \"6\", \"7\", \"8\", \"9\", \"10\", \"11\", \"12\", \"13\", \"14\", \"15\", \"16\", \"17\", \"18\", \"19\", \"20\", \"21\", \"22\", \"23\", \"24\", \"25\", \"26\", \"27\", \"28\", \"29\", \"30\", \"31\", \"32\", \"33\", \"36\", \"37\"], \"mode\": \"markers\", \"name\": \"precision_score_macro\", \"stepped\": false, \"type\": \"scatter\", \"data\": [0.4660734917511669, 0.4268676766152225, 0.17813047620826153, 0.25662214764769836, 0.24913270295927306, 0.46934199258147735, 0.25872688300260094, 0.24036456743557086, 0.38983533566760864, 0.5322884546289418, 0.2226725228116632, 0.44470550806489645, 0.24872737485523633, 0.25749584141644694, 0.2374299956380818, 0.24568145351331774, 0.4653291740140689, 0.561963559431925, 0.44980778988579295, 0.2333623839005255, 0.24787271993665358, 0.4567299565305226, 0.33190326658654057, 0.4127465588152033, 0.4749504288063141, 0.07476121423537657, 0.45297131448071604, 0.4463541424665324, 0.306726548786886, 0.3301718092313165, 0.06436721964204642, 0.3075536795706904, 0.4445973565194536, 0.4282954787263577, 0.5637783746145182, 0.5303961068108896]}, {\"categories\": [\"0\", \"1\", \"2\", \"3\", \"4\", \"5\", \"6\", \"7\", \"8\", \"9\", \"10\", \"11\", \"12\", \"13\", \"14\", \"15\", \"16\", \"17\", \"18\", \"19\", \"20\", \"21\", \"22\", \"23\", \"24\", \"25\", \"26\", \"27\", \"28\", \"29\", \"30\", \"31\", \"32\", \"33\", \"36\", \"37\"], \"mode\": \"lines\", \"name\": \"precision_score_macro_max\", \"stepped\": true, \"type\": \"scatter\", \"data\": [0.4660734917511669, 0.4660734917511669, 0.4660734917511669, 0.4660734917511669, 0.4660734917511669, 0.46934199258147735, 0.46934199258147735, 0.46934199258147735, 0.46934199258147735, 0.5322884546289418, 0.5322884546289418, 0.5322884546289418, 0.5322884546289418, 0.5322884546289418, 0.5322884546289418, 0.5322884546289418, 0.5322884546289418, 0.561963559431925, 0.561963559431925, 0.561963559431925, 0.561963559431925, 0.561963559431925, 0.561963559431925, 0.561963559431925, 0.561963559431925, 0.561963559431925, 0.561963559431925, 0.561963559431925, 0.561963559431925, 0.561963559431925, 0.561963559431925, 0.561963559431925, 0.561963559431925, 0.561963559431925, 0.5637783746145182, 0.5637783746145182]}], \"AUC_micro\": [{\"categories\": [\"0\", \"1\", \"2\", \"3\", \"4\", \"5\", \"6\", \"7\", \"8\", \"9\", \"10\", \"11\", \"12\", \"13\", \"14\", \"15\", \"16\", \"17\", \"18\", \"19\", \"20\", \"21\", \"22\", \"23\", \"24\", \"25\", \"26\", \"27\", \"28\", \"29\", \"30\", \"31\", \"32\", \"33\", \"36\", \"37\"], \"mode\": \"markers\", \"name\": \"AUC_micro\", \"stepped\": false, \"type\": \"scatter\", \"data\": [0.9308432291641949, 0.9138389567583742, 0.89321319815152, 0.9053382517963356, 0.9001332726107469, 0.9064086125942195, 0.8212926264127255, 0.8971289930525161, 0.8999977205742056, 0.9241753957863986, 0.7238543674724717, 0.9149042512452367, 0.8995479389607718, 0.8156359224449299, 0.8894652406393027, 0.7766547672822783, 0.9187615474612043, 0.9466238830760852, 0.9181127541296494, 0.7719493156053686, 0.7955138855387034, 0.914360454078459, 0.8988236945664418, 0.9168069000418599, 0.9244054144509226, 0.8553947223550111, 0.9167519856815222, 0.9179586858413364, 0.898703281975393, 0.8985152734175219, 0.8714278162960548, 0.8993013254012604, 0.920968171782443, 0.9160801970299651, 0.9465625765731269, 0.9484861224333386]}, {\"categories\": [\"0\", \"1\", \"2\", \"3\", \"4\", \"5\", \"6\", \"7\", \"8\", \"9\", \"10\", \"11\", \"12\", \"13\", \"14\", \"15\", \"16\", \"17\", \"18\", \"19\", \"20\", \"21\", \"22\", \"23\", \"24\", \"25\", \"26\", \"27\", \"28\", \"29\", \"30\", \"31\", \"32\", \"33\", \"36\", \"37\"], \"mode\": \"lines\", \"name\": \"AUC_micro_max\", \"stepped\": true, \"type\": \"scatter\", \"data\": [0.9308432291641949, 0.9308432291641949, 0.9308432291641949, 0.9308432291641949, 0.9308432291641949, 0.9308432291641949, 0.9308432291641949, 0.9308432291641949, 0.9308432291641949, 0.9308432291641949, 0.9308432291641949, 0.9308432291641949, 0.9308432291641949, 0.9308432291641949, 0.9308432291641949, 0.9308432291641949, 0.9308432291641949, 0.9466238830760852, 0.9466238830760852, 0.9466238830760852, 0.9466238830760852, 0.9466238830760852, 0.9466238830760852, 0.9466238830760852, 0.9466238830760852, 0.9466238830760852, 0.9466238830760852, 0.9466238830760852, 0.9466238830760852, 0.9466238830760852, 0.9466238830760852, 0.9466238830760852, 0.9466238830760852, 0.9466238830760852, 0.9466238830760852, 0.9484861224333386]}], \"balanced_accuracy\": [{\"categories\": [\"0\", \"1\", \"2\", \"3\", \"4\", \"5\", \"6\", \"7\", \"8\", \"9\", \"10\", \"11\", \"12\", \"13\", \"14\", \"15\", \"16\", \"17\", \"18\", \"19\", \"20\", \"21\", \"22\", \"23\", \"24\", \"25\", \"26\", \"27\", \"28\", \"29\", \"30\", \"31\", \"32\", \"33\", \"36\", \"37\"], \"mode\": \"markers\", \"name\": \"balanced_accuracy\", \"stepped\": false, \"type\": \"scatter\", \"data\": [0.3444079057380166, 0.2540046623048674, 0.1986367904745116, 0.23008021579436147, 0.2147742238603616, 0.256749595366702, 0.3595469918985007, 0.21136347781879436, 0.2503295395186153, 0.3099024130730608, 0.3390172709887177, 0.27406182794175715, 0.21601386799909847, 0.40842264647068827, 0.1970890164492649, 0.38317795522984094, 0.2797957265290959, 0.3748653590932075, 0.26006430137975445, 0.3378290006161473, 0.38878355258222597, 0.2728989524523673, 0.21908881390037765, 0.27535132795700934, 0.29476035290244884, 0.14850376037441596, 0.274806573518824, 0.28013868638620265, 0.21656332390787866, 0.21849362075666887, 0.1476190476190476, 0.22976971417030834, 0.2856354395198, 0.2790564697474042, 0.3747039065803996, 0.38586868821791426]}, {\"categories\": [\"0\", \"1\", \"2\", \"3\", \"4\", \"5\", \"6\", \"7\", \"8\", \"9\", \"10\", \"11\", \"12\", \"13\", \"14\", \"15\", \"16\", \"17\", \"18\", \"19\", \"20\", \"21\", \"22\", \"23\", \"24\", \"25\", \"26\", \"27\", \"28\", \"29\", \"30\", \"31\", \"32\", \"33\", \"36\", \"37\"], \"mode\": \"lines\", \"name\": \"balanced_accuracy_max\", \"stepped\": true, \"type\": \"scatter\", \"data\": [0.3444079057380166, 0.3444079057380166, 0.3444079057380166, 0.3444079057380166, 0.3444079057380166, 0.3444079057380166, 0.3595469918985007, 0.3595469918985007, 0.3595469918985007, 0.3595469918985007, 0.3595469918985007, 0.3595469918985007, 0.3595469918985007, 0.40842264647068827, 0.40842264647068827, 0.40842264647068827, 0.40842264647068827, 0.40842264647068827, 0.40842264647068827, 0.40842264647068827, 0.40842264647068827, 0.40842264647068827, 0.40842264647068827, 0.40842264647068827, 0.40842264647068827, 0.40842264647068827, 0.40842264647068827, 0.40842264647068827, 0.40842264647068827, 0.40842264647068827, 0.40842264647068827, 0.40842264647068827, 0.40842264647068827, 0.40842264647068827, 0.40842264647068827, 0.40842264647068827]}], \"norm_macro_recall\": [{\"categories\": [\"0\", \"1\", \"2\", \"3\", \"4\", \"5\", \"6\", \"7\", \"8\", \"9\", \"10\", \"11\", \"12\", \"13\", \"14\", \"15\", \"16\", \"17\", \"18\", \"19\", \"20\", \"21\", \"22\", \"23\", \"24\", \"25\", \"26\", \"27\", \"28\", \"29\", \"30\", \"31\", \"32\", \"33\", \"36\", \"37\"], \"mode\": \"markers\", \"name\": \"norm_macro_recall\", \"stepped\": false, \"type\": \"scatter\", \"data\": [0.24462651826821574, 0.13482425848142815, 0.059872573513975416, 0.0968525899256687, 0.07879397695240845, 0.12811940417264728, 0.26557234944621283, 0.07479625564120788, 0.12083383950111018, 0.19031886911120421, 0.2506156421186948, 0.14849606413940825, 0.0802747774999728, 0.3217686312629516, 0.05804720067945468, 0.2989342290811715, 0.15517378701470896, 0.26671969773561155, 0.1320518875693228, 0.2432478723745822, 0.3012706322671678, 0.14708441699824146, 0.08389074298375002, 0.14997298054148392, 0.172729297770113, 0.0010321648812630683, 0.1493368671850867, 0.15562833983387664, 0.08096062575628553, 0.08318664729758751, 0.0, 0.09644366419703146, 0.16200150134350508, 0.15425870832854321, 0.26653331765914967, 0.2796068737597044]}, {\"categories\": [\"0\", \"1\", \"2\", \"3\", \"4\", \"5\", \"6\", \"7\", \"8\", \"9\", \"10\", \"11\", \"12\", \"13\", \"14\", \"15\", \"16\", \"17\", \"18\", \"19\", \"20\", \"21\", \"22\", \"23\", \"24\", \"25\", \"26\", \"27\", \"28\", \"29\", \"30\", \"31\", \"32\", \"33\", \"36\", \"37\"], \"mode\": \"lines\", \"name\": \"norm_macro_recall_max\", \"stepped\": true, \"type\": \"scatter\", \"data\": [0.24462651826821574, 0.24462651826821574, 0.24462651826821574, 0.24462651826821574, 0.24462651826821574, 0.24462651826821574, 0.26557234944621283, 0.26557234944621283, 0.26557234944621283, 0.26557234944621283, 0.26557234944621283, 0.26557234944621283, 0.26557234944621283, 0.3217686312629516, 0.3217686312629516, 0.3217686312629516, 0.3217686312629516, 0.3217686312629516, 0.3217686312629516, 0.3217686312629516, 0.3217686312629516, 0.3217686312629516, 0.3217686312629516, 0.3217686312629516, 0.3217686312629516, 0.3217686312629516, 0.3217686312629516, 0.3217686312629516, 0.3217686312629516, 0.3217686312629516, 0.3217686312629516, 0.3217686312629516, 0.3217686312629516, 0.3217686312629516, 0.3217686312629516, 0.3217686312629516]}], \"precision_score_weighted\": [{\"categories\": [\"0\", \"1\", \"2\", \"3\", \"4\", \"5\", \"6\", \"7\", \"8\", \"9\", \"10\", \"11\", \"12\", \"13\", \"14\", \"15\", \"16\", \"17\", \"18\", \"19\", \"20\", \"21\", \"22\", \"23\", \"24\", \"25\", \"26\", \"27\", \"28\", \"29\", \"30\", \"31\", \"32\", \"33\", \"36\", \"37\"], \"mode\": \"markers\", \"name\": \"precision_score_weighted\", \"stepped\": false, \"type\": \"scatter\", \"data\": [0.6468162591507871, 0.582881667196483, 0.4318481566915685, 0.5327803305592784, 0.5230134507227222, 0.5889804530292176, 0.515772274117561, 0.5047789285047287, 0.5282400715595241, 0.6538620796063552, 0.47045168154803674, 0.6104801821225125, 0.5174126887061632, 0.5199378301005599, 0.49827524094998327, 0.49970562806959584, 0.6062083126401082, 0.6939903759403363, 0.6297865787871209, 0.48773218865422213, 0.5037112194155393, 0.5996313212012575, 0.5205122098874405, 0.5917802677420081, 0.6174692068600749, 0.21302260735795103, 0.595446553507766, 0.5969408544443099, 0.5231580509599189, 0.5182428250741073, 0.19093906977015584, 0.519279828614348, 0.6045465550506522, 0.5849189428277005, 0.6968428173346531, 0.6881850358316163]}, {\"categories\": [\"0\", \"1\", \"2\", \"3\", \"4\", \"5\", \"6\", \"7\", \"8\", \"9\", \"10\", \"11\", \"12\", \"13\", \"14\", \"15\", \"16\", \"17\", \"18\", \"19\", \"20\", \"21\", \"22\", \"23\", \"24\", \"25\", \"26\", \"27\", \"28\", \"29\", \"30\", \"31\", \"32\", \"33\", \"36\", \"37\"], \"mode\": \"lines\", \"name\": \"precision_score_weighted_max\", \"stepped\": true, \"type\": \"scatter\", \"data\": [0.6468162591507871, 0.6468162591507871, 0.6468162591507871, 0.6468162591507871, 0.6468162591507871, 0.6468162591507871, 0.6468162591507871, 0.6468162591507871, 0.6468162591507871, 0.6538620796063552, 0.6538620796063552, 0.6538620796063552, 0.6538620796063552, 0.6538620796063552, 0.6538620796063552, 0.6538620796063552, 0.6538620796063552, 0.6939903759403363, 0.6939903759403363, 0.6939903759403363, 0.6939903759403363, 0.6939903759403363, 0.6939903759403363, 0.6939903759403363, 0.6939903759403363, 0.6939903759403363, 0.6939903759403363, 0.6939903759403363, 0.6939903759403363, 0.6939903759403363, 0.6939903759403363, 0.6939903759403363, 0.6939903759403363, 0.6939903759403363, 0.6968428173346531, 0.6968428173346531]}], \"average_precision_score_weighted\": [{\"categories\": [\"0\", \"1\", \"2\", \"3\", \"4\", \"5\", \"6\", \"7\", \"8\", \"9\", \"10\", \"11\", \"12\", \"13\", \"14\", \"15\", \"16\", \"17\", \"18\", \"19\", \"20\", \"21\", \"22\", \"23\", \"24\", \"25\", \"26\", \"27\", \"28\", \"29\", \"30\", \"31\", \"32\", \"33\", \"36\", \"37\"], \"mode\": \"markers\", \"name\": \"average_precision_score_weighted\", \"stepped\": false, \"type\": \"scatter\", \"data\": [0.6695956342502438, 0.5845090484043551, 0.5046243541268306, 0.5482551331579973, 0.5420295515628573, 0.582956050071467, 0.5039690094276666, 0.5176709694466173, 0.5233147053199315, 0.6703837294034928, 0.46684450471908717, 0.6290686655066491, 0.5287107702581032, 0.5165517347624051, 0.5119505003303688, 0.5039989791352251, 0.6152031246387007, 0.7646149132007285, 0.6634903002431015, 0.47899297234641824, 0.504486667124405, 0.606933775642889, 0.5190674863307628, 0.614354652759012, 0.6366539007026771, 0.3501909770525375, 0.6014675977083075, 0.6020384320362964, 0.5197539310695815, 0.5182071396265702, 0.46582501884734573, 0.5187874836316854, 0.6224548724223234, 0.5933044076499688, 0.7681220889856682, 0.7704535587770278]}, {\"categories\": [\"0\", \"1\", \"2\", \"3\", \"4\", \"5\", \"6\", \"7\", \"8\", \"9\", \"10\", \"11\", \"12\", \"13\", \"14\", \"15\", \"16\", \"17\", \"18\", \"19\", \"20\", \"21\", \"22\", \"23\", \"24\", \"25\", \"26\", \"27\", \"28\", \"29\", \"30\", \"31\", \"32\", \"33\", \"36\", \"37\"], \"mode\": \"lines\", \"name\": \"average_precision_score_weighted_max\", \"stepped\": true, \"type\": \"scatter\", \"data\": [0.6695956342502438, 0.6695956342502438, 0.6695956342502438, 0.6695956342502438, 0.6695956342502438, 0.6695956342502438, 0.6695956342502438, 0.6695956342502438, 0.6695956342502438, 0.6703837294034928, 0.6703837294034928, 0.6703837294034928, 0.6703837294034928, 0.6703837294034928, 0.6703837294034928, 0.6703837294034928, 0.6703837294034928, 0.7646149132007285, 0.7646149132007285, 0.7646149132007285, 0.7646149132007285, 0.7646149132007285, 0.7646149132007285, 0.7646149132007285, 0.7646149132007285, 0.7646149132007285, 0.7646149132007285, 0.7646149132007285, 0.7646149132007285, 0.7646149132007285, 0.7646149132007285, 0.7646149132007285, 0.7646149132007285, 0.7646149132007285, 0.7681220889856682, 0.7704535587770278]}], \"AUC_macro\": [{\"categories\": [\"0\", \"1\", \"2\", \"3\", \"4\", \"5\", \"6\", \"7\", \"8\", \"9\", \"10\", \"11\", \"12\", \"13\", \"14\", \"15\", \"16\", \"17\", \"18\", \"19\", \"20\", \"21\", \"22\", \"23\", \"24\", \"25\", \"26\", \"27\", \"28\", \"29\", \"30\", \"31\", \"32\", \"33\", \"36\", \"37\"], \"mode\": \"markers\", \"name\": \"AUC_macro\", \"stepped\": false, \"type\": \"scatter\", \"data\": [0.8423153945007626, 0.8012338668748498, 0.746302434073924, 0.7642436310789791, 0.7868957122974177, 0.7181527128676729, 0.7636964141350872, 0.7299923679923688, 0.7782627357348862, 0.7697246564163146, 0.7344165582269129, 0.7372889638730274, 0.7497813011773325, 0.7729623939858192, 0.7291100155924779, 0.7652079345326024, 0.7764745818992116, 0.8608104968328067, 0.8225708341218464, 0.73961435662872, 0.7656858174344279, 0.7328512227549806, 0.7750202451763476, 0.7877752046565141, 0.8262502410035024, 0.6101992834534399, 0.767057398027992, 0.7550030173031492, 0.7649747109983327, 0.7548469247432726, 0.7128620443684452, 0.7661518861286954, 0.7482152556990656, 0.7508216164497419, 0.8737679138991348, 0.8872083133194237]}, {\"categories\": [\"0\", \"1\", \"2\", \"3\", \"4\", \"5\", \"6\", \"7\", \"8\", \"9\", \"10\", \"11\", \"12\", \"13\", \"14\", \"15\", \"16\", \"17\", \"18\", \"19\", \"20\", \"21\", \"22\", \"23\", \"24\", \"25\", \"26\", \"27\", \"28\", \"29\", \"30\", \"31\", \"32\", \"33\", \"36\", \"37\"], \"mode\": \"lines\", \"name\": \"AUC_macro_max\", \"stepped\": true, \"type\": \"scatter\", \"data\": [0.8423153945007626, 0.8423153945007626, 0.8423153945007626, 0.8423153945007626, 0.8423153945007626, 0.8423153945007626, 0.8423153945007626, 0.8423153945007626, 0.8423153945007626, 0.8423153945007626, 0.8423153945007626, 0.8423153945007626, 0.8423153945007626, 0.8423153945007626, 0.8423153945007626, 0.8423153945007626, 0.8423153945007626, 0.8608104968328067, 0.8608104968328067, 0.8608104968328067, 0.8608104968328067, 0.8608104968328067, 0.8608104968328067, 0.8608104968328067, 0.8608104968328067, 0.8608104968328067, 0.8608104968328067, 0.8608104968328067, 0.8608104968328067, 0.8608104968328067, 0.8608104968328067, 0.8608104968328067, 0.8608104968328067, 0.8608104968328067, 0.8737679138991348, 0.8872083133194237]}], \"f1_score_micro\": [{\"categories\": [\"0\", \"1\", \"2\", \"3\", \"4\", \"5\", \"6\", \"7\", \"8\", \"9\", \"10\", \"11\", \"12\", \"13\", \"14\", \"15\", \"16\", \"17\", \"18\", \"19\", \"20\", \"21\", \"22\", \"23\", \"24\", \"25\", \"26\", \"27\", \"28\", \"29\", \"30\", \"31\", \"32\", \"33\", \"36\", \"37\"], \"mode\": \"markers\", \"name\": \"f1_score_micro\", \"stepped\": false, \"type\": \"scatter\", \"data\": [0.6478377450109553, 0.58011535500681, 0.5250111920412153, 0.5597993722982176, 0.548871202700302, 0.5758061230532363, 0.37617362468170784, 0.5348625569965062, 0.543943151536685, 0.6406018831053474, 0.29690483804109674, 0.6073602179191094, 0.5439452833540593, 0.3730897139811689, 0.5219327293184106, 0.33815337241665183, 0.6025876709895185, 0.6860088825723929, 0.6142853082252622, 0.31290815420145673, 0.3600092378752887, 0.5962759519156748, 0.540558417717771, 0.598583999526263, 0.6152067270681589, 0.43066228459761946, 0.5951960679812874, 0.5964293243323266, 0.5417889500799431, 0.5394803102978623, 0.4365084384437733, 0.5424049268668206, 0.6068965476401966, 0.5873470717119678, 0.6886246224906734, 0.6873939716942027]}, {\"categories\": [\"0\", \"1\", \"2\", \"3\", \"4\", \"5\", \"6\", \"7\", \"8\", \"9\", \"10\", \"11\", \"12\", \"13\", \"14\", \"15\", \"16\", \"17\", \"18\", \"19\", \"20\", \"21\", \"22\", \"23\", \"24\", \"25\", \"26\", \"27\", \"28\", \"29\", \"30\", \"31\", \"32\", \"33\", \"36\", \"37\"], \"mode\": \"lines\", \"name\": \"f1_score_micro_max\", \"stepped\": true, \"type\": \"scatter\", \"data\": [0.6478377450109553, 0.6478377450109553, 0.6478377450109553, 0.6478377450109553, 0.6478377450109553, 0.6478377450109553, 0.6478377450109553, 0.6478377450109553, 0.6478377450109553, 0.6478377450109553, 0.6478377450109553, 0.6478377450109553, 0.6478377450109553, 0.6478377450109553, 0.6478377450109553, 0.6478377450109553, 0.6478377450109553, 0.6860088825723929, 0.6860088825723929, 0.6860088825723929, 0.6860088825723929, 0.6860088825723929, 0.6860088825723929, 0.6860088825723929, 0.6860088825723929, 0.6860088825723929, 0.6860088825723929, 0.6860088825723929, 0.6860088825723929, 0.6860088825723929, 0.6860088825723929, 0.6860088825723929, 0.6860088825723929, 0.6860088825723929, 0.6886246224906734, 0.6886246224906734]}], \"accuracy\": [{\"categories\": [\"0\", \"1\", \"2\", \"3\", \"4\", \"5\", \"6\", \"7\", \"8\", \"9\", \"10\", \"11\", \"12\", \"13\", \"14\", \"15\", \"16\", \"17\", \"18\", \"19\", \"20\", \"21\", \"22\", \"23\", \"24\", \"25\", \"26\", \"27\", \"28\", \"29\", \"30\", \"31\", \"32\", \"33\", \"36\", \"37\"], \"mode\": \"markers\", \"name\": \"accuracy\", \"stepped\": false, \"type\": \"scatter\", \"data\": [0.6478377450109553, 0.58011535500681, 0.5250111920412153, 0.5597993722982176, 0.548871202700302, 0.5758061230532363, 0.37617362468170784, 0.5348625569965062, 0.543943151536685, 0.6406018831053474, 0.29690483804109674, 0.6073602179191094, 0.5439452833540593, 0.37308971398116897, 0.5219327293184106, 0.33815337241665183, 0.6025876709895185, 0.6860088825723929, 0.6142853082252622, 0.31290815420145673, 0.3600092378752887, 0.5962759519156748, 0.540558417717771, 0.598583999526263, 0.6152067270681589, 0.43066228459761946, 0.5951960679812874, 0.5964293243323266, 0.5417889500799431, 0.5394803102978623, 0.4365084384437733, 0.5424049268668206, 0.6068965476401966, 0.5873470717119678, 0.6886246224906734, 0.6873939716942027]}, {\"categories\": [\"0\", \"1\", \"2\", \"3\", \"4\", \"5\", \"6\", \"7\", \"8\", \"9\", \"10\", \"11\", \"12\", \"13\", \"14\", \"15\", \"16\", \"17\", \"18\", \"19\", \"20\", \"21\", \"22\", \"23\", \"24\", \"25\", \"26\", \"27\", \"28\", \"29\", \"30\", \"31\", \"32\", \"33\", \"36\", \"37\"], \"mode\": \"lines\", \"name\": \"accuracy_max\", \"stepped\": true, \"type\": \"scatter\", \"data\": [0.6478377450109553, 0.6478377450109553, 0.6478377450109553, 0.6478377450109553, 0.6478377450109553, 0.6478377450109553, 0.6478377450109553, 0.6478377450109553, 0.6478377450109553, 0.6478377450109553, 0.6478377450109553, 0.6478377450109553, 0.6478377450109553, 0.6478377450109553, 0.6478377450109553, 0.6478377450109553, 0.6478377450109553, 0.6860088825723929, 0.6860088825723929, 0.6860088825723929, 0.6860088825723929, 0.6860088825723929, 0.6860088825723929, 0.6860088825723929, 0.6860088825723929, 0.6860088825723929, 0.6860088825723929, 0.6860088825723929, 0.6860088825723929, 0.6860088825723929, 0.6860088825723929, 0.6860088825723929, 0.6860088825723929, 0.6860088825723929, 0.6886246224906734, 0.6886246224906734]}], \"recall_score_weighted\": [{\"categories\": [\"0\", \"1\", \"2\", \"3\", \"4\", \"5\", \"6\", \"7\", \"8\", \"9\", \"10\", \"11\", \"12\", \"13\", \"14\", \"15\", \"16\", \"17\", \"18\", \"19\", \"20\", \"21\", \"22\", \"23\", \"24\", \"25\", \"26\", \"27\", \"28\", \"29\", \"30\", \"31\", \"32\", \"33\", \"36\", \"37\"], \"mode\": \"markers\", \"name\": \"recall_score_weighted\", \"stepped\": false, \"type\": \"scatter\", \"data\": [0.6478377450109553, 0.58011535500681, 0.5250111920412153, 0.5597993722982176, 0.548871202700302, 0.5758061230532363, 0.37617362468170784, 0.5348625569965062, 0.543943151536685, 0.6406018831053474, 0.29690483804109674, 0.6073602179191094, 0.5439452833540593, 0.37308971398116897, 0.5219327293184106, 0.33815337241665183, 0.6025876709895185, 0.6860088825723929, 0.6142853082252622, 0.31290815420145673, 0.3600092378752887, 0.5962759519156748, 0.540558417717771, 0.598583999526263, 0.6152067270681589, 0.43066228459761946, 0.5951960679812874, 0.5964293243323266, 0.5417889500799431, 0.5394803102978623, 0.4365084384437733, 0.5424049268668206, 0.6068965476401966, 0.5873470717119678, 0.6886246224906734, 0.6873939716942027]}, {\"categories\": [\"0\", \"1\", \"2\", \"3\", \"4\", \"5\", \"6\", \"7\", \"8\", \"9\", \"10\", \"11\", \"12\", \"13\", \"14\", \"15\", \"16\", \"17\", \"18\", \"19\", \"20\", \"21\", \"22\", \"23\", \"24\", \"25\", \"26\", \"27\", \"28\", \"29\", \"30\", \"31\", \"32\", \"33\", \"36\", \"37\"], \"mode\": \"lines\", \"name\": \"recall_score_weighted_max\", \"stepped\": true, \"type\": \"scatter\", \"data\": [0.6478377450109553, 0.6478377450109553, 0.6478377450109553, 0.6478377450109553, 0.6478377450109553, 0.6478377450109553, 0.6478377450109553, 0.6478377450109553, 0.6478377450109553, 0.6478377450109553, 0.6478377450109553, 0.6478377450109553, 0.6478377450109553, 0.6478377450109553, 0.6478377450109553, 0.6478377450109553, 0.6478377450109553, 0.6860088825723929, 0.6860088825723929, 0.6860088825723929, 0.6860088825723929, 0.6860088825723929, 0.6860088825723929, 0.6860088825723929, 0.6860088825723929, 0.6860088825723929, 0.6860088825723929, 0.6860088825723929, 0.6860088825723929, 0.6860088825723929, 0.6860088825723929, 0.6860088825723929, 0.6860088825723929, 0.6860088825723929, 0.6886246224906734, 0.6886246224906734]}], \"average_precision_score_macro\": [{\"categories\": [\"0\", \"1\", \"2\", \"3\", \"4\", \"5\", \"6\", \"7\", \"8\", \"9\", \"10\", \"11\", \"12\", \"13\", \"14\", \"15\", \"16\", \"17\", \"18\", \"19\", \"20\", \"21\", \"22\", \"23\", \"24\", \"25\", \"26\", \"27\", \"28\", \"29\", \"30\", \"31\", \"32\", \"33\", \"36\", \"37\"], \"mode\": \"markers\", \"name\": \"average_precision_score_macro\", \"stepped\": false, \"type\": \"scatter\", \"data\": [0.4335575837619226, 0.3648016160216348, 0.2774012669004126, 0.29813826541869626, 0.3322985055177921, 0.34368903840571136, 0.2986337255040041, 0.2690558506863212, 0.31974943938468425, 0.4100180179807392, 0.24786028782089398, 0.36830137906418237, 0.28370177842661637, 0.29449575218367147, 0.2754915562137906, 0.2942702330048038, 0.38093687547418487, 0.4816653463501753, 0.38388103294761133, 0.2660958222327654, 0.2919722672671307, 0.3635613406266563, 0.31077884014695234, 0.37525021345856924, 0.3993034125839502, 0.16316559343733497, 0.34422271691115597, 0.3495306535859627, 0.3008872991980448, 0.3024655857740825, 0.26460000907970993, 0.2927662700656309, 0.3616532764158975, 0.34555188767461165, 0.49342430774195706, 0.49946344613183546]}, {\"categories\": [\"0\", \"1\", \"2\", \"3\", \"4\", \"5\", \"6\", \"7\", \"8\", \"9\", \"10\", \"11\", \"12\", \"13\", \"14\", \"15\", \"16\", \"17\", \"18\", \"19\", \"20\", \"21\", \"22\", \"23\", \"24\", \"25\", \"26\", \"27\", \"28\", \"29\", \"30\", \"31\", \"32\", \"33\", \"36\", \"37\"], \"mode\": \"lines\", \"name\": \"average_precision_score_macro_max\", \"stepped\": true, \"type\": \"scatter\", \"data\": [0.4335575837619226, 0.4335575837619226, 0.4335575837619226, 0.4335575837619226, 0.4335575837619226, 0.4335575837619226, 0.4335575837619226, 0.4335575837619226, 0.4335575837619226, 0.4335575837619226, 0.4335575837619226, 0.4335575837619226, 0.4335575837619226, 0.4335575837619226, 0.4335575837619226, 0.4335575837619226, 0.4335575837619226, 0.4816653463501753, 0.4816653463501753, 0.4816653463501753, 0.4816653463501753, 0.4816653463501753, 0.4816653463501753, 0.4816653463501753, 0.4816653463501753, 0.4816653463501753, 0.4816653463501753, 0.4816653463501753, 0.4816653463501753, 0.4816653463501753, 0.4816653463501753, 0.4816653463501753, 0.4816653463501753, 0.4816653463501753, 0.49342430774195706, 0.49946344613183546]}], \"f1_score_weighted\": [{\"categories\": [\"0\", \"1\", \"2\", \"3\", \"4\", \"5\", \"6\", \"7\", \"8\", \"9\", \"10\", \"11\", \"12\", \"13\", \"14\", \"15\", \"16\", \"17\", \"18\", \"19\", \"20\", \"21\", \"22\", \"23\", \"24\", \"25\", \"26\", \"27\", \"28\", \"29\", \"30\", \"31\", \"32\", \"33\", \"36\", \"37\"], \"mode\": \"markers\", \"name\": \"f1_score_weighted\", \"stepped\": false, \"type\": \"scatter\", \"data\": [0.6361858255832634, 0.5528579948507766, 0.45517045307116505, 0.5214057565101615, 0.49519882806583315, 0.5435916013446389, 0.3907331510459158, 0.4851497399716818, 0.5138692941649621, 0.6199520375153365, 0.31107035796117455, 0.5812155162390571, 0.49575895239971485, 0.3931146511089677, 0.45474111507644677, 0.34891427924670176, 0.5776180131807782, 0.6729267296033057, 0.5778370899839518, 0.3553481794723399, 0.38038458157330857, 0.5723909036748326, 0.4910820074982162, 0.5747032843004948, 0.5959169778757843, 0.27896305617915484, 0.5727507244736908, 0.5755306954154986, 0.49276840043369197, 0.489797796352679, 0.2655498828957691, 0.5081374217521311, 0.586373952879172, 0.5684240813408786, 0.6752495929973235, 0.6767611559375081]}, {\"categories\": [\"0\", \"1\", \"2\", \"3\", \"4\", \"5\", \"6\", \"7\", \"8\", \"9\", \"10\", \"11\", \"12\", \"13\", \"14\", \"15\", \"16\", \"17\", \"18\", \"19\", \"20\", \"21\", \"22\", \"23\", \"24\", \"25\", \"26\", \"27\", \"28\", \"29\", \"30\", \"31\", \"32\", \"33\", \"36\", \"37\"], \"mode\": \"lines\", \"name\": \"f1_score_weighted_max\", \"stepped\": true, \"type\": \"scatter\", \"data\": [0.6361858255832634, 0.6361858255832634, 0.6361858255832634, 0.6361858255832634, 0.6361858255832634, 0.6361858255832634, 0.6361858255832634, 0.6361858255832634, 0.6361858255832634, 0.6361858255832634, 0.6361858255832634, 0.6361858255832634, 0.6361858255832634, 0.6361858255832634, 0.6361858255832634, 0.6361858255832634, 0.6361858255832634, 0.6729267296033057, 0.6729267296033057, 0.6729267296033057, 0.6729267296033057, 0.6729267296033057, 0.6729267296033057, 0.6729267296033057, 0.6729267296033057, 0.6729267296033057, 0.6729267296033057, 0.6729267296033057, 0.6729267296033057, 0.6729267296033057, 0.6729267296033057, 0.6729267296033057, 0.6729267296033057, 0.6729267296033057, 0.6752495929973235, 0.6767611559375081]}], \"recall_score_macro\": [{\"categories\": [\"0\", \"1\", \"2\", \"3\", \"4\", \"5\", \"6\", \"7\", \"8\", \"9\", \"10\", \"11\", \"12\", \"13\", \"14\", \"15\", \"16\", \"17\", \"18\", \"19\", \"20\", \"21\", \"22\", \"23\", \"24\", \"25\", \"26\", \"27\", \"28\", \"29\", \"30\", \"31\", \"32\", \"33\", \"36\", \"37\"], \"mode\": \"markers\", \"name\": \"recall_score_macro\", \"stepped\": false, \"type\": \"scatter\", \"data\": [0.3444079057380166, 0.2540046623048674, 0.1986367904745116, 0.23008021579436147, 0.2147742238603616, 0.256749595366702, 0.3595469918985007, 0.21136347781879436, 0.2503295395186153, 0.3099024130730608, 0.3390172709887177, 0.27406182794175715, 0.21601386799909847, 0.40842264647068827, 0.1970890164492649, 0.38317795522984094, 0.2797957265290959, 0.3748653590932075, 0.26006430137975445, 0.3378290006161473, 0.38878355258222597, 0.2728989524523673, 0.21908881390037765, 0.27535132795700934, 0.29476035290244884, 0.14850376037441596, 0.274806573518824, 0.28013868638620265, 0.21656332390787866, 0.21849362075666887, 0.1476190476190476, 0.22976971417030834, 0.2856354395198, 0.2790564697474042, 0.3747039065803996, 0.38586868821791426]}, {\"categories\": [\"0\", \"1\", \"2\", \"3\", \"4\", \"5\", \"6\", \"7\", \"8\", \"9\", \"10\", \"11\", \"12\", \"13\", \"14\", \"15\", \"16\", \"17\", \"18\", \"19\", \"20\", \"21\", \"22\", \"23\", \"24\", \"25\", \"26\", \"27\", \"28\", \"29\", \"30\", \"31\", \"32\", \"33\", \"36\", \"37\"], \"mode\": \"lines\", \"name\": \"recall_score_macro_max\", \"stepped\": true, \"type\": \"scatter\", \"data\": [0.3444079057380166, 0.3444079057380166, 0.3444079057380166, 0.3444079057380166, 0.3444079057380166, 0.3444079057380166, 0.3595469918985007, 0.3595469918985007, 0.3595469918985007, 0.3595469918985007, 0.3595469918985007, 0.3595469918985007, 0.3595469918985007, 0.40842264647068827, 0.40842264647068827, 0.40842264647068827, 0.40842264647068827, 0.40842264647068827, 0.40842264647068827, 0.40842264647068827, 0.40842264647068827, 0.40842264647068827, 0.40842264647068827, 0.40842264647068827, 0.40842264647068827, 0.40842264647068827, 0.40842264647068827, 0.40842264647068827, 0.40842264647068827, 0.40842264647068827, 0.40842264647068827, 0.40842264647068827, 0.40842264647068827, 0.40842264647068827, 0.40842264647068827, 0.40842264647068827]}], \"average_precision_score_micro\": [{\"categories\": [\"0\", \"1\", \"2\", \"3\", \"4\", \"5\", \"6\", \"7\", \"8\", \"9\", \"10\", \"11\", \"12\", \"13\", \"14\", \"15\", \"16\", \"17\", \"18\", \"19\", \"20\", \"21\", \"22\", \"23\", \"24\", \"25\", \"26\", \"27\", \"28\", \"29\", \"30\", \"31\", \"32\", \"33\", \"36\", \"37\"], \"mode\": \"markers\", \"name\": \"average_precision_score_micro\", \"stepped\": false, \"type\": \"scatter\", \"data\": [0.6797662079052917, 0.5994413191132338, 0.5306000323167371, 0.5716099882268035, 0.5612511060419004, 0.5928802487677591, 0.3721646278176043, 0.5457057187464172, 0.545563586648634, 0.6788526253777798, 0.24969375385972659, 0.6395405818901786, 0.5534694905778887, 0.37784219689976, 0.5257754066916596, 0.31974386561929713, 0.6275364684105059, 0.7759416975354213, 0.6537252792437428, 0.2901710927973472, 0.35224330184603003, 0.6171873468400595, 0.5430908188657317, 0.6253556145188137, 0.6484321533184427, 0.39696750734696096, 0.6164429964692438, 0.6148590772093472, 0.5433474071518888, 0.5423706638514386, 0.44483748400083317, 0.5436848500633339, 0.635113496465106, 0.6079453280605194, 0.777263310803967, 0.7824021087863585]}, {\"categories\": [\"0\", \"1\", \"2\", \"3\", \"4\", \"5\", \"6\", \"7\", \"8\", \"9\", \"10\", \"11\", \"12\", \"13\", \"14\", \"15\", \"16\", \"17\", \"18\", \"19\", \"20\", \"21\", \"22\", \"23\", \"24\", \"25\", \"26\", \"27\", \"28\", \"29\", \"30\", \"31\", \"32\", \"33\", \"36\", \"37\"], \"mode\": \"lines\", \"name\": \"average_precision_score_micro_max\", \"stepped\": true, \"type\": \"scatter\", \"data\": [0.6797662079052917, 0.6797662079052917, 0.6797662079052917, 0.6797662079052917, 0.6797662079052917, 0.6797662079052917, 0.6797662079052917, 0.6797662079052917, 0.6797662079052917, 0.6797662079052917, 0.6797662079052917, 0.6797662079052917, 0.6797662079052917, 0.6797662079052917, 0.6797662079052917, 0.6797662079052917, 0.6797662079052917, 0.7759416975354213, 0.7759416975354213, 0.7759416975354213, 0.7759416975354213, 0.7759416975354213, 0.7759416975354213, 0.7759416975354213, 0.7759416975354213, 0.7759416975354213, 0.7759416975354213, 0.7759416975354213, 0.7759416975354213, 0.7759416975354213, 0.7759416975354213, 0.7759416975354213, 0.7759416975354213, 0.7759416975354213, 0.777263310803967, 0.7824021087863585]}], \"f1_score_macro\": [{\"categories\": [\"0\", \"1\", \"2\", \"3\", \"4\", \"5\", \"6\", \"7\", \"8\", \"9\", \"10\", \"11\", \"12\", \"13\", \"14\", \"15\", \"16\", \"17\", \"18\", \"19\", \"20\", \"21\", \"22\", \"23\", \"24\", \"25\", \"26\", \"27\", \"28\", \"29\", \"30\", \"31\", \"32\", \"33\", \"36\", \"37\"], \"mode\": \"markers\", \"name\": \"f1_score_macro\", \"stepped\": false, \"type\": \"scatter\", \"data\": [0.3737639088760737, 0.2658232249015363, 0.17544570065021883, 0.22628064188745908, 0.20298405023755345, 0.2689219972342267, 0.24506035121972097, 0.20017334548719315, 0.26324466690097537, 0.3321129489014451, 0.17769210435639388, 0.28633679345851687, 0.2063631306543289, 0.24284686534921884, 0.17760043359053934, 0.2172755773307841, 0.29631225744802314, 0.41083652757166816, 0.2644233657293049, 0.20380557734920987, 0.2309019317098338, 0.2850571618374365, 0.2120133784629584, 0.28842635460375243, 0.31230718326815726, 0.0968157545139003, 0.2877828465775445, 0.29567257505920225, 0.2073473237796164, 0.21121808549285087, 0.08960668816119935, 0.23066156692578313, 0.2995480735406878, 0.2937294266122905, 0.4114383675233806, 0.4191881643464785]}, {\"categories\": [\"0\", \"1\", \"2\", \"3\", \"4\", \"5\", \"6\", \"7\", \"8\", \"9\", \"10\", \"11\", \"12\", \"13\", \"14\", \"15\", \"16\", \"17\", \"18\", \"19\", \"20\", \"21\", \"22\", \"23\", \"24\", \"25\", \"26\", \"27\", \"28\", \"29\", \"30\", \"31\", \"32\", \"33\", \"36\", \"37\"], \"mode\": \"lines\", \"name\": \"f1_score_macro_max\", \"stepped\": true, \"type\": \"scatter\", \"data\": [0.3737639088760737, 0.3737639088760737, 0.3737639088760737, 0.3737639088760737, 0.3737639088760737, 0.3737639088760737, 0.3737639088760737, 0.3737639088760737, 0.3737639088760737, 0.3737639088760737, 0.3737639088760737, 0.3737639088760737, 0.3737639088760737, 0.3737639088760737, 0.3737639088760737, 0.3737639088760737, 0.3737639088760737, 0.41083652757166816, 0.41083652757166816, 0.41083652757166816, 0.41083652757166816, 0.41083652757166816, 0.41083652757166816, 0.41083652757166816, 0.41083652757166816, 0.41083652757166816, 0.41083652757166816, 0.41083652757166816, 0.41083652757166816, 0.41083652757166816, 0.41083652757166816, 0.41083652757166816, 0.41083652757166816, 0.41083652757166816, 0.4114383675233806, 0.4191881643464785]}], \"matthews_correlation\": [{\"categories\": [\"0\", \"1\", \"2\", \"3\", \"4\", \"5\", \"6\", \"7\", \"8\", \"9\", \"10\", \"11\", \"12\", \"13\", \"14\", \"15\", \"16\", \"17\", \"18\", \"19\", \"20\", \"21\", \"22\", \"23\", \"24\", \"25\", \"26\", \"27\", \"28\", \"29\", \"30\", \"31\", \"32\", \"33\", \"36\", \"37\"], \"mode\": \"markers\", \"name\": \"matthews_correlation\", \"stepped\": false, \"type\": \"scatter\", \"data\": [0.4553735235900521, 0.3365243927068688, 0.22876553458471366, 0.2972572715226729, 0.27435285213264693, 0.3268714446207107, 0.22230592923649578, 0.24988360135019366, 0.2748978149154608, 0.4381484963253248, 0.1423844185589784, 0.3815344737532965, 0.26629740792525447, 0.22146833556530843, 0.2240046412039834, 0.18831012926038984, 0.37424309869257505, 0.5142256739583846, 0.3912737866215241, 0.16033442966540443, 0.20530030183175088, 0.3651097045266466, 0.2605900365839654, 0.36889746920137956, 0.3988094140654642, 0.0027025446657163816, 0.36422862343660445, 0.36689416717360573, 0.2626261510275089, 0.2586757586076021, 0.0, 0.2701590904952861, 0.38496660141250266, 0.35494671171725894, 0.5181513270030166, 0.5186633755312421]}, {\"categories\": [\"0\", \"1\", \"2\", \"3\", \"4\", \"5\", \"6\", \"7\", \"8\", \"9\", \"10\", \"11\", \"12\", \"13\", \"14\", \"15\", \"16\", \"17\", \"18\", \"19\", \"20\", \"21\", \"22\", \"23\", \"24\", \"25\", \"26\", \"27\", \"28\", \"29\", \"30\", \"31\", \"32\", \"33\", \"36\", \"37\"], \"mode\": \"lines\", \"name\": \"matthews_correlation_max\", \"stepped\": true, \"type\": \"scatter\", \"data\": [0.4553735235900521, 0.4553735235900521, 0.4553735235900521, 0.4553735235900521, 0.4553735235900521, 0.4553735235900521, 0.4553735235900521, 0.4553735235900521, 0.4553735235900521, 0.4553735235900521, 0.4553735235900521, 0.4553735235900521, 0.4553735235900521, 0.4553735235900521, 0.4553735235900521, 0.4553735235900521, 0.4553735235900521, 0.5142256739583846, 0.5142256739583846, 0.5142256739583846, 0.5142256739583846, 0.5142256739583846, 0.5142256739583846, 0.5142256739583846, 0.5142256739583846, 0.5142256739583846, 0.5142256739583846, 0.5142256739583846, 0.5142256739583846, 0.5142256739583846, 0.5142256739583846, 0.5142256739583846, 0.5142256739583846, 0.5142256739583846, 0.5181513270030166, 0.5186633755312421]}]}, \"metricName\": null, \"primaryMetricName\": \"AUC_weighted\", \"showLegend\": false}, \"run_metrics\": [{\"name\": \"experiment_status\", \"run_id\": \"AutoML_0a6eb683-1673-4525-8426-78fd5496832c\", \"categories\": [0, 1, 2, 3, 4, 5, 6, 7, 8, 9, 10, 11, 12], \"series\": [{\"data\": [\"DatasetEvaluation\", \"FeaturesGeneration\", \"DatasetFeaturization\", \"DatasetFeaturizationCompleted\", \"DatasetBalancing\", \"DatasetCrossValidationSplit\", \"ModelSelection\", \"BestRunExplainModel\", \"ModelExplanationDataSetSetup\", \"PickSurrogateModel\", \"EngineeredFeatureExplanations\", \"EngineeredFeatureExplanations\", \"RawFeaturesExplanations\"]}]}, {\"name\": \"experiment_status_description\", \"run_id\": \"AutoML_0a6eb683-1673-4525-8426-78fd5496832c\", \"categories\": [0, 1, 2, 3, 4, 5, 6, 7, 8, 9, 10, 11, 12], \"series\": [{\"data\": [\"Gathering dataset statistics.\", \"Generating features for the dataset.\", \"Beginning to fit featurizers and featurize the dataset.\", \"Completed fit featurizers and featurizing the dataset.\", \"Performing class balancing sweeping\", \"Generating individually featurized CV splits.\", \"Beginning model selection.\", \"Best run model explanations started\", \"Model explanations data setup completed\", \"Choosing LightGBM as the surrogate model for explanations\", \"Computation of engineered features started\", \"Computation of engineered features completed\", \"Computation of raw features started\"]}]}, {\"name\": \"precision_score_weighted\", \"run_id\": \"AutoML_0a6eb683-1673-4525-8426-78fd5496832c\", \"categories\": [0], \"series\": [{\"data\": [0.6881850358316163]}]}, {\"name\": \"average_precision_score_micro\", \"run_id\": \"AutoML_0a6eb683-1673-4525-8426-78fd5496832c\", \"categories\": [0], \"series\": [{\"data\": [0.7824021087863585]}]}, {\"name\": \"AUC_weighted\", \"run_id\": \"AutoML_0a6eb683-1673-4525-8426-78fd5496832c\", \"categories\": [0], \"series\": [{\"data\": [0.8674062196140027]}]}, {\"name\": \"f1_score_macro\", \"run_id\": \"AutoML_0a6eb683-1673-4525-8426-78fd5496832c\", \"categories\": [0], \"series\": [{\"data\": [0.4191881643464785]}]}, {\"name\": \"average_precision_score_macro\", \"run_id\": \"AutoML_0a6eb683-1673-4525-8426-78fd5496832c\", \"categories\": [0], \"series\": [{\"data\": [0.49946344613183546]}]}, {\"name\": \"balanced_accuracy\", \"run_id\": \"AutoML_0a6eb683-1673-4525-8426-78fd5496832c\", \"categories\": [0], \"series\": [{\"data\": [0.38586868821791426]}]}, {\"name\": \"recall_score_weighted\", \"run_id\": \"AutoML_0a6eb683-1673-4525-8426-78fd5496832c\", \"categories\": [0], \"series\": [{\"data\": [0.6873939716942027]}]}, {\"name\": \"precision_score_micro\", \"run_id\": \"AutoML_0a6eb683-1673-4525-8426-78fd5496832c\", \"categories\": [0], \"series\": [{\"data\": [0.6873939716942027]}]}, {\"name\": \"precision_score_macro\", \"run_id\": \"AutoML_0a6eb683-1673-4525-8426-78fd5496832c\", \"categories\": [0], \"series\": [{\"data\": [0.5303961068108896]}]}, {\"name\": \"log_loss\", \"run_id\": \"AutoML_0a6eb683-1673-4525-8426-78fd5496832c\", \"categories\": [0], \"series\": [{\"data\": [0.7859143219293641]}]}, {\"name\": \"norm_macro_recall\", \"run_id\": \"AutoML_0a6eb683-1673-4525-8426-78fd5496832c\", \"categories\": [0], \"series\": [{\"data\": [0.2796068737597044]}]}, {\"name\": \"AUC_micro\", \"run_id\": \"AutoML_0a6eb683-1673-4525-8426-78fd5496832c\", \"categories\": [0], \"series\": [{\"data\": [0.9484861224333386]}]}, {\"name\": \"accuracy\", \"run_id\": \"AutoML_0a6eb683-1673-4525-8426-78fd5496832c\", \"categories\": [0], \"series\": [{\"data\": [0.6873939716942027]}]}, {\"name\": \"f1_score_micro\", \"run_id\": \"AutoML_0a6eb683-1673-4525-8426-78fd5496832c\", \"categories\": [0], \"series\": [{\"data\": [0.6873939716942027]}]}, {\"name\": \"recall_score_micro\", \"run_id\": \"AutoML_0a6eb683-1673-4525-8426-78fd5496832c\", \"categories\": [0], \"series\": [{\"data\": [0.6873939716942027]}]}, {\"name\": \"matthews_correlation\", \"run_id\": \"AutoML_0a6eb683-1673-4525-8426-78fd5496832c\", \"categories\": [0], \"series\": [{\"data\": [0.5186633755312421]}]}, {\"name\": \"average_precision_score_weighted\", \"run_id\": \"AutoML_0a6eb683-1673-4525-8426-78fd5496832c\", \"categories\": [0], \"series\": [{\"data\": [0.7704535587770278]}]}, {\"name\": \"f1_score_weighted\", \"run_id\": \"AutoML_0a6eb683-1673-4525-8426-78fd5496832c\", \"categories\": [0], \"series\": [{\"data\": [0.6767611559375081]}]}, {\"name\": \"weighted_accuracy\", \"run_id\": \"AutoML_0a6eb683-1673-4525-8426-78fd5496832c\", \"categories\": [0], \"series\": [{\"data\": [0.7375732398406555]}]}, {\"name\": \"AUC_macro\", \"run_id\": \"AutoML_0a6eb683-1673-4525-8426-78fd5496832c\", \"categories\": [0], \"series\": [{\"data\": [0.8872083133194237]}]}, {\"name\": \"recall_score_macro\", \"run_id\": \"AutoML_0a6eb683-1673-4525-8426-78fd5496832c\", \"categories\": [0], \"series\": [{\"data\": [0.38586868821791426]}]}], \"run_logs\": \"\\nRun is completed.\", \"graph\": {}, \"widget_settings\": {\"childWidgetDisplay\": \"popup\", \"send_telemetry\": false, \"log_level\": \"INFO\", \"sdk_version\": \"1.34.0\"}, \"loading\": false}"
          },
          "metadata": {}
        },
        {
          "output_type": "execute_result",
          "execution_count": 17,
          "data": {
            "text/plain": "{'runId': 'AutoML_0a6eb683-1673-4525-8426-78fd5496832c',\n 'target': 'auto-ml',\n 'status': 'Completed',\n 'startTimeUtc': '2021-11-06T10:30:27.494517Z',\n 'endTimeUtc': '2021-11-06T10:55:40.510664Z',\n 'services': {},\n 'warnings': [{'source': 'JasmineService',\n   'message': 'No scores improved over last 20 iterations, so experiment stopped early. This early stopping behavior can be disabled by setting enable_early_stopping = False in AutoMLConfig for notebook/python SDK runs.'}],\n 'properties': {'num_iterations': '1000',\n  'training_type': 'TrainFull',\n  'acquisition_function': 'EI',\n  'primary_metric': 'AUC_weighted',\n  'train_split': '0',\n  'acquisition_parameter': '0',\n  'num_cross_validation': '5',\n  'target': 'auto-ml',\n  'AMLSettingsJsonString': '{\"path\":null,\"name\":\"Capstone_project\",\"subscription_id\":\"610d6e37-4747-4a20-80eb-3aad70a55f43\",\"resource_group\":\"aml-quickstarts-162865\",\"workspace_name\":\"quick-starts-ws-162865\",\"region\":\"southcentralus\",\"compute_target\":\"auto-ml\",\"spark_service\":null,\"azure_service\":\"remote\",\"many_models\":false,\"pipeline_fetch_max_batch_size\":1,\"enable_batch_run\":false,\"enable_run_restructure\":false,\"start_auxiliary_runs_before_parent_complete\":false,\"enable_code_generation\":false,\"iterations\":1000,\"primary_metric\":\"AUC_weighted\",\"task_type\":\"classification\",\"data_script\":null,\"test_size\":0.0,\"test_include_predictions_only\":false,\"validation_size\":0.0,\"n_cross_validations\":5,\"y_min\":null,\"y_max\":null,\"num_classes\":null,\"featurization\":\"auto\",\"_ignore_package_version_incompatibilities\":false,\"is_timeseries\":false,\"max_cores_per_iteration\":1,\"max_concurrent_iterations\":4,\"iteration_timeout_minutes\":null,\"mem_in_mb\":null,\"enforce_time_on_windows\":false,\"experiment_timeout_minutes\":60,\"experiment_exit_score\":null,\"whitelist_models\":null,\"blacklist_algos\":[\"TensorFlowLinearClassifier\",\"TensorFlowDNN\"],\"supported_models\":[\"SVM\",\"LogisticRegression\",\"SGD\",\"ExtremeRandomTrees\",\"AveragedPerceptronClassifier\",\"TensorFlowDNN\",\"LightGBM\",\"LinearSVM\",\"XGBoostClassifier\",\"KNN\",\"GradientBoosting\",\"MultinomialNaiveBayes\",\"BernoulliNaiveBayes\",\"DecisionTree\",\"TensorFlowLinearClassifier\",\"RandomForest\"],\"private_models\":[],\"auto_blacklist\":true,\"blacklist_samples_reached\":false,\"exclude_nan_labels\":true,\"verbosity\":20,\"_debug_log\":\"azureml_automl.log\",\"show_warnings\":false,\"model_explainability\":true,\"service_url\":null,\"sdk_url\":null,\"sdk_packages\":null,\"enable_onnx_compatible_models\":false,\"enable_split_onnx_featurizer_estimator_models\":false,\"vm_type\":\"STANDARD_DS12_V2\",\"telemetry_verbosity\":20,\"send_telemetry\":true,\"enable_dnn\":false,\"scenario\":\"SDK-1.13.0\",\"environment_label\":null,\"save_mlflow\":false,\"force_text_dnn\":false,\"enable_feature_sweeping\":true,\"enable_early_stopping\":true,\"early_stopping_n_iters\":10,\"metrics\":null,\"enable_metric_confidence\":false,\"enable_ensembling\":true,\"enable_stack_ensembling\":true,\"ensemble_iterations\":15,\"enable_tf\":false,\"enable_subsampling\":null,\"subsample_seed\":null,\"enable_nimbusml\":false,\"enable_streaming\":false,\"force_streaming\":false,\"track_child_runs\":true,\"allowed_private_models\":[],\"label_column_name\":\"quality\",\"weight_column_name\":null,\"cv_split_column_names\":null,\"positive_label\":null,\"enable_local_managed\":false,\"_local_managed_run_id\":null,\"cost_mode\":1,\"lag_length\":0,\"metric_operation\":\"maximize\",\"preprocess\":true}',\n  'DataPrepJsonString': '{\\\\\"training_data\\\\\": {\\\\\"datasetId\\\\\": \\\\\"c7ce4221-2d1e-42d2-bba5-e886dd93410b\\\\\"}, \\\\\"datasets\\\\\": 0}',\n  'EnableSubsampling': None,\n  'runTemplate': 'AutoML',\n  'azureml.runsource': 'automl',\n  'display_task_type': 'classification',\n  'dependencies_versions': '{\"azureml-widgets\": \"1.34.0\", \"azureml-train\": \"1.34.0\", \"azureml-train-restclients-hyperdrive\": \"1.34.0\", \"azureml-train-core\": \"1.34.0\", \"azureml-train-automl\": \"1.34.0\", \"azureml-train-automl-runtime\": \"1.34.0\", \"azureml-train-automl-client\": \"1.34.0\", \"azureml-tensorboard\": \"1.34.0\", \"azureml-telemetry\": \"1.34.0\", \"azureml-sdk\": \"1.34.0\", \"azureml-samples\": \"0+unknown\", \"azureml-responsibleai\": \"1.34.0\", \"azureml-pipeline\": \"1.34.0\", \"azureml-pipeline-steps\": \"1.34.0\", \"azureml-pipeline-core\": \"1.34.0\", \"azureml-opendatasets\": \"1.34.0\", \"azureml-mlflow\": \"1.34.0\", \"azureml-interpret\": \"1.34.0\", \"azureml-inference-server-http\": \"0.3.1\", \"azureml-explain-model\": \"1.34.0\", \"azureml-defaults\": \"1.34.0\", \"azureml-dataset-runtime\": \"1.34.0\", \"azureml-dataprep\": \"2.22.2\", \"azureml-dataprep-rslex\": \"1.20.1\", \"azureml-dataprep-native\": \"38.0.0\", \"azureml-datadrift\": \"1.34.0\", \"azureml-core\": \"1.34.0\", \"azureml-contrib-services\": \"1.34.0\", \"azureml-contrib-server\": \"1.34.0\", \"azureml-contrib-reinforcementlearning\": \"1.34.0\", \"azureml-contrib-pipeline-steps\": \"1.34.0\", \"azureml-contrib-notebook\": \"1.34.0\", \"azureml-contrib-fairness\": \"1.34.0\", \"azureml-contrib-dataset\": \"1.34.0\", \"azureml-contrib-automl-pipeline-steps\": \"1.34.0\", \"azureml-cli-common\": \"1.34.0\", \"azureml-automl-runtime\": \"1.34.0\", \"azureml-automl-dnn-nlp\": \"1.34.0\", \"azureml-automl-core\": \"1.34.0\", \"azureml-accel-models\": \"1.34.0\"}',\n  '_aml_system_scenario_identification': 'Remote.Parent',\n  'ClientType': 'SDK',\n  'environment_cpu_name': 'AzureML-AutoML',\n  'environment_cpu_label': 'prod',\n  'environment_gpu_name': 'AzureML-AutoML-GPU',\n  'environment_gpu_label': 'prod',\n  'root_attribution': 'automl',\n  'attribution': 'AutoML',\n  'Orchestrator': 'AutoML',\n  'CancelUri': 'https://southcentralus.api.azureml.ms/jasmine/v1.0/subscriptions/610d6e37-4747-4a20-80eb-3aad70a55f43/resourceGroups/aml-quickstarts-162865/providers/Microsoft.MachineLearningServices/workspaces/quick-starts-ws-162865/experimentids/a9729a7d-4136-45a4-8c9f-96795da8d60a/cancel/AutoML_0a6eb683-1673-4525-8426-78fd5496832c',\n  'ClientSdkVersion': '1.35.1',\n  'snapshotId': '00000000-0000-0000-0000-000000000000',\n  'SetupRunId': 'AutoML_0a6eb683-1673-4525-8426-78fd5496832c_setup',\n  'SetupRunContainerId': 'dcid.AutoML_0a6eb683-1673-4525-8426-78fd5496832c_setup',\n  'FeaturizationRunJsonPath': 'featurizer_container.json',\n  'FeaturizationRunId': 'AutoML_0a6eb683-1673-4525-8426-78fd5496832c_featurize',\n  'ProblemInfoJsonString': '{\"dataset_num_categorical\": 0, \"is_sparse\": false, \"subsampling\": false, \"has_extra_col\": true, \"dataset_classes\": 7, \"dataset_features\": 12, \"dataset_samples\": 6497, \"single_frequency_class_detected\": false}',\n  'ModelExplainRunId': 'AutoML_0a6eb683-1673-4525-8426-78fd5496832c_ModelExplain'},\n 'inputDatasets': [{'dataset': {'id': 'c7ce4221-2d1e-42d2-bba5-e886dd93410b'}, 'consumptionDetails': {'type': 'RunInput', 'inputName': 'training_data', 'mechanism': 'Direct'}}],\n 'outputDatasets': [],\n 'logFiles': {},\n 'submittedBy': 'ODL_User 162865'}"
          },
          "metadata": {}
        }
      ],
      "execution_count": 17,
      "metadata": {
        "gather": {
          "logged": 1636196394543
        },
        "jupyter": {
          "outputs_hidden": false,
          "source_hidden": false
        },
        "nteract": {
          "transient": {
            "deleting": false
          }
        }
      }
    },
    {
      "cell_type": "markdown",
      "source": [
        "## Best Model\n",
        "\n",
        "TODO: In the cell below, get the best model from the automl experiments and display all the properties of the model.\n",
        "\n"
      ],
      "metadata": {}
    },
    {
      "cell_type": "code",
      "source": [
        "best_automl_run, best_automl_model = remote_run.get_output()\n",
        "print(\"Best model: \", best_automl_model)\n",
        "print(\"Best estimator: \", best_automl_model.steps[-1])"
      ],
      "outputs": [
        {
          "output_type": "stream",
          "name": "stderr",
          "text": "WARNING:root:The version of the SDK does not match the version the model was trained on.\nWARNING:root:The consistency in the result may not be guaranteed.\nWARNING:root:Package:azureml-automl-core, training version:1.35.1, current version:1.34.0\nPackage:azureml-automl-runtime, training version:1.35.1, current version:1.34.0\nPackage:azureml-core, training version:1.35.0.post1, current version:1.34.0\nPackage:azureml-dataprep, training version:2.23.2, current version:2.22.2\nPackage:azureml-dataprep-rslex, training version:1.21.2, current version:1.20.1\nPackage:azureml-dataset-runtime, training version:1.35.0, current version:1.34.0\nPackage:azureml-defaults, training version:1.35.0, current version:1.34.0\nPackage:azureml-interpret, training version:1.35.0, current version:1.34.0\nPackage:azureml-mlflow, training version:1.35.0, current version:1.34.0\nPackage:azureml-pipeline-core, training version:1.35.0, current version:1.34.0\nPackage:azureml-responsibleai, training version:1.35.0, current version:1.34.0\nPackage:azureml-telemetry, training version:1.35.0, current version:1.34.0\nPackage:azureml-train-automl-client, training version:1.35.0, current version:1.34.0\nPackage:azureml-train-automl-runtime, training version:1.35.1, current version:1.34.0\nPackage:azureml-train-core, training version:1.35.0, current version:1.34.0\nPackage:azureml-train-restclients-hyperdrive, training version:1.35.0, current version:1.34.0\nWARNING:root:Please ensure the version of your local conda dependencies match the version on which your model was trained in order to properly retrieve your model.\n"
        },
        {
          "output_type": "stream",
          "name": "stdout",
          "text": "Best model:  Pipeline(memory=None,\n         steps=[('datatransformer',\n                 DataTransformer(enable_dnn=False, enable_feature_sweeping=True, feature_sweeping_config={}, feature_sweeping_timeout=86400, featurization_config=None, force_text_dnn=False, is_cross_validation=True, is_onnx_compatible=False, observer=None, task='classification', working_dir='/mnt/batch/tasks/shared/LS_root/mount...\n)), ('logisticregression', LogisticRegression(C=2222.996482526191, class_weight=None, dual=False, fit_intercept=True, intercept_scaling=1, l1_ratio=None, max_iter=100, multi_class='multinomial', n_jobs=1, penalty='l2', random_state=None, solver='lbfgs', tol=0.0001, verbose=0, warm_start=False))], verbose=False))], meta_learner=LogisticRegression(C=1.0, class_weight=None, dual=False, fit_intercept=True, intercept_scaling=1, l1_ratio=None, max_iter=100, multi_class='auto', n_jobs=None, penalty='l2', random_state=None, solver='lbfgs', tol=0.0001, verbose=0, warm_start=False), training_cv_folds=5))],\n         verbose=False)\nBest estimator:  ('stackensembleclassifier', StackEnsembleClassifier(\n    base_learners=[('17', Pipeline(\n        memory=None,\n        steps=[('standardscalerwrapper', StandardScalerWrapper(\n            copy=True,\n            with_mean=False,\n            with_std=False\n        )), ('randomforestclassifier', RandomForestClassifier(\n            bootstrap=True,\n            ccp_alpha=0.0,\n            class_weight=None,\n            criterion='gini',\n            max_depth=None,\n            max_features='auto',\n            max_leaf_nodes=None,\n            max_samples=None,\n            min_impurity_decrease=0.0,\n            min_impurity_split=None,\n            min_samples_leaf=1,\n            min_samples_split=2,\n            min_weight_fraction_leaf=0.0,\n            n_estimators=100,\n            n_jobs=1,\n            oob_score=False,\n            random_state=None,\n            verbose=0,\n            warm_start=False\n        ))],\n        verbose=False\n    )), ('11', Pipeline(\n        memory=None,\n        steps=[('sparsenormalizer', Normalizer(\n            copy=True,\n            norm='max'\n        )), ('xgboostclassifier', XGBoostClassifier(\n            random_state=0,\n            n_jobs=1,\n            problem_info=ProblemInfo(\n                gpu_training_param_dict={'processing_unit_type': 'cpu'}\n            ),\n            booster='gbtree',\n            colsample_bytree=0.8,\n            eta=0.3,\n            gamma=0.1,\n            max_depth=10,\n            max_leaves=63,\n            n_estimators=10,\n            objective='reg:logistic',\n            reg_alpha=1.25,\n            reg_lambda=0.7291666666666667,\n            subsample=1,\n            tree_method='auto'\n        ))],\n        verbose=False\n    )), ('8', Pipeline(\n        memory=None,\n        steps=[('standardscalerwrapper', StandardScalerWrapper(\n            copy=True,\n            with_mean=True,\n            with_std=True\n        )), ('logisticregression', LogisticRegression(\n            C=2222.996482526191,\n            class_weight=None,\n            dual=False,\n            fit_intercept=True,\n            intercept_scaling=1,\n            l1_ratio=None,\n            max_iter=100,\n            multi_class='multinomial',\n            n_jobs=1,\n            penalty='l2',\n            random_state=None,\n            solver='lbfgs',\n            tol=0.0001,\n            verbose=0,\n            warm_start=False\n        ))],\n        verbose=False\n    ))],\n    meta_learner=LogisticRegression(\n        C=1.0,\n        class_weight=None,\n        dual=False,\n        fit_intercept=True,\n        intercept_scaling=1,\n        l1_ratio=None,\n        max_iter=100,\n        multi_class='auto',\n        n_jobs=None,\n        penalty='l2',\n        random_state=None,\n        solver='lbfgs',\n        tol=0.0001,\n        verbose=0,\n        warm_start=False\n    ),\n    training_cv_folds=5\n))\n"
        }
      ],
      "execution_count": 18,
      "metadata": {
        "gather": {
          "logged": 1636196496302
        },
        "jupyter": {
          "outputs_hidden": false,
          "source_hidden": false
        },
        "nteract": {
          "transient": {
            "deleting": false
          }
        }
      }
    },
    {
      "cell_type": "code",
      "source": [
        "#TODO: Save the best model\n",
        "best_automl_run.register_model(model_name='automl-model', model_path = '/outputs/model.pkl')"
      ],
      "outputs": [
        {
          "output_type": "execute_result",
          "execution_count": 38,
          "data": {
            "text/plain": "Model(workspace=Workspace.create(name='quick-starts-ws-162865', subscription_id='610d6e37-4747-4a20-80eb-3aad70a55f43', resource_group='aml-quickstarts-162865'), name=automl-model, id=automl-model:1, version=1, tags={}, properties={})"
          },
          "metadata": {}
        }
      ],
      "execution_count": 38,
      "metadata": {
        "gather": {
          "logged": 1636197789649
        },
        "jupyter": {
          "outputs_hidden": false,
          "source_hidden": false
        },
        "nteract": {
          "transient": {
            "deleting": false
          }
        }
      }
    },
    {
      "cell_type": "markdown",
      "source": [
        "## Model Deployment\n",
        "\n",
        "Remember you have to deploy only one of the two models you trained but you still need to register both the models. Perform the steps in the rest of this notebook only if you wish to deploy this model.\n",
        "\n",
        "TODO: In the cell below, register the model, create an inference config and deploy the model as a web service."
      ],
      "metadata": {}
    },
    {
      "cell_type": "code",
      "source": [
        "# deployment config\n",
        "from azureml.core.webservice import Webservice, AciWebservice\n",
        "my_deployment_config = AciWebservice.deploy_configuration(cpu_cores=6)"
      ],
      "outputs": [],
      "execution_count": 39,
      "metadata": {
        "gather": {
          "logged": 1636197800581
        }
      }
    },
    {
      "cell_type": "code",
      "source": [
        "# inference config\n",
        "from azureml.core.model import InferenceConfig\n",
        "from azureml.core.environment import Environment\n",
        "#environment\n",
        "my_env = Environment(name=\"env_AzureML_AutoML_run\")\n",
        "my_inference_config = InferenceConfig(entry_script=\"scoring.py\",environment=my_env)\n"
      ],
      "outputs": [],
      "execution_count": 40,
      "metadata": {
        "gather": {
          "logged": 1636197803088
        }
      }
    },
    {
      "cell_type": "code",
      "source": [
        "from azureml.core.model import InferenceConfig\n",
        "from azureml.core.environment import Environment\n",
        "from azureml.core import Model\n",
        "\n",
        "service = Model.deploy(workspace=ws,  \n",
        "                       name=\"local-deploy-service\", \n",
        "                       models=[best_automl_model], \n",
        "                       inference_config=my_inference_config, \n",
        "                       deployment_config=my_deployment_config)\n",
        "\n",
        "service.wait_for_deployment(show_output=True)"
      ],
      "outputs": [
        {
          "output_type": "error",
          "ename": "AttributeError",
          "evalue": "'Pipeline' object has no attribute 'id'",
          "traceback": [
            "\u001b[0;31m---------------------------------------------------------------------------\u001b[0m",
            "\u001b[0;31mAttributeError\u001b[0m                            Traceback (most recent call last)",
            "\u001b[0;32m<ipython-input-37-80372718dfc5>\u001b[0m in \u001b[0;36m<module>\u001b[0;34m\u001b[0m\n\u001b[1;32m      7\u001b[0m                        \u001b[0mmodels\u001b[0m\u001b[0;34m=\u001b[0m\u001b[0;34m[\u001b[0m\u001b[0mbest_automl_model\u001b[0m\u001b[0;34m]\u001b[0m\u001b[0;34m,\u001b[0m\u001b[0;34m\u001b[0m\u001b[0;34m\u001b[0m\u001b[0m\n\u001b[1;32m      8\u001b[0m                        \u001b[0minference_config\u001b[0m\u001b[0;34m=\u001b[0m\u001b[0mmy_inference_config\u001b[0m\u001b[0;34m,\u001b[0m\u001b[0;34m\u001b[0m\u001b[0;34m\u001b[0m\u001b[0m\n\u001b[0;32m----> 9\u001b[0;31m                        deployment_config=my_deployment_config)\n\u001b[0m\u001b[1;32m     10\u001b[0m \u001b[0;34m\u001b[0m\u001b[0m\n\u001b[1;32m     11\u001b[0m \u001b[0mservice\u001b[0m\u001b[0;34m.\u001b[0m\u001b[0mwait_for_deployment\u001b[0m\u001b[0;34m(\u001b[0m\u001b[0mshow_output\u001b[0m\u001b[0;34m=\u001b[0m\u001b[0;32mTrue\u001b[0m\u001b[0;34m)\u001b[0m\u001b[0;34m\u001b[0m\u001b[0;34m\u001b[0m\u001b[0m\n",
            "\u001b[0;32m/anaconda/envs/azureml_py36/lib/python3.6/site-packages/azureml/core/model.py\u001b[0m in \u001b[0;36mdeploy\u001b[0;34m(workspace, name, models, inference_config, deployment_config, deployment_target, overwrite, show_output)\u001b[0m\n\u001b[1;32m   1668\u001b[0m         \u001b[0;32mif\u001b[0m \u001b[0muse_env_path\u001b[0m\u001b[0;34m:\u001b[0m\u001b[0;34m\u001b[0m\u001b[0;34m\u001b[0m\u001b[0m\n\u001b[1;32m   1669\u001b[0m             return Model._deploy_with_environment(workspace, name, models, inference_config, deployment_config,\n\u001b[0;32m-> 1670\u001b[0;31m                                                   deployment_target, overwrite, show_output)\n\u001b[0m\u001b[1;32m   1671\u001b[0m \u001b[0;34m\u001b[0m\u001b[0m\n\u001b[1;32m   1672\u001b[0m         \u001b[0;31m# ContainerImage-based webservice.\u001b[0m\u001b[0;34m\u001b[0m\u001b[0;34m\u001b[0m\u001b[0;34m\u001b[0m\u001b[0m\n",
            "\u001b[0;32m/anaconda/envs/azureml_py36/lib/python3.6/site-packages/azureml/core/model.py\u001b[0m in \u001b[0;36m_deploy_with_environment\u001b[0;34m(workspace, name, models, inference_config, deployment_config, deployment_target, overwrite, show_output)\u001b[0m\n\u001b[1;32m   1872\u001b[0m         \"\"\"\n\u001b[1;32m   1873\u001b[0m         \u001b[0menvironment_image_request\u001b[0m \u001b[0;34m=\u001b[0m\u001b[0;31m \u001b[0m\u001b[0;31m\\\u001b[0m\u001b[0;34m\u001b[0m\u001b[0;34m\u001b[0m\u001b[0m\n\u001b[0;32m-> 1874\u001b[0;31m             \u001b[0minference_config\u001b[0m\u001b[0;34m.\u001b[0m\u001b[0m_build_environment_image_request\u001b[0m\u001b[0;34m(\u001b[0m\u001b[0mworkspace\u001b[0m\u001b[0;34m,\u001b[0m \u001b[0;34m[\u001b[0m\u001b[0mmodel\u001b[0m\u001b[0;34m.\u001b[0m\u001b[0mid\u001b[0m \u001b[0;32mfor\u001b[0m \u001b[0mmodel\u001b[0m \u001b[0;32min\u001b[0m \u001b[0mmodels\u001b[0m\u001b[0;34m]\u001b[0m\u001b[0;34m,\u001b[0m \u001b[0mshow_output\u001b[0m\u001b[0;34m)\u001b[0m\u001b[0;34m\u001b[0m\u001b[0;34m\u001b[0m\u001b[0m\n\u001b[0m\u001b[1;32m   1875\u001b[0m \u001b[0;34m\u001b[0m\u001b[0m\n\u001b[1;32m   1876\u001b[0m         return Model._deploy_with_environment_image_request(workspace, name, environment_image_request,\n",
            "\u001b[0;32m/anaconda/envs/azureml_py36/lib/python3.6/site-packages/azureml/core/model.py\u001b[0m in \u001b[0;36m<listcomp>\u001b[0;34m(.0)\u001b[0m\n\u001b[1;32m   1872\u001b[0m         \"\"\"\n\u001b[1;32m   1873\u001b[0m         \u001b[0menvironment_image_request\u001b[0m \u001b[0;34m=\u001b[0m\u001b[0;31m \u001b[0m\u001b[0;31m\\\u001b[0m\u001b[0;34m\u001b[0m\u001b[0;34m\u001b[0m\u001b[0m\n\u001b[0;32m-> 1874\u001b[0;31m             \u001b[0minference_config\u001b[0m\u001b[0;34m.\u001b[0m\u001b[0m_build_environment_image_request\u001b[0m\u001b[0;34m(\u001b[0m\u001b[0mworkspace\u001b[0m\u001b[0;34m,\u001b[0m \u001b[0;34m[\u001b[0m\u001b[0mmodel\u001b[0m\u001b[0;34m.\u001b[0m\u001b[0mid\u001b[0m \u001b[0;32mfor\u001b[0m \u001b[0mmodel\u001b[0m \u001b[0;32min\u001b[0m \u001b[0mmodels\u001b[0m\u001b[0;34m]\u001b[0m\u001b[0;34m,\u001b[0m \u001b[0mshow_output\u001b[0m\u001b[0;34m)\u001b[0m\u001b[0;34m\u001b[0m\u001b[0;34m\u001b[0m\u001b[0m\n\u001b[0m\u001b[1;32m   1875\u001b[0m \u001b[0;34m\u001b[0m\u001b[0m\n\u001b[1;32m   1876\u001b[0m         return Model._deploy_with_environment_image_request(workspace, name, environment_image_request,\n",
            "\u001b[0;31mAttributeError\u001b[0m: 'Pipeline' object has no attribute 'id'"
          ]
        }
      ],
      "execution_count": 37,
      "metadata": {
        "gather": {
          "logged": 1598431435189
        },
        "jupyter": {
          "outputs_hidden": false,
          "source_hidden": false
        },
        "nteract": {
          "transient": {
            "deleting": false
          }
        }
      }
    },
    {
      "cell_type": "markdown",
      "source": [
        "TODO: In the cell below, send a request to the web service you deployed to test it."
      ],
      "metadata": {
        "collapsed": true,
        "gather": {
          "logged": 1598431657736
        },
        "jupyter": {
          "outputs_hidden": false,
          "source_hidden": false
        },
        "nteract": {
          "transient": {
            "deleting": false
          }
        }
      }
    },
    {
      "cell_type": "code",
      "source": [
        "import requests\n",
        "import json\n",
        "\n",
        "\n",
        "# get the keys:\n",
        "primary_key, secondary_key = service.get_keys()\n",
        "\n",
        "scoring_uri = service.scoring_uri\n",
        "# If the service is authenticated, set the key or token\n",
        "key = primary_key\n",
        "\n",
        "# Two sets of data to score, so we get two results back\n",
        "data = {\"data\":\n",
        "        [\n",
        "          {\n",
        "            \"type\": white,\n",
        "            \"fixed acidity\": 7,\n",
        "            \"volatile acidity\": 0.27,\n",
        "            \"citric acid\": 0.36,\n",
        "            \"residual sugar\": 20.7,\n",
        "            \"chlorides\": 0.045,\n",
        "            \"free sulfur dioxide\": 45,\n",
        "            \"total sulfur dioxide\": 170,\n",
        "            \"desnsity\": 1.001,\n",
        "            \"pH\": 3,\n",
        "            \"sulphates\": 0.45,\n",
        "            \"alcohol\": 8.8,\n",
        "          },\n",
        "          {\n",
        "            \"type\": red,\n",
        "            \"fixed acidity\": 6,\n",
        "            \"volatile acidity\": 0.31,\n",
        "            \"citric acid\": 0.47,\n",
        "            \"residual sugar\": 3.6,\n",
        "            \"chlorides\": 0.067,\n",
        "            \"free sulfur dioxide\": 18,\n",
        "            \"total sulfur dioxide\": 42,\n",
        "            \"desnsity\": 0.99549,\n",
        "            \"pH\": 3.39,\n",
        "            \"sulphates\": 0.66,\n",
        "            \"alcohol\": 11,\n",
        "          },\n",
        "      ]\n",
        "    }\n",
        "# Convert to JSON string\n",
        "input_data = json.dumps(data)\n",
        "with open(\"data.json\", \"w\") as _f:\n",
        "    _f.write(input_data)\n",
        "\n",
        "# Set the content type\n",
        "headers = {'Content-Type': 'application/json'}\n",
        "# If authentication is enabled, set the authorization header\n",
        "headers['Authorization'] = f'Bearer {key}'\n",
        "\n",
        "# Make the request and display the response\n",
        "resp = requests.post(scoring_uri, input_data, headers=headers)\n",
        "print(resp.json())\n",
        "\n",
        "\n"
      ],
      "outputs": [],
      "execution_count": null,
      "metadata": {
        "gather": {
          "logged": 1598432707604
        },
        "jupyter": {
          "outputs_hidden": false,
          "source_hidden": false
        },
        "nteract": {
          "transient": {
            "deleting": false
          }
        }
      }
    },
    {
      "cell_type": "markdown",
      "source": [
        "TODO: In the cell below, print the logs of the web service and delete the service"
      ],
      "metadata": {
        "collapsed": true,
        "gather": {
          "logged": 1598432765711
        },
        "jupyter": {
          "outputs_hidden": false,
          "source_hidden": false
        },
        "nteract": {
          "transient": {
            "deleting": false
          }
        }
      }
    },
    {
      "cell_type": "code",
      "source": [
        "service.delete()"
      ],
      "outputs": [],
      "execution_count": null,
      "metadata": {
        "jupyter": {
          "outputs_hidden": false,
          "source_hidden": false
        },
        "nteract": {
          "transient": {
            "deleting": false
          }
        }
      }
    },
    {
      "cell_type": "markdown",
      "source": [
        "**Submission Checklist**\n",
        "- I have registered the model.\n",
        "- I have deployed the model with the best accuracy as a webservice.\n",
        "- I have tested the webservice by sending a request to the model endpoint.\n",
        "- I have deleted the webservice and shutdown all the computes that I have used.\n",
        "- I have taken a screenshot showing the model endpoint as active.\n",
        "- The project includes a file containing the environment details.\n"
      ],
      "metadata": {}
    },
    {
      "cell_type": "markdown",
      "source": [],
      "metadata": {}
    }
  ],
  "metadata": {
    "kernel_info": {
      "name": "python3"
    },
    "kernelspec": {
      "name": "python3",
      "language": "python",
      "display_name": "Python 3"
    },
    "language_info": {
      "name": "python",
      "version": "3.6.9",
      "mimetype": "text/x-python",
      "codemirror_mode": {
        "name": "ipython",
        "version": 3
      },
      "pygments_lexer": "ipython3",
      "nbconvert_exporter": "python",
      "file_extension": ".py"
    },
    "nteract": {
      "version": "nteract-front-end@1.0.0"
    },
    "microsoft": {
      "host": {
        "AzureML": {
          "notebookHasBeenCompleted": true
        }
      }
    }
  },
  "nbformat": 4,
  "nbformat_minor": 2
}